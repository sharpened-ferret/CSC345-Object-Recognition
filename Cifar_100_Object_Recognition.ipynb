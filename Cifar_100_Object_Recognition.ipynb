{
  "nbformat": 4,
  "nbformat_minor": 0,
  "metadata": {
    "colab": {
      "name": "Cifar-100 Object Recognition.ipynb",
      "provenance": [],
      "collapsed_sections": [],
      "mount_file_id": "1978h6YcasifMl7mW_0EuZKYsCxfG9y29",
      "authorship_tag": "ABX9TyNaF0cV3N7cGO+SNpa/ll34",
      "include_colab_link": true
    },
    "kernelspec": {
      "name": "python3",
      "display_name": "Python 3"
    },
    "language_info": {
      "name": "python"
    },
    "accelerator": "GPU"
  },
  "cells": [
    {
      "cell_type": "markdown",
      "metadata": {
        "id": "view-in-github",
        "colab_type": "text"
      },
      "source": [
        "<a href=\"https://colab.research.google.com/github/sharpened-ferret/CSC345-Object-Recognition/blob/main/Cifar_100_Object_Recognition.ipynb\" target=\"_parent\"><img src=\"https://colab.research.google.com/assets/colab-badge.svg\" alt=\"Open In Colab\"/></a>"
      ]
    },
    {
      "cell_type": "markdown",
      "source": [
        "# CSC345: Object Recognition Coursework\n",
        "This notebook details two methods for performing object recognition on the provided subset of the Cifar-100 image dataset.\n",
        "\n",
        "The first method uses an SVM trained on HOGs generated from the image dataset.<br>\n",
        "The second method uses a CNN trained on a scaled version of the dataset. "
      ],
      "metadata": {
        "id": "XGWzYNDMXIFX"
      }
    },
    {
      "cell_type": "markdown",
      "source": [
        "# SVM Implementation of Object Recognition on a Subset of the CIFAR-100 Dataset\n",
        "\n",
        "For this implementation, we are using a Support Vector Machine to classify the images in the dataset. \n",
        "\n",
        "This model is trained using Histograms of Oriented Gradients that are generated from the given data files. "
      ],
      "metadata": {
        "id": "3u7hA8qkhYYM"
      }
    },
    {
      "cell_type": "code",
      "source": [
        "import numpy as np\n",
        "import skimage.feature"
      ],
      "metadata": {
        "id": "9KWrjEVqt777"
      },
      "execution_count": null,
      "outputs": []
    },
    {
      "cell_type": "markdown",
      "source": [
        "First, we need to load the training data files. \n",
        "Here, BASE_PATH points to the folder containing the data files. "
      ],
      "metadata": {
        "id": "8URfx4cBe7Tm"
      }
    },
    {
      "cell_type": "code",
      "execution_count": null,
      "metadata": {
        "id": "iDa0iTbHt0lj"
      },
      "outputs": [],
      "source": [
        "BASE_PATH = '/content/drive/MyDrive/Colab Notebooks/cw_data/'\n",
        "\n",
        "images = np.load(BASE_PATH + '/trnImage.npy')\n",
        "label_fine = np.load(BASE_PATH + '/trnLabel_fine.npy')\n",
        "label_coarse = np.load(BASE_PATH + '/trnLabel_coarse.npy')"
      ]
    },
    {
      "cell_type": "markdown",
      "source": [
        "This cell contains a configurable limiter (currently disabled), for training the SVM using less than the entire dataset, to speed up incremental testing."
      ],
      "metadata": {
        "id": "cT3VydPheioz"
      }
    },
    {
      "cell_type": "code",
      "source": [
        "LIMITER = 10000\n",
        "\n",
        "# images = images[:,:,:,:LIMITER]\n",
        "# label_coarse = label_coarse[:LIMITER]\n",
        "# label_fine = label_fine[:LIMITER]"
      ],
      "metadata": {
        "id": "HNq3YaBIuY7U"
      },
      "execution_count": null,
      "outputs": []
    },
    {
      "cell_type": "markdown",
      "source": [
        "To use the provided data with an SVM, it needs some initial processing to generate a Histogram of Oriented Gradients for each image in the data set.\n",
        "\n",
        "This function takes a dataset, in the format provided for the coursework, and returns an array of Histograms, one for each image provided."
      ],
      "metadata": {
        "id": "ErKeFUP-fTtC"
      }
    },
    {
      "cell_type": "code",
      "source": [
        "def gen_hogs(dataset):\n",
        "  ppc = 4\n",
        "  hog_features = []\n",
        "  for image_num in range(dataset.shape[3]):\n",
        "    image = dataset[:, :, :, image_num]\n",
        "    hog_features.append(skimage.feature.hog(image, pixels_per_cell=(6,6), cells_per_block=(2,2), visualize=False))\n",
        "    if image_num % 1000 == 0:\n",
        "      # Prints the current image number every 1000 images to monitor progress\n",
        "      print(image_num)\n",
        "  return hog_features"
      ],
      "metadata": {
        "id": "TCSQruHQwzhx"
      },
      "execution_count": null,
      "outputs": []
    },
    {
      "cell_type": "markdown",
      "source": [
        "Now that our helper function is defined, we can pass the training data into it to generate histograms for modeling. "
      ],
      "metadata": {
        "id": "_WbthdR1f53C"
      }
    },
    {
      "cell_type": "code",
      "source": [
        "features = gen_hogs(images)"
      ],
      "metadata": {
        "colab": {
          "base_uri": "https://localhost:8080/"
        },
        "id": "R2rD65ny0GRV",
        "outputId": "b8b3b58c-a740-44bd-df34-f3355fad3510"
      },
      "execution_count": null,
      "outputs": [
        {
          "output_type": "stream",
          "name": "stdout",
          "text": [
            "0\n",
            "1000\n",
            "2000\n",
            "3000\n",
            "4000\n",
            "5000\n",
            "6000\n",
            "7000\n",
            "8000\n",
            "9000\n",
            "10000\n",
            "11000\n",
            "12000\n",
            "13000\n",
            "14000\n",
            "15000\n",
            "16000\n",
            "17000\n",
            "18000\n",
            "19000\n",
            "20000\n",
            "21000\n",
            "22000\n",
            "23000\n",
            "24000\n",
            "25000\n",
            "26000\n",
            "27000\n",
            "28000\n",
            "29000\n",
            "30000\n",
            "31000\n",
            "32000\n",
            "33000\n",
            "34000\n",
            "35000\n",
            "36000\n",
            "37000\n",
            "38000\n",
            "39000\n",
            "40000\n",
            "41000\n",
            "42000\n",
            "43000\n",
            "44000\n",
            "45000\n",
            "46000\n",
            "47000\n",
            "48000\n",
            "49000\n"
          ]
        }
      ]
    },
    {
      "cell_type": "markdown",
      "source": [
        "We take the histogram array generated, and convert it to an numpy array for easier processing. "
      ],
      "metadata": {
        "id": "CQxxUN6QgRmr"
      }
    },
    {
      "cell_type": "code",
      "source": [
        "features_array = np.array(features)\n",
        "print(features_array.shape)"
      ],
      "metadata": {
        "colab": {
          "base_uri": "https://localhost:8080/"
        },
        "id": "EGas4_ki1paE",
        "outputId": "0dbb6c32-ac46-440a-c3ac-56703097df9d"
      },
      "execution_count": null,
      "outputs": [
        {
          "output_type": "stream",
          "name": "stdout",
          "text": [
            "(50000, 576)\n"
          ]
        }
      ]
    },
    {
      "cell_type": "markdown",
      "source": [
        "Now we can train an SVM on the HOGs from the training data, first using the coarse label set. "
      ],
      "metadata": {
        "id": "O3wIazpAgcWS"
      }
    },
    {
      "cell_type": "code",
      "source": [
        "from sklearn import svm\n",
        "\n",
        "svm = svm.SVC()\n",
        "\n",
        "x_train = features_array\n",
        "y_train = label_coarse\n",
        "\n",
        "svm.fit(x_train, y_train)"
      ],
      "metadata": {
        "id": "y1fckI1m3Yka",
        "colab": {
          "base_uri": "https://localhost:8080/"
        },
        "outputId": "7c617d95-e5b6-42c6-8269-a8e648de6bb5"
      },
      "execution_count": null,
      "outputs": [
        {
          "output_type": "execute_result",
          "data": {
            "text/plain": [
              "SVC()"
            ]
          },
          "metadata": {},
          "execution_count": 7
        }
      ]
    },
    {
      "cell_type": "markdown",
      "source": [
        "For evaluating the model, we first need to load the test data and generate HOGs for it using the same helper function defined earlier. "
      ],
      "metadata": {
        "id": "57xg_PlXgtu_"
      }
    },
    {
      "cell_type": "code",
      "source": [
        "test_images = np.load(BASE_PATH + '/tstImage.npy')\n",
        "test_label_fine = np.load(BASE_PATH + '/tstLabel_fine.npy')\n",
        "test_label_coarse = np.load(BASE_PATH + '/tstLabel_coarse.npy')"
      ],
      "metadata": {
        "id": "LOYgop3jJhYp"
      },
      "execution_count": null,
      "outputs": []
    },
    {
      "cell_type": "code",
      "source": [
        "x_test = np.array(gen_hogs(test_images))\n",
        "y_test = test_label_coarse"
      ],
      "metadata": {
        "id": "N_rIQQQ3JvCX",
        "colab": {
          "base_uri": "https://localhost:8080/"
        },
        "outputId": "670cf307-54ad-4352-9440-4b2dbc397746"
      },
      "execution_count": null,
      "outputs": [
        {
          "output_type": "stream",
          "name": "stdout",
          "text": [
            "0\n",
            "1000\n",
            "2000\n",
            "3000\n",
            "4000\n",
            "5000\n",
            "6000\n",
            "7000\n",
            "8000\n",
            "9000\n"
          ]
        }
      ]
    },
    {
      "cell_type": "markdown",
      "source": [
        "Then, we can run predictions on the model using the prepared test data, and evaluate the accuracy of the classification. "
      ],
      "metadata": {
        "id": "K-n3BaPehExF"
      }
    },
    {
      "cell_type": "code",
      "source": [
        "y_predict = svm.predict(x_test)"
      ],
      "metadata": {
        "id": "urwAOgGd5qRr"
      },
      "execution_count": null,
      "outputs": []
    },
    {
      "cell_type": "code",
      "source": [
        "from sklearn.metrics import accuracy_score, classification_report\n",
        "\n",
        "print(\"Accuracy: \"+str(accuracy_score(y_test, y_predict)))\n",
        "print(classification_report(y_test, y_predict))"
      ],
      "metadata": {
        "id": "OB1rwq6ncHLo",
        "colab": {
          "base_uri": "https://localhost:8080/"
        },
        "outputId": "bf4886df-07d2-4057-d00f-4b605cb45f35"
      },
      "execution_count": null,
      "outputs": [
        {
          "output_type": "stream",
          "name": "stdout",
          "text": [
            "Accuracy: 0.3939\n",
            "              precision    recall  f1-score   support\n",
            "\n",
            "           0       0.28      0.30      0.29       500\n",
            "           1       0.36      0.38      0.37       500\n",
            "           2       0.31      0.35      0.33       500\n",
            "           3       0.57      0.59      0.58       500\n",
            "           4       0.47      0.39      0.43       500\n",
            "           5       0.56      0.43      0.49       500\n",
            "           6       0.57      0.64      0.60       500\n",
            "           7       0.33      0.37      0.35       500\n",
            "           8       0.26      0.35      0.30       500\n",
            "           9       0.45      0.53      0.48       500\n",
            "          10       0.59      0.50      0.54       500\n",
            "          11       0.28      0.29      0.28       500\n",
            "          12       0.22      0.20      0.21       500\n",
            "          13       0.30      0.22      0.25       500\n",
            "          14       0.41      0.38      0.40       500\n",
            "          15       0.25      0.24      0.24       500\n",
            "          16       0.26      0.22      0.24       500\n",
            "          17       0.53      0.63      0.57       500\n",
            "          18       0.50      0.44      0.47       500\n",
            "          19       0.42      0.43      0.42       500\n",
            "\n",
            "    accuracy                           0.39     10000\n",
            "   macro avg       0.40      0.39      0.39     10000\n",
            "weighted avg       0.40      0.39      0.39     10000\n",
            "\n"
          ]
        }
      ]
    },
    {
      "cell_type": "markdown",
      "source": [
        "# CNN Implementation of Object Recognition on a Subset of the CIFAR-100 Dataset\n",
        "\n",
        "For this implementation, we are using a Convolutional Neural Network to classify images from the dataset."
      ],
      "metadata": {
        "id": "jBWU4nEyiSzS"
      }
    },
    {
      "cell_type": "code",
      "execution_count": 1,
      "metadata": {
        "id": "2JkCBzJYUsQ1"
      },
      "outputs": [],
      "source": [
        "import numpy as np\n",
        "import matplotlib.pyplot as plt\n",
        "import skimage.feature"
      ]
    },
    {
      "cell_type": "markdown",
      "source": [
        "First, we need to load the training data files. Here, BASE_PATH points to the folder containing the data files."
      ],
      "metadata": {
        "id": "paJo85UdWuKo"
      }
    },
    {
      "cell_type": "code",
      "source": [
        "BASE_PATH = '/content/drive/MyDrive/Colab Notebooks/cw_data/'\n",
        "\n",
        "trn_images = np.load(BASE_PATH+'/trnImage.npy')\n",
        "trn_label_fine = np.load(BASE_PATH+'/trnLabel_fine.npy')\n",
        "trn_label_coarse = np.load(BASE_PATH+'/trnLabel_coarse.npy')\n",
        "\n",
        "print(f'Images Shape: {trn_images.shape}')\n",
        "print(f'Images Fine Labels Shape: {trn_label_fine.shape}')\n",
        "print(f'Images Coarse Labels Shape: {trn_label_coarse.shape}')"
      ],
      "metadata": {
        "colab": {
          "base_uri": "https://localhost:8080/"
        },
        "id": "JipYl4AMWpR6",
        "outputId": "283fd04b-3d19-4908-a235-468bab27477e"
      },
      "execution_count": 3,
      "outputs": [
        {
          "output_type": "stream",
          "name": "stdout",
          "text": [
            "Images Shape: (32, 32, 3, 50000)\n",
            "Images Fine Labels Shape: (50000,)\n",
            "Images Coarse Labels Shape: (50000,)\n"
          ]
        }
      ]
    },
    {
      "cell_type": "markdown",
      "source": [
        "The data format provided is not the standard expected for Tensorflow Keras models, so we need to transpose so that the sample number is the first dimension."
      ],
      "metadata": {
        "id": "0EnzrKmpkvJq"
      }
    },
    {
      "cell_type": "code",
      "source": [
        "print(trn_images.shape)\n",
        "trn_images = np.transpose(trn_images, (3,0,1,2))\n",
        "print(trn_images.shape)"
      ],
      "metadata": {
        "colab": {
          "base_uri": "https://localhost:8080/"
        },
        "id": "SspcgenEUbI1",
        "outputId": "a3e20a7b-e2cd-4b46-91a0-6aa645e5e73c"
      },
      "execution_count": 4,
      "outputs": [
        {
          "output_type": "stream",
          "name": "stdout",
          "text": [
            "(32, 32, 3, 50000)\n",
            "(50000, 32, 32, 3)\n"
          ]
        }
      ]
    },
    {
      "cell_type": "markdown",
      "source": [
        "Now that the data is loaded and processed, we define the properties for our CNN and compile it. "
      ],
      "metadata": {
        "id": "AY8q18AelHUm"
      }
    },
    {
      "cell_type": "code",
      "source": [
        "import tensorflow as tf\n",
        "\n",
        "model = tf.keras.Sequential()\n",
        "model.add(tf.keras.layers.Conv2D(64, kernel_size=(3,3), activation='relu', input_shape=(32,32,3), padding=\"same\"))\n",
        "model.add(tf.keras.layers.MaxPooling2D(pool_size=(2,2)))\n",
        "model.add(tf.keras.layers.Conv2D(128, kernel_size=(3,3), activation='relu',padding=\"same\"))\n",
        "model.add(tf.keras.layers.MaxPooling2D(pool_size=(2, 2)))\n",
        "model.add(tf.keras.layers.Conv2D(256, kernel_size=(3,3), activation='relu',padding=\"same\"))\n",
        "model.add(tf.keras.layers.SpatialDropout2D(0.2))\n",
        "model.add(tf.keras.layers.AveragePooling2D(pool_size=(2, 2)))\n",
        "model.add(tf.keras.layers.Conv2D(256, kernel_size=(3, 3), activation='relu',padding=\"same\"))\n",
        "model.add(tf.keras.layers.Flatten())\n",
        "model.add(tf.keras.layers.Dense(128, activation='relu'))\n",
        "model.add(tf.keras.layers.Dropout(0.5))\n",
        "model.add(tf.keras.layers.Dense(100))\n",
        "\n",
        "model.compile(\n",
        "    optimizer='adam',\n",
        "    loss=tf.keras.losses.SparseCategoricalCrossentropy(from_logits=True),\n",
        "    metrics=['accuracy']\n",
        ")"
      ],
      "metadata": {
        "id": "tn46d63uK3Hg"
      },
      "execution_count": 5,
      "outputs": []
    },
    {
      "cell_type": "markdown",
      "source": [
        "Then we can fit our prepared training data to the compiled model, using an 80:20 training:validation split. "
      ],
      "metadata": {
        "id": "upE2bxV3lkrY"
      }
    },
    {
      "cell_type": "code",
      "source": [
        "x_train = trn_images.astype(\"float32\")\n",
        "\n",
        "history = model.fit(x_train, trn_label_coarse, batch_size=128, epochs=10, validation_split=0.2, verbose=1)"
      ],
      "metadata": {
        "colab": {
          "base_uri": "https://localhost:8080/"
        },
        "id": "w8OcvM1VMFni",
        "outputId": "091336b7-869e-4dc2-fbf9-8311715e5535"
      },
      "execution_count": 6,
      "outputs": [
        {
          "output_type": "stream",
          "name": "stdout",
          "text": [
            "Epoch 1/10\n",
            "313/313 [==============================] - 23s 33ms/step - loss: 2.9645 - accuracy: 0.1294 - val_loss: 2.4595 - val_accuracy: 0.2489\n",
            "Epoch 2/10\n",
            "313/313 [==============================] - 9s 30ms/step - loss: 2.4553 - accuracy: 0.2465 - val_loss: 2.1754 - val_accuracy: 0.3239\n",
            "Epoch 3/10\n",
            "313/313 [==============================] - 10s 30ms/step - loss: 2.2503 - accuracy: 0.3086 - val_loss: 2.0280 - val_accuracy: 0.3774\n",
            "Epoch 4/10\n",
            "313/313 [==============================] - 9s 30ms/step - loss: 2.1270 - accuracy: 0.3508 - val_loss: 1.9351 - val_accuracy: 0.4019\n",
            "Epoch 5/10\n",
            "313/313 [==============================] - 10s 30ms/step - loss: 1.9997 - accuracy: 0.3853 - val_loss: 1.8420 - val_accuracy: 0.4308\n",
            "Epoch 6/10\n",
            "313/313 [==============================] - 9s 30ms/step - loss: 1.8790 - accuracy: 0.4203 - val_loss: 1.7501 - val_accuracy: 0.4531\n",
            "Epoch 7/10\n",
            "313/313 [==============================] - 9s 30ms/step - loss: 1.7647 - accuracy: 0.4510 - val_loss: 1.6574 - val_accuracy: 0.4807\n",
            "Epoch 8/10\n",
            "313/313 [==============================] - 9s 30ms/step - loss: 1.6795 - accuracy: 0.4787 - val_loss: 1.5633 - val_accuracy: 0.5110\n",
            "Epoch 9/10\n",
            "313/313 [==============================] - 9s 30ms/step - loss: 1.5953 - accuracy: 0.5026 - val_loss: 1.5299 - val_accuracy: 0.5266\n",
            "Epoch 10/10\n",
            "313/313 [==============================] - 9s 30ms/step - loss: 1.5151 - accuracy: 0.5238 - val_loss: 1.5086 - val_accuracy: 0.5339\n"
          ]
        }
      ]
    },
    {
      "cell_type": "markdown",
      "source": [
        "Graphs of the Model's performance during training:"
      ],
      "metadata": {
        "id": "FJXiqsEAXMvI"
      }
    },
    {
      "cell_type": "code",
      "source": [
        "plt.figure()\n",
        "plt.plot(history.history['accuracy'], label='accuracy')\n",
        "plt.plot(history.history['val_accuracy'], label = 'val_accuracy')\n",
        "plt.title(\"Accuracy Curves\")\n",
        "plt.xlabel('Epochs')\n",
        "plt.ylabel('Accuracy')\n",
        "plt.legend()\n",
        "plt.show()\n",
        "\n",
        "plt.figure()\n",
        "plt.plot(history.history['loss'], label='loss')\n",
        "plt.plot(history.history['val_loss'], label='Validation loss')\n",
        "plt.title(\"Loss Curves\")\n",
        "plt.xlabel('Epochs')\n",
        "plt.ylabel('Loss')\n",
        "plt.legend()\n",
        "plt.show()"
      ],
      "metadata": {
        "id": "3YoLj5YYWUiw",
        "colab": {
          "base_uri": "https://localhost:8080/",
          "height": 573
        },
        "outputId": "02c51b88-c597-496a-837f-7497a37bc23c"
      },
      "execution_count": 7,
      "outputs": [
        {
          "output_type": "display_data",
          "data": {
            "text/plain": [
              "<Figure size 432x288 with 1 Axes>"
            ],
            "image/png": "[encoded data removed]"
          },
          "metadata": {
            "needs_background": "light"
          }
        },
        {
          "output_type": "display_data",
          "data": {
            "text/plain": [
              "<Figure size 432x288 with 1 Axes>"
            ],
            "image/png": "[encoded data removed]"
          },
          "metadata": {
            "needs_background": "light"
          }
        }
      ]
    },
    {
      "cell_type": "markdown",
      "source": [
        "To test our model, we can now load and prepare the test data, and run an evaluation function. "
      ],
      "metadata": {
        "id": "5QXMr_L_l40Z"
      }
    },
    {
      "cell_type": "code",
      "source": [
        "tst_images = np.load(BASE_PATH+'/tstImage.npy')\n",
        "tst_label_fine = np.load(BASE_PATH+'/tstLabel_fine.npy')\n",
        "tst_label_coarse = np.load(BASE_PATH+'/tstLabel_coarse.npy')\n",
        "\n",
        "tst_images = np.transpose(tst_images, (3,0,1,2))\n",
        "tst_images = tst_images.astype(\"float32\")\n",
        "\n",
        "model.evaluate(tst_images, tst_label_coarse, verbose=1)"
      ],
      "metadata": {
        "id": "bl4S-RR7n0Mn",
        "colab": {
          "base_uri": "https://localhost:8080/"
        },
        "outputId": "7d06c44f-46ab-432c-e837-35241cf79eaa"
      },
      "execution_count": 8,
      "outputs": [
        {
          "output_type": "stream",
          "name": "stdout",
          "text": [
            "313/313 [==============================] - 2s 7ms/step - loss: 1.5046 - accuracy: 0.5292\n"
          ]
        },
        {
          "output_type": "execute_result",
          "data": {
            "text/plain": [
              "[1.5046004056930542, 0.52920001745224]"
            ]
          },
          "metadata": {},
          "execution_count": 8
        }
      ]
    },
    {
      "cell_type": "code",
      "source": [
        "model.compile(\n",
        "    optimizer='adam',\n",
        "    loss=tf.keras.losses.SparseCategoricalCrossentropy(from_logits=True),\n",
        "    metrics=['accuracy']\n",
        ")"
      ],
      "metadata": {
        "id": "RaA34eB-zjYU"
      },
      "execution_count": 9,
      "outputs": []
    },
    {
      "cell_type": "code",
      "source": [
        "history_fine = model.fit(x_train, trn_label_fine, batch_size=128, epochs=10, validation_split=0.2, verbose=1)"
      ],
      "metadata": {
        "colab": {
          "base_uri": "https://localhost:8080/"
        },
        "id": "Qd6lO86VztzP",
        "outputId": "30191cc1-333c-468c-bc88-f2df9b032113"
      },
      "execution_count": 10,
      "outputs": [
        {
          "output_type": "stream",
          "name": "stdout",
          "text": [
            "Epoch 1/10\n",
            "313/313 [==============================] - 11s 31ms/step - loss: 4.7236 - accuracy: 0.0126 - val_loss: 4.5222 - val_accuracy: 0.0206\n",
            "Epoch 2/10\n",
            "313/313 [==============================] - 9s 30ms/step - loss: 4.4828 - accuracy: 0.0249 - val_loss: 4.3182 - val_accuracy: 0.0418\n",
            "Epoch 3/10\n",
            "313/313 [==============================] - 9s 30ms/step - loss: 4.2118 - accuracy: 0.0452 - val_loss: 3.7723 - val_accuracy: 0.1188\n",
            "Epoch 4/10\n",
            "313/313 [==============================] - 9s 30ms/step - loss: 3.6406 - accuracy: 0.1207 - val_loss: 3.0022 - val_accuracy: 0.2516\n",
            "Epoch 5/10\n",
            "313/313 [==============================] - 9s 30ms/step - loss: 3.1395 - accuracy: 0.2130 - val_loss: 2.6799 - val_accuracy: 0.3272\n",
            "Epoch 6/10\n",
            "313/313 [==============================] - 9s 30ms/step - loss: 2.8434 - accuracy: 0.2713 - val_loss: 2.5585 - val_accuracy: 0.3479\n",
            "Epoch 7/10\n",
            "313/313 [==============================] - 9s 30ms/step - loss: 2.6362 - accuracy: 0.3124 - val_loss: 2.4685 - val_accuracy: 0.3730\n",
            "Epoch 8/10\n",
            "313/313 [==============================] - 9s 30ms/step - loss: 2.4833 - accuracy: 0.3430 - val_loss: 2.3876 - val_accuracy: 0.3858\n",
            "Epoch 9/10\n",
            "313/313 [==============================] - 9s 29ms/step - loss: 2.3312 - accuracy: 0.3743 - val_loss: 2.3233 - val_accuracy: 0.3968\n",
            "Epoch 10/10\n",
            "313/313 [==============================] - 9s 30ms/step - loss: 2.2294 - accuracy: 0.3960 - val_loss: 2.2696 - val_accuracy: 0.4096\n"
          ]
        }
      ]
    },
    {
      "cell_type": "markdown",
      "source": [
        "Graphs of the Model's performance during training:"
      ],
      "metadata": {
        "id": "P1abahRd0S1I"
      }
    },
    {
      "cell_type": "code",
      "source": [
        "plt.figure()\n",
        "plt.plot(history_fine.history['accuracy'], label='accuracy')\n",
        "plt.plot(history_fine.history['val_accuracy'], label = 'val_accuracy')\n",
        "plt.title(\"Accuracy Curves\")\n",
        "plt.xlabel('Epochs')\n",
        "plt.ylabel('Accuracy')\n",
        "plt.legend()\n",
        "plt.show()\n",
        "\n",
        "plt.figure()\n",
        "plt.plot(history_fine.history['loss'], label='loss')\n",
        "plt.plot(history_fine.history['val_loss'], label='Validation loss')\n",
        "plt.title(\"Loss Curves\")\n",
        "plt.xlabel('Epochs')\n",
        "plt.ylabel('Loss')\n",
        "plt.legend()\n",
        "plt.show()"
      ],
      "metadata": {
        "colab": {
          "base_uri": "https://localhost:8080/",
          "height": 573
        },
        "outputId": "0ea62ae7-b27f-4605-9be4-04fe88d60cad",
        "id": "dk4QbQe30Utw"
      },
      "execution_count": 11,
      "outputs": [
        {
          "output_type": "display_data",
          "data": {
            "text/plain": [
              "<Figure size 432x288 with 1 Axes>"
            ],
            "image/png": "[encoded data removed]"
          },
          "metadata": {
            "needs_background": "light"
          }
        },
        {
          "output_type": "display_data",
          "data": {
            "text/plain": [
              "<Figure size 432x288 with 1 Axes>"
            ],
            "image/png": "[encoded data removed]"
          },
          "metadata": {
            "needs_background": "light"
          }
        }
      ]
    },
    {
      "cell_type": "markdown",
      "source": [
        "Now time to evaluate the performance of the model on the fine labels."
      ],
      "metadata": {
        "id": "iQaaHHqH0g4O"
      }
    },
    {
      "cell_type": "code",
      "source": [
        "model.evaluate(tst_images, tst_label_fine, verbose=1)"
      ],
      "metadata": {
        "colab": {
          "base_uri": "https://localhost:8080/"
        },
        "outputId": "f0798b33-d1a0-459b-aae6-eba541af5ea3",
        "id": "kG46EWY40o-s"
      },
      "execution_count": 12,
      "outputs": [
        {
          "output_type": "stream",
          "name": "stdout",
          "text": [
            "313/313 [==============================] - 2s 8ms/step - loss: 2.2407 - accuracy: 0.4188\n"
          ]
        },
        {
          "output_type": "execute_result",
          "data": {
            "text/plain": [
              "[2.2406935691833496, 0.4187999963760376]"
            ]
          },
          "metadata": {},
          "execution_count": 12
        }
      ]
    }
  ]
}