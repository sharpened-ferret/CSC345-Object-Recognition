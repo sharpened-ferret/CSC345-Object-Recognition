{
  "nbformat": 4,
  "nbformat_minor": 0,
  "metadata": {
    "colab": {
      "name": "Object Recognition - Manual.ipynb",
      "provenance": [],
      "collapsed_sections": [],
      "mount_file_id": "1nXnmp8Xjmsl7pW9hbXTupCF-4DeZGIrx",
      "authorship_tag": "ABX9TyN6jF/QurYkYoVk2yta7Uru",
      "include_colab_link": true
    },
    "kernelspec": {
      "name": "python3",
      "display_name": "Python 3"
    },
    "language_info": {
      "name": "python"
    }
  },
  "cells": [
    {
      "cell_type": "markdown",
      "metadata": {
        "id": "view-in-github",
        "colab_type": "text"
      },
      "source": [
        "<a href=\"https://colab.research.google.com/github/sharpened-ferret/CSC345-Object-Recognition/blob/main/Object_Recognition_Manual.ipynb\" target=\"_parent\"><img src=\"https://colab.research.google.com/assets/colab-badge.svg\" alt=\"Open In Colab\"/></a>"
      ]
    },
    {
      "cell_type": "code",
      "source": [
        "import numpy as np\n",
        "import skimage.feature"
      ],
      "metadata": {
        "id": "9KWrjEVqt777"
      },
      "execution_count": 1,
      "outputs": []
    },
    {
      "cell_type": "code",
      "execution_count": 2,
      "metadata": {
        "id": "iDa0iTbHt0lj"
      },
      "outputs": [],
      "source": [
        "BASE_PATH = '/content/drive/MyDrive/Colab Notebooks/cw_data/'\n",
        "\n",
        "images = np.load(BASE_PATH + '/trnImage.npy')\n",
        "label_fine = np.load(BASE_PATH + '/trnLabel_fine.npy')\n",
        "label_coarse = np.load(BASE_PATH + '/trnLabel_coarse.npy')"
      ]
    },
    {
      "cell_type": "code",
      "source": [
        "print(images.shape)\n",
        "print(label_coarse.shape)\n",
        "\n",
        "LIMITER = 10000\n",
        "\n",
        "# images = images[:,:,:,:LIMITER]\n",
        "# label_coarse = label_coarse[:LIMITER]\n",
        "# label_fine = label_fine[:LIMITER]"
      ],
      "metadata": {
        "id": "HNq3YaBIuY7U",
        "colab": {
          "base_uri": "https://localhost:8080/"
        },
        "outputId": "985429ae-c158-41c0-ce0f-12cc79f861f0"
      },
      "execution_count": 3,
      "outputs": [
        {
          "output_type": "stream",
          "name": "stdout",
          "text": [
            "(32, 32, 3, 50000)\n",
            "(50000,)\n"
          ]
        }
      ]
    },
    {
      "cell_type": "code",
      "source": [
        "def gen_hogs(dataset):\n",
        "  ppc = 4\n",
        "  hog_features = []\n",
        "  for image_num in range(dataset.shape[3]):\n",
        "    image = dataset[:, :, :, image_num]\n",
        "    hog_features.append(skimage.feature.hog(image, pixels_per_cell=(6,6), cells_per_block=(2,2), visualize=False))\n",
        "    if image_num % 1000 == 0:\n",
        "      print(image_num)\n",
        "  return hog_features\n",
        "\n"
      ],
      "metadata": {
        "id": "TCSQruHQwzhx"
      },
      "execution_count": 4,
      "outputs": []
    },
    {
      "cell_type": "code",
      "source": [
        "features = gen_hogs(images)"
      ],
      "metadata": {
        "colab": {
          "base_uri": "https://localhost:8080/"
        },
        "id": "R2rD65ny0GRV",
        "outputId": "32df0171-d1ff-423c-ad9d-8a0816d5d09d"
      },
      "execution_count": 5,
      "outputs": [
        {
          "output_type": "stream",
          "name": "stdout",
          "text": [
            "0\n",
            "1000\n",
            "2000\n",
            "3000\n",
            "4000\n",
            "5000\n",
            "6000\n",
            "7000\n",
            "8000\n",
            "9000\n",
            "10000\n",
            "11000\n",
            "12000\n",
            "13000\n",
            "14000\n",
            "15000\n",
            "16000\n",
            "17000\n",
            "18000\n",
            "19000\n",
            "20000\n",
            "21000\n",
            "22000\n",
            "23000\n",
            "24000\n",
            "25000\n",
            "26000\n",
            "27000\n",
            "28000\n",
            "29000\n",
            "30000\n",
            "31000\n",
            "32000\n",
            "33000\n",
            "34000\n",
            "35000\n",
            "36000\n",
            "37000\n",
            "38000\n",
            "39000\n",
            "40000\n",
            "41000\n",
            "42000\n",
            "43000\n",
            "44000\n",
            "45000\n",
            "46000\n",
            "47000\n",
            "48000\n",
            "49000\n"
          ]
        }
      ]
    },
    {
      "cell_type": "code",
      "source": [
        "features_array = np.array(features)\n",
        "print(features_array.shape)"
      ],
      "metadata": {
        "colab": {
          "base_uri": "https://localhost:8080/"
        },
        "id": "EGas4_ki1paE",
        "outputId": "4dfdabb2-adf2-41d7-c4fa-0d1c71f83403"
      },
      "execution_count": 6,
      "outputs": [
        {
          "output_type": "stream",
          "name": "stdout",
          "text": [
            "(50000, 576)\n"
          ]
        }
      ]
    },
    {
      "cell_type": "code",
      "source": [
        "from sklearn import svm\n",
        "\n",
        "svm = svm.SVC()\n",
        "\n",
        "x_train = features_array\n",
        "y_train = label_coarse\n",
        "\n",
        "svm.fit(x_train, y_train)"
      ],
      "metadata": {
        "id": "y1fckI1m3Yka",
        "colab": {
          "base_uri": "https://localhost:8080/"
        },
        "outputId": "e1c633fc-1c8f-4814-bed9-4cb06ad402dd"
      },
      "execution_count": 7,
      "outputs": [
        {
          "output_type": "execute_result",
          "data": {
            "text/plain": [
              "SVC()"
            ]
          },
          "metadata": {},
          "execution_count": 7
        }
      ]
    },
    {
      "cell_type": "code",
      "source": [
        "test_images = np.load(BASE_PATH + '/tstImage.npy')\n",
        "test_label_fine = np.load(BASE_PATH + '/tstLabel_fine.npy')\n",
        "test_label_coarse = np.load(BASE_PATH + '/tstLabel_coarse.npy')"
      ],
      "metadata": {
        "id": "LOYgop3jJhYp"
      },
      "execution_count": 8,
      "outputs": []
    },
    {
      "cell_type": "code",
      "source": [
        "x_test = np.array(gen_hogs(test_images))\n",
        "y_test = test_label_coarse"
      ],
      "metadata": {
        "id": "N_rIQQQ3JvCX",
        "colab": {
          "base_uri": "https://localhost:8080/"
        },
        "outputId": "54500625-67c9-407e-f8a5-e77f137d2c3d"
      },
      "execution_count": 9,
      "outputs": [
        {
          "output_type": "stream",
          "name": "stdout",
          "text": [
            "0\n",
            "1000\n",
            "2000\n",
            "3000\n",
            "4000\n",
            "5000\n",
            "6000\n",
            "7000\n",
            "8000\n",
            "9000\n"
          ]
        }
      ]
    },
    {
      "cell_type": "code",
      "source": [
        "from sklearn.metrics import accuracy_score\n",
        "\n",
        "y_predict = svm.predict(x_test)\n",
        "print(\"Accuracy: \"+str(accuracy_score(y_test, y_predict)))"
      ],
      "metadata": {
        "id": "urwAOgGd5qRr",
        "colab": {
          "base_uri": "https://localhost:8080/"
        },
        "outputId": "09dc8952-d14a-4473-9043-cb75843535d4"
      },
      "execution_count": 10,
      "outputs": [
        {
          "output_type": "stream",
          "name": "stdout",
          "text": [
            "Accuracy: 0.3939\n"
          ]
        }
      ]
    }
  ]
}