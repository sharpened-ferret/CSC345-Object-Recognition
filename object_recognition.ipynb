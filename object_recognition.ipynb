{
  "nbformat": 4,
  "nbformat_minor": 0,
  "metadata": {
    "colab": {
      "name": "object_recognition.ipynb",
      "provenance": [],
      "collapsed_sections": [],
      "mount_file_id": "1jilcSF-uqRnzhOyHWtxW7DPPs353DNrH",
      "authorship_tag": "ABX9TyMALsTCG0Ggnvlrsm2Q3UDG",
      "include_colab_link": true
    },
    "kernelspec": {
      "name": "python3",
      "display_name": "Python 3"
    },
    "language_info": {
      "name": "python"
    },
    "accelerator": "GPU"
  },
  "cells": [
    {
      "cell_type": "markdown",
      "metadata": {
        "id": "view-in-github",
        "colab_type": "text"
      },
      "source": [
        "<a href=\"https://colab.research.google.com/github/sharpened-ferret/CSC345-Object-Recognition/blob/main/object_recognition.ipynb\" target=\"_parent\"><img src=\"https://colab.research.google.com/assets/colab-badge.svg\" alt=\"Open In Colab\"/></a>"
      ]
    },
    {
      "cell_type": "markdown",
      "source": [
        "# CSC345: Object Recognition Coursework\n",
        "This notebook details an object recognition method for a subset of the CIFAR-100 dataset"
      ],
      "metadata": {
        "id": "XGWzYNDMXIFX"
      }
    },
    {
      "cell_type": "markdown",
      "source": [
        "# CNN Implementation of Object Recognition on a Subset of the CIFAR-100 Dataset\n",
        "\n",
        "For this implementation, we are using a Convolutional Neural Network to classify images from the dataset."
      ],
      "metadata": {
        "id": "jBWU4nEyiSzS"
      }
    },
    {
      "cell_type": "code",
      "execution_count": 1,
      "metadata": {
        "id": "2JkCBzJYUsQ1"
      },
      "outputs": [],
      "source": [
        "import numpy as np\n",
        "import matplotlib.pyplot as plt\n",
        "import skimage.feature"
      ]
    },
    {
      "cell_type": "markdown",
      "source": [
        "First, we need to load the training data files. Here, BASE_PATH points to the folder containing the data files."
      ],
      "metadata": {
        "id": "paJo85UdWuKo"
      }
    },
    {
      "cell_type": "code",
      "source": [
        "BASE_PATH = '/content/drive/MyDrive/Colab Notebooks/cw_data/'\n",
        "\n",
        "trn_images = np.load(BASE_PATH+'/trnImage.npy')\n",
        "trn_label_fine = np.load(BASE_PATH+'/trnLabel_fine.npy')\n",
        "trn_label_coarse = np.load(BASE_PATH+'/trnLabel_coarse.npy')\n",
        "\n",
        "print(f'Images Shape: {trn_images.shape}')\n",
        "print(f'Images Fine Labels Shape: {trn_label_fine.shape}')\n",
        "print(f'Images Coarse Labels Shape: {trn_label_coarse.shape}')"
      ],
      "metadata": {
        "colab": {
          "base_uri": "https://localhost:8080/"
        },
        "id": "JipYl4AMWpR6",
        "outputId": "98057ac5-9e4d-4c5c-cc25-250fda551655"
      },
      "execution_count": 2,
      "outputs": [
        {
          "output_type": "stream",
          "name": "stdout",
          "text": [
            "Images Shape: (32, 32, 3, 50000)\n",
            "Images Fine Labels Shape: (50000,)\n",
            "Images Coarse Labels Shape: (50000,)\n"
          ]
        }
      ]
    },
    {
      "cell_type": "markdown",
      "source": [
        "The data format provided is not the standard expected for Tensorflow Keras models, so we need to transpose so that the sample number is the first dimension."
      ],
      "metadata": {
        "id": "0EnzrKmpkvJq"
      }
    },
    {
      "cell_type": "code",
      "source": [
        "print(trn_images.shape)\n",
        "trn_images = np.transpose(trn_images, (3,0,1,2))\n",
        "print(trn_images.shape)"
      ],
      "metadata": {
        "colab": {
          "base_uri": "https://localhost:8080/"
        },
        "id": "SspcgenEUbI1",
        "outputId": "5a366f28-0010-4d3b-cc1f-65d80847b9a0"
      },
      "execution_count": 3,
      "outputs": [
        {
          "output_type": "stream",
          "name": "stdout",
          "text": [
            "(32, 32, 3, 50000)\n",
            "(50000, 32, 32, 3)\n"
          ]
        }
      ]
    },
    {
      "cell_type": "markdown",
      "source": [
        "Now that the data is loaded and processed, we define the properties for our CNN and compile it. "
      ],
      "metadata": {
        "id": "AY8q18AelHUm"
      }
    },
    {
      "cell_type": "code",
      "source": [
        "import tensorflow as tf\n",
        "\n",
        "model = tf.keras.Sequential()\n",
        "model.add(tf.keras.layers.Conv2D(64, kernel_size=(3,3), activation='relu', input_shape=(32,32,3), padding=\"same\"))\n",
        "model.add(tf.keras.layers.MaxPooling2D(pool_size=(2,2)))\n",
        "model.add(tf.keras.layers.Conv2D(128, kernel_size=(3,3), activation='relu',padding=\"same\"))\n",
        "model.add(tf.keras.layers.MaxPooling2D(pool_size=(2, 2)))\n",
        "model.add(tf.keras.layers.Conv2D(256, kernel_size=(3,3), activation='relu',padding=\"same\"))\n",
        "model.add(tf.keras.layers.SpatialDropout2D(0.2))\n",
        "model.add(tf.keras.layers.AveragePooling2D(pool_size=(2, 2)))\n",
        "model.add(tf.keras.layers.Conv2D(256, kernel_size=(3, 3), activation='relu',padding=\"same\"))\n",
        "model.add(tf.keras.layers.Flatten())\n",
        "model.add(tf.keras.layers.Dense(128, activation='relu'))\n",
        "model.add(tf.keras.layers.Dropout(0.5))\n",
        "model.add(tf.keras.layers.Dense(100))\n",
        "\n",
        "model.compile(\n",
        "    optimizer='adam',\n",
        "    loss=tf.keras.losses.SparseCategoricalCrossentropy(from_logits=True),\n",
        "    metrics=['accuracy']\n",
        ")"
      ],
      "metadata": {
        "id": "tn46d63uK3Hg"
      },
      "execution_count": 4,
      "outputs": []
    },
    {
      "cell_type": "markdown",
      "source": [
        "Then we can fit our prepared training data to the compiled model, using an 80:20 training:validation split. "
      ],
      "metadata": {
        "id": "upE2bxV3lkrY"
      }
    },
    {
      "cell_type": "code",
      "source": [
        "x_train = trn_images.astype(\"float32\")\n",
        "\n",
        "history = model.fit(x_train, trn_label_coarse, batch_size=128, epochs=20, validation_split=0.2, verbose=1)"
      ],
      "metadata": {
        "colab": {
          "base_uri": "https://localhost:8080/"
        },
        "id": "w8OcvM1VMFni",
        "outputId": "bba919d8-7e51-44c0-def2-e1b92710ecc2"
      },
      "execution_count": 5,
      "outputs": [
        {
          "output_type": "stream",
          "name": "stdout",
          "text": [
            "Epoch 1/20\n",
            "313/313 [==============================] - 16s 16ms/step - loss: 2.9668 - accuracy: 0.1272 - val_loss: 2.4414 - val_accuracy: 0.2429\n",
            "Epoch 2/20\n",
            "313/313 [==============================] - 5s 14ms/step - loss: 2.4578 - accuracy: 0.2462 - val_loss: 2.2241 - val_accuracy: 0.3206\n",
            "Epoch 3/20\n",
            "313/313 [==============================] - 4s 14ms/step - loss: 2.2504 - accuracy: 0.3057 - val_loss: 2.1061 - val_accuracy: 0.3468\n",
            "Epoch 4/20\n",
            "313/313 [==============================] - 4s 14ms/step - loss: 2.1135 - accuracy: 0.3489 - val_loss: 1.8841 - val_accuracy: 0.4121\n",
            "Epoch 5/20\n",
            "313/313 [==============================] - 4s 14ms/step - loss: 1.9825 - accuracy: 0.3892 - val_loss: 1.7807 - val_accuracy: 0.4464\n",
            "Epoch 6/20\n",
            "313/313 [==============================] - 5s 15ms/step - loss: 1.8696 - accuracy: 0.4220 - val_loss: 1.7057 - val_accuracy: 0.4687\n",
            "Epoch 7/20\n",
            "313/313 [==============================] - 5s 14ms/step - loss: 1.7688 - accuracy: 0.4515 - val_loss: 1.7098 - val_accuracy: 0.4706\n",
            "Epoch 8/20\n",
            "313/313 [==============================] - 5s 15ms/step - loss: 1.6822 - accuracy: 0.4779 - val_loss: 1.5969 - val_accuracy: 0.5068\n",
            "Epoch 9/20\n",
            "313/313 [==============================] - 4s 14ms/step - loss: 1.6028 - accuracy: 0.5009 - val_loss: 1.5821 - val_accuracy: 0.5101\n",
            "Epoch 10/20\n",
            "313/313 [==============================] - 5s 15ms/step - loss: 1.5232 - accuracy: 0.5217 - val_loss: 1.5094 - val_accuracy: 0.5319\n",
            "Epoch 11/20\n",
            "313/313 [==============================] - 5s 15ms/step - loss: 1.4516 - accuracy: 0.5436 - val_loss: 1.4884 - val_accuracy: 0.5371\n",
            "Epoch 12/20\n",
            "313/313 [==============================] - 5s 15ms/step - loss: 1.3872 - accuracy: 0.5602 - val_loss: 1.4552 - val_accuracy: 0.5489\n",
            "Epoch 13/20\n",
            "313/313 [==============================] - 5s 16ms/step - loss: 1.3022 - accuracy: 0.5839 - val_loss: 1.4539 - val_accuracy: 0.5500\n",
            "Epoch 14/20\n",
            "313/313 [==============================] - 5s 15ms/step - loss: 1.2410 - accuracy: 0.6025 - val_loss: 1.4487 - val_accuracy: 0.5584\n",
            "Epoch 15/20\n",
            "313/313 [==============================] - 5s 15ms/step - loss: 1.1735 - accuracy: 0.6223 - val_loss: 1.4070 - val_accuracy: 0.5734\n",
            "Epoch 16/20\n",
            "313/313 [==============================] - 5s 15ms/step - loss: 1.1116 - accuracy: 0.6403 - val_loss: 1.4187 - val_accuracy: 0.5716\n",
            "Epoch 17/20\n",
            "313/313 [==============================] - 5s 15ms/step - loss: 1.0552 - accuracy: 0.6569 - val_loss: 1.4332 - val_accuracy: 0.5753\n",
            "Epoch 18/20\n",
            "313/313 [==============================] - 5s 15ms/step - loss: 0.9975 - accuracy: 0.6703 - val_loss: 1.4163 - val_accuracy: 0.5802\n",
            "Epoch 19/20\n",
            "313/313 [==============================] - 5s 15ms/step - loss: 0.9418 - accuracy: 0.6893 - val_loss: 1.4381 - val_accuracy: 0.5833\n",
            "Epoch 20/20\n",
            "313/313 [==============================] - 5s 15ms/step - loss: 0.8883 - accuracy: 0.7061 - val_loss: 1.4414 - val_accuracy: 0.5820\n"
          ]
        }
      ]
    },
    {
      "cell_type": "markdown",
      "source": [
        "Graphs of the Model's performance during training:"
      ],
      "metadata": {
        "id": "FJXiqsEAXMvI"
      }
    },
    {
      "cell_type": "code",
      "source": [
        "plt.figure()\n",
        "plt.plot(history.history['accuracy'], label='accuracy')\n",
        "plt.plot(history.history['val_accuracy'], label = 'val_accuracy')\n",
        "plt.title(\"Accuracy Curves\")\n",
        "plt.xlabel('Epochs')\n",
        "plt.ylabel('Accuracy')\n",
        "plt.legend()\n",
        "plt.show()\n",
        "\n",
        "plt.figure()\n",
        "plt.plot(history.history['loss'], label='loss')\n",
        "plt.plot(history.history['val_loss'], label='Validation loss')\n",
        "plt.title(\"Loss Curves\")\n",
        "plt.xlabel('Epochs')\n",
        "plt.ylabel('Loss')\n",
        "plt.legend()\n",
        "plt.show()"
      ],
      "metadata": {
        "id": "3YoLj5YYWUiw",
        "colab": {
          "base_uri": "https://localhost:8080/",
          "height": 573
        },
        "outputId": "e4bcdd62-c4f8-4bad-8da2-20e89b9d8b87"
      },
      "execution_count": 6,
      "outputs": [
        {
          "output_type": "display_data",
          "data": {
            "text/plain": [
              "<Figure size 432x288 with 1 Axes>"
            ],
            "image/png": "[encoded data removed]"
          },
          "metadata": {
            "needs_background": "light"
          }
        },
        {
          "output_type": "display_data",
          "data": {
            "text/plain": [
              "<Figure size 432x288 with 1 Axes>"
            ],
            "image/png": "[encoded data removed]"
          },
          "metadata": {
            "needs_background": "light"
          }
        }
      ]
    },
    {
      "cell_type": "markdown",
      "source": [
        "To test our model, we can now load and prepare the test data, and run an evaluation function. "
      ],
      "metadata": {
        "id": "5QXMr_L_l40Z"
      }
    },
    {
      "cell_type": "code",
      "source": [
        "tst_images = np.load(BASE_PATH+'/tstImage.npy')\n",
        "tst_label_fine = np.load(BASE_PATH+'/tstLabel_fine.npy')\n",
        "tst_label_coarse = np.load(BASE_PATH+'/tstLabel_coarse.npy')\n",
        "\n",
        "tst_images = np.transpose(tst_images, (3,0,1,2))\n",
        "tst_images = tst_images.astype(\"float32\")\n",
        "\n",
        "model.evaluate(tst_images, tst_label_coarse, verbose=1)"
      ],
      "metadata": {
        "id": "bl4S-RR7n0Mn",
        "colab": {
          "base_uri": "https://localhost:8080/"
        },
        "outputId": "e77049d0-825e-4fe4-f7ea-b36c48ee06ff"
      },
      "execution_count": 7,
      "outputs": [
        {
          "output_type": "stream",
          "name": "stdout",
          "text": [
            "313/313 [==============================] - 1s 4ms/step - loss: 1.4276 - accuracy: 0.5795\n"
          ]
        },
        {
          "output_type": "execute_result",
          "data": {
            "text/plain": [
              "[1.4276225566864014, 0.5795000195503235]"
            ]
          },
          "metadata": {},
          "execution_count": 7
        }
      ]
    }
  ]
}