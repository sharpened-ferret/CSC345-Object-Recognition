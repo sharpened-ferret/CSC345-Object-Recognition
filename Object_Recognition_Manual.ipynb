{
  "nbformat": 4,
  "nbformat_minor": 0,
  "metadata": {
    "colab": {
      "name": "Object Recognition - Manual.ipynb",
      "provenance": [],
      "collapsed_sections": [],
      "mount_file_id": "1nXnmp8Xjmsl7pW9hbXTupCF-4DeZGIrx",
      "authorship_tag": "ABX9TyNXt10TG4mF/es9l6XIuo1l",
      "include_colab_link": true
    },
    "kernelspec": {
      "name": "python3",
      "display_name": "Python 3"
    },
    "language_info": {
      "name": "python"
    }
  },
  "cells": [
    {
      "cell_type": "markdown",
      "metadata": {
        "id": "view-in-github",
        "colab_type": "text"
      },
      "source": [
        "<a href=\"https://colab.research.google.com/github/sharpened-ferret/CSC345-Object-Recognition/blob/main/Object_Recognition_Manual.ipynb\" target=\"_parent\"><img src=\"https://colab.research.google.com/assets/colab-badge.svg\" alt=\"Open In Colab\"/></a>"
      ]
    },
    {
      "cell_type": "markdown",
      "source": [
        "# SVM Implementation of Object Recognition on a Subset of the CIFAR-100 Dataset\n",
        "\n",
        "For this implementation, we are using a Support Vector Machine to classify the images in the dataset. \n",
        "\n",
        "This model is trained using Histograms of Oriented Gradients that are generated from the given data files. "
      ],
      "metadata": {
        "id": "3u7hA8qkhYYM"
      }
    },
    {
      "cell_type": "code",
      "source": [
        "import numpy as np\n",
        "import skimage.feature"
      ],
      "metadata": {
        "id": "9KWrjEVqt777"
      },
      "execution_count": 1,
      "outputs": []
    },
    {
      "cell_type": "markdown",
      "source": [
        "First, we need to load the training data files. \n",
        "Here, BASE_PATH points to the folder containing the data files. "
      ],
      "metadata": {
        "id": "8URfx4cBe7Tm"
      }
    },
    {
      "cell_type": "code",
      "execution_count": 2,
      "metadata": {
        "id": "iDa0iTbHt0lj"
      },
      "outputs": [],
      "source": [
        "BASE_PATH = '/content/drive/MyDrive/Colab Notebooks/cw_data/'\n",
        "\n",
        "images = np.load(BASE_PATH + '/trnImage.npy')\n",
        "label_fine = np.load(BASE_PATH + '/trnLabel_fine.npy')\n",
        "label_coarse = np.load(BASE_PATH + '/trnLabel_coarse.npy')"
      ]
    },
    {
      "cell_type": "markdown",
      "source": [
        "This cell contains a configurable limiter (currently disabled), for training the SVM using less than the entire dataset, to speed up incremental testing."
      ],
      "metadata": {
        "id": "cT3VydPheioz"
      }
    },
    {
      "cell_type": "code",
      "source": [
        "LIMITER = 10000\n",
        "\n",
        "# images = images[:,:,:,:LIMITER]\n",
        "# label_coarse = label_coarse[:LIMITER]\n",
        "# label_fine = label_fine[:LIMITER]"
      ],
      "metadata": {
        "id": "HNq3YaBIuY7U"
      },
      "execution_count": 12,
      "outputs": []
    },
    {
      "cell_type": "markdown",
      "source": [
        "To use the provided data with an SVM, it needs some initial processing to generate a Histogram of Oriented Gradients for each image in the data set.\n",
        "\n",
        "This function takes a dataset, in the format provided for the coursework, and returns an array of Histograms, one for each image provided."
      ],
      "metadata": {
        "id": "ErKeFUP-fTtC"
      }
    },
    {
      "cell_type": "code",
      "source": [
        "def gen_hogs(dataset):\n",
        "  ppc = 4\n",
        "  hog_features = []\n",
        "  for image_num in range(dataset.shape[3]):\n",
        "    image = dataset[:, :, :, image_num]\n",
        "    hog_features.append(skimage.feature.hog(image, pixels_per_cell=(6,6), cells_per_block=(2,2), visualize=False))\n",
        "    if image_num % 1000 == 0:\n",
        "      # Prints the current image number every 1000 images to monitor progress\n",
        "      print(image_num)\n",
        "  return hog_features"
      ],
      "metadata": {
        "id": "TCSQruHQwzhx"
      },
      "execution_count": 4,
      "outputs": []
    },
    {
      "cell_type": "markdown",
      "source": [
        "Now that our helper function is defined, we can pass the training data into it to generate histograms for modeling. "
      ],
      "metadata": {
        "id": "_WbthdR1f53C"
      }
    },
    {
      "cell_type": "code",
      "source": [
        "features = gen_hogs(images)"
      ],
      "metadata": {
        "colab": {
          "base_uri": "https://localhost:8080/"
        },
        "id": "R2rD65ny0GRV",
        "outputId": "b8b3b58c-a740-44bd-df34-f3355fad3510"
      },
      "execution_count": 5,
      "outputs": [
        {
          "output_type": "stream",
          "name": "stdout",
          "text": [
            "0\n",
            "1000\n",
            "2000\n",
            "3000\n",
            "4000\n",
            "5000\n",
            "6000\n",
            "7000\n",
            "8000\n",
            "9000\n",
            "10000\n",
            "11000\n",
            "12000\n",
            "13000\n",
            "14000\n",
            "15000\n",
            "16000\n",
            "17000\n",
            "18000\n",
            "19000\n",
            "20000\n",
            "21000\n",
            "22000\n",
            "23000\n",
            "24000\n",
            "25000\n",
            "26000\n",
            "27000\n",
            "28000\n",
            "29000\n",
            "30000\n",
            "31000\n",
            "32000\n",
            "33000\n",
            "34000\n",
            "35000\n",
            "36000\n",
            "37000\n",
            "38000\n",
            "39000\n",
            "40000\n",
            "41000\n",
            "42000\n",
            "43000\n",
            "44000\n",
            "45000\n",
            "46000\n",
            "47000\n",
            "48000\n",
            "49000\n"
          ]
        }
      ]
    },
    {
      "cell_type": "markdown",
      "source": [
        "We take the histogram array generated, and convert it to an numpy array for easier processing. "
      ],
      "metadata": {
        "id": "CQxxUN6QgRmr"
      }
    },
    {
      "cell_type": "code",
      "source": [
        "features_array = np.array(features)\n",
        "print(features_array.shape)"
      ],
      "metadata": {
        "colab": {
          "base_uri": "https://localhost:8080/"
        },
        "id": "EGas4_ki1paE",
        "outputId": "0dbb6c32-ac46-440a-c3ac-56703097df9d"
      },
      "execution_count": 6,
      "outputs": [
        {
          "output_type": "stream",
          "name": "stdout",
          "text": [
            "(50000, 576)\n"
          ]
        }
      ]
    },
    {
      "cell_type": "markdown",
      "source": [
        "Now we can train an SVM on the HOGs from the training data, first using the coarse label set. "
      ],
      "metadata": {
        "id": "O3wIazpAgcWS"
      }
    },
    {
      "cell_type": "code",
      "source": [
        "from sklearn import svm\n",
        "\n",
        "svm = svm.SVC()\n",
        "\n",
        "x_train = features_array\n",
        "y_train = label_coarse\n",
        "\n",
        "svm.fit(x_train, y_train)"
      ],
      "metadata": {
        "id": "y1fckI1m3Yka",
        "colab": {
          "base_uri": "https://localhost:8080/"
        },
        "outputId": "7c617d95-e5b6-42c6-8269-a8e648de6bb5"
      },
      "execution_count": 7,
      "outputs": [
        {
          "output_type": "execute_result",
          "data": {
            "text/plain": [
              "SVC()"
            ]
          },
          "metadata": {},
          "execution_count": 7
        }
      ]
    },
    {
      "cell_type": "markdown",
      "source": [
        "For evaluating the model, we first need to load the test data and generate HOGs for it using the same helper function defined earlier. "
      ],
      "metadata": {
        "id": "57xg_PlXgtu_"
      }
    },
    {
      "cell_type": "code",
      "source": [
        "test_images = np.load(BASE_PATH + '/tstImage.npy')\n",
        "test_label_fine = np.load(BASE_PATH + '/tstLabel_fine.npy')\n",
        "test_label_coarse = np.load(BASE_PATH + '/tstLabel_coarse.npy')"
      ],
      "metadata": {
        "id": "LOYgop3jJhYp"
      },
      "execution_count": 8,
      "outputs": []
    },
    {
      "cell_type": "code",
      "source": [
        "x_test = np.array(gen_hogs(test_images))\n",
        "y_test = test_label_coarse"
      ],
      "metadata": {
        "id": "N_rIQQQ3JvCX",
        "colab": {
          "base_uri": "https://localhost:8080/"
        },
        "outputId": "670cf307-54ad-4352-9440-4b2dbc397746"
      },
      "execution_count": 9,
      "outputs": [
        {
          "output_type": "stream",
          "name": "stdout",
          "text": [
            "0\n",
            "1000\n",
            "2000\n",
            "3000\n",
            "4000\n",
            "5000\n",
            "6000\n",
            "7000\n",
            "8000\n",
            "9000\n"
          ]
        }
      ]
    },
    {
      "cell_type": "markdown",
      "source": [
        "Then, we can run predictions on the model using the prepared test data, and evaluate the accuracy of the classification. "
      ],
      "metadata": {
        "id": "K-n3BaPehExF"
      }
    },
    {
      "cell_type": "code",
      "source": [
        "y_predict = svm.predict(x_test)"
      ],
      "metadata": {
        "id": "urwAOgGd5qRr"
      },
      "execution_count": 10,
      "outputs": []
    },
    {
      "cell_type": "code",
      "source": [
        "from sklearn.metrics import accuracy_score, classification_report\n",
        "\n",
        "print(\"Accuracy: \"+str(accuracy_score(y_test, y_predict)))\n",
        "print(classification_report(y_test, y_predict))"
      ],
      "metadata": {
        "id": "OB1rwq6ncHLo",
        "colab": {
          "base_uri": "https://localhost:8080/"
        },
        "outputId": "bf4886df-07d2-4057-d00f-4b605cb45f35"
      },
      "execution_count": 11,
      "outputs": [
        {
          "output_type": "stream",
          "name": "stdout",
          "text": [
            "Accuracy: 0.3939\n",
            "              precision    recall  f1-score   support\n",
            "\n",
            "           0       0.28      0.30      0.29       500\n",
            "           1       0.36      0.38      0.37       500\n",
            "           2       0.31      0.35      0.33       500\n",
            "           3       0.57      0.59      0.58       500\n",
            "           4       0.47      0.39      0.43       500\n",
            "           5       0.56      0.43      0.49       500\n",
            "           6       0.57      0.64      0.60       500\n",
            "           7       0.33      0.37      0.35       500\n",
            "           8       0.26      0.35      0.30       500\n",
            "           9       0.45      0.53      0.48       500\n",
            "          10       0.59      0.50      0.54       500\n",
            "          11       0.28      0.29      0.28       500\n",
            "          12       0.22      0.20      0.21       500\n",
            "          13       0.30      0.22      0.25       500\n",
            "          14       0.41      0.38      0.40       500\n",
            "          15       0.25      0.24      0.24       500\n",
            "          16       0.26      0.22      0.24       500\n",
            "          17       0.53      0.63      0.57       500\n",
            "          18       0.50      0.44      0.47       500\n",
            "          19       0.42      0.43      0.42       500\n",
            "\n",
            "    accuracy                           0.39     10000\n",
            "   macro avg       0.40      0.39      0.39     10000\n",
            "weighted avg       0.40      0.39      0.39     10000\n",
            "\n"
          ]
        }
      ]
    }
  ]
}