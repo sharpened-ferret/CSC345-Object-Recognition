{
  "nbformat": 4,
  "nbformat_minor": 0,
  "metadata": {
    "colab": {
      "name": "object_recognition.ipynb",
      "provenance": [],
      "collapsed_sections": [],
      "mount_file_id": "1jilcSF-uqRnzhOyHWtxW7DPPs353DNrH",
      "authorship_tag": "ABX9TyPz2hA/ZlG+rgHtKK3oVPKT",
      "include_colab_link": true
    },
    "kernelspec": {
      "name": "python3",
      "display_name": "Python 3"
    },
    "language_info": {
      "name": "python"
    },
    "accelerator": "GPU"
  },
  "cells": [
    {
      "cell_type": "markdown",
      "metadata": {
        "id": "view-in-github",
        "colab_type": "text"
      },
      "source": [
        "<a href=\"https://colab.research.google.com/github/sharpened-ferret/CSC345-Object-Recognition/blob/main/object_recognition.ipynb\" target=\"_parent\"><img src=\"https://colab.research.google.com/assets/colab-badge.svg\" alt=\"Open In Colab\"/></a>"
      ]
    },
    {
      "cell_type": "markdown",
      "source": [
        "# CSC345: Object Recognition Coursework\n",
        "This notebook details an object recognition method for a subset of the CIFAR-100 dataset"
      ],
      "metadata": {
        "id": "XGWzYNDMXIFX"
      }
    },
    {
      "cell_type": "code",
      "execution_count": 7,
      "metadata": {
        "id": "2JkCBzJYUsQ1"
      },
      "outputs": [],
      "source": [
        "import numpy as np\n",
        "import matplotlib.pyplot as plt\n",
        "import skimage.feature\n",
        "\n",
        "BASE_PATH = '/content/drive/MyDrive/Colab Notebooks/cw_data/'"
      ]
    },
    {
      "cell_type": "markdown",
      "source": [
        "Loads the training data"
      ],
      "metadata": {
        "id": "paJo85UdWuKo"
      }
    },
    {
      "cell_type": "code",
      "source": [
        "trn_images = np.load(BASE_PATH+'/trnImage.npy')\n",
        "trn_label_fine = np.load(BASE_PATH+'/trnLabel_fine.npy')\n",
        "trn_label_coarse = np.load(BASE_PATH+'/trnLabel_coarse.npy')\n",
        "\n",
        "# trn_label_coarse = tf.keras.utils.to_categorical(trn_label_coarse, 20)\n",
        "\n",
        "print(f'Images Shape: {trn_images.shape}')\n",
        "print(f'Images Fine Labels Shape: {trn_label_fine.shape}')\n",
        "print(f'Images Coarse Labels Shape: {trn_label_coarse.shape}')\n",
        "image_index = 2 # pick a specific image\n",
        "image = trn_images[:, :, :, image_index]"
      ],
      "metadata": {
        "colab": {
          "base_uri": "https://localhost:8080/"
        },
        "id": "JipYl4AMWpR6",
        "outputId": "46d16307-9df6-415d-b9a4-609d1b60b6c8"
      },
      "execution_count": 17,
      "outputs": [
        {
          "output_type": "stream",
          "name": "stdout",
          "text": [
            "Images Shape: (32, 32, 3, 50000)\n",
            "Images Fine Labels Shape: (50000,)\n",
            "Images Coarse Labels Shape: (50000,)\n"
          ]
        }
      ]
    },
    {
      "cell_type": "code",
      "source": [
        "print(trn_images.shape)\n",
        "trn_images = np.transpose(trn_images, (3,0,1,2))\n",
        "print(trn_images.shape)"
      ],
      "metadata": {
        "colab": {
          "base_uri": "https://localhost:8080/"
        },
        "id": "SspcgenEUbI1",
        "outputId": "b3b4892e-b49d-4dab-a025-f7be8b3db0aa"
      },
      "execution_count": 18,
      "outputs": [
        {
          "output_type": "stream",
          "name": "stdout",
          "text": [
            "(32, 32, 3, 50000)\n",
            "(50000, 32, 32, 3)\n"
          ]
        }
      ]
    },
    {
      "cell_type": "code",
      "source": [
        "import tensorflow as tf\n",
        "\n",
        "x_train = trn_images.astype(\"float32\") / 255\n",
        "print(x_train.shape)\n",
        "\n",
        "model = tf.keras.Sequential()\n",
        "model.add(tf.keras.layers.Conv2D(64, kernel_size=(3,3), activation='relu', input_shape=(32,32,3)))\n",
        "model.add(tf.keras.layers.MaxPooling2D(pool_size=(2,2)))\n",
        "model.add(tf.keras.layers.Conv2D(128, 3, activation='relu'))\n",
        "model.add(tf.keras.layers.MaxPooling2D(pool_size=(2, 2)))\n",
        "model.add(tf.keras.layers.Conv2D(128, kernel_size=(3, 3), activation='relu'))\n",
        "model.add(tf.keras.layers.Flatten())\n",
        "model.add(tf.keras.layers.Dense(128, activation='relu'))\n",
        "model.add(tf.keras.layers.Dense(20))\n",
        "\n",
        "model.compile(\n",
        "    optimizer='adam',\n",
        "    loss=tf.keras.losses.SparseCategoricalCrossentropy(from_logits=True),\n",
        "    metrics=['accuracy']\n",
        ")"
      ],
      "metadata": {
        "colab": {
          "base_uri": "https://localhost:8080/"
        },
        "id": "tn46d63uK3Hg",
        "outputId": "69429970-8f02-4b30-81e9-48628986020d"
      },
      "execution_count": 20,
      "outputs": [
        {
          "output_type": "stream",
          "name": "stdout",
          "text": [
            "(50000, 32, 32, 3)\n"
          ]
        }
      ]
    },
    {
      "cell_type": "code",
      "source": [
        "history = model.fit(x_train, trn_label_coarse, batch_size=256, epochs=20, validation_split=0.2, verbose=1)"
      ],
      "metadata": {
        "colab": {
          "base_uri": "https://localhost:8080/"
        },
        "id": "w8OcvM1VMFni",
        "outputId": "7ff6a4bd-2066-4461-90dd-683bd4efb1a1"
      },
      "execution_count": 21,
      "outputs": [
        {
          "output_type": "stream",
          "name": "stdout",
          "text": [
            "Epoch 1/20\n",
            "157/157 [==============================] - 6s 35ms/step - loss: 2.9535 - accuracy: 0.0728 - val_loss: 2.8195 - val_accuracy: 0.1120\n",
            "Epoch 2/20\n",
            "157/157 [==============================] - 5s 31ms/step - loss: 2.7655 - accuracy: 0.1335 - val_loss: 2.7338 - val_accuracy: 0.1420\n",
            "Epoch 3/20\n",
            "157/157 [==============================] - 5s 30ms/step - loss: 2.7161 - accuracy: 0.1520 - val_loss: 2.7165 - val_accuracy: 0.1510\n",
            "Epoch 4/20\n",
            "157/157 [==============================] - 5s 30ms/step - loss: 2.6941 - accuracy: 0.1621 - val_loss: 2.6820 - val_accuracy: 0.1585\n",
            "Epoch 5/20\n",
            "157/157 [==============================] - 5s 30ms/step - loss: 2.6528 - accuracy: 0.1753 - val_loss: 2.6411 - val_accuracy: 0.1770\n",
            "Epoch 6/20\n",
            "157/157 [==============================] - 5s 30ms/step - loss: 2.6122 - accuracy: 0.1861 - val_loss: 2.5976 - val_accuracy: 0.1929\n",
            "Epoch 7/20\n",
            "157/157 [==============================] - 5s 31ms/step - loss: 2.5778 - accuracy: 0.1982 - val_loss: 2.5708 - val_accuracy: 0.2038\n",
            "Epoch 8/20\n",
            "157/157 [==============================] - 5s 31ms/step - loss: 2.5532 - accuracy: 0.2028 - val_loss: 2.6541 - val_accuracy: 0.1807\n",
            "Epoch 9/20\n",
            "157/157 [==============================] - 5s 31ms/step - loss: 2.5436 - accuracy: 0.2080 - val_loss: 2.5455 - val_accuracy: 0.2104\n",
            "Epoch 10/20\n",
            "157/157 [==============================] - 5s 30ms/step - loss: 2.5304 - accuracy: 0.2146 - val_loss: 2.5330 - val_accuracy: 0.2139\n",
            "Epoch 11/20\n",
            "157/157 [==============================] - 5s 31ms/step - loss: 2.5058 - accuracy: 0.2192 - val_loss: 2.5175 - val_accuracy: 0.2189\n",
            "Epoch 12/20\n",
            "157/157 [==============================] - 5s 30ms/step - loss: 2.4990 - accuracy: 0.2235 - val_loss: 2.5341 - val_accuracy: 0.2221\n",
            "Epoch 13/20\n",
            "157/157 [==============================] - 5s 30ms/step - loss: 2.4818 - accuracy: 0.2257 - val_loss: 2.5350 - val_accuracy: 0.2113\n",
            "Epoch 14/20\n",
            "157/157 [==============================] - 5s 30ms/step - loss: 2.4735 - accuracy: 0.2308 - val_loss: 2.4797 - val_accuracy: 0.2286\n",
            "Epoch 15/20\n",
            "157/157 [==============================] - 5s 30ms/step - loss: 2.4502 - accuracy: 0.2388 - val_loss: 2.5117 - val_accuracy: 0.2207\n",
            "Epoch 16/20\n",
            "157/157 [==============================] - 5s 30ms/step - loss: 2.4395 - accuracy: 0.2421 - val_loss: 2.4577 - val_accuracy: 0.2318\n",
            "Epoch 17/20\n",
            "157/157 [==============================] - 5s 31ms/step - loss: 2.4273 - accuracy: 0.2449 - val_loss: 2.4517 - val_accuracy: 0.2387\n",
            "Epoch 18/20\n",
            "157/157 [==============================] - 5s 30ms/step - loss: 2.4191 - accuracy: 0.2478 - val_loss: 2.4600 - val_accuracy: 0.2416\n",
            "Epoch 19/20\n",
            "157/157 [==============================] - 5s 30ms/step - loss: 2.4098 - accuracy: 0.2526 - val_loss: 2.4495 - val_accuracy: 0.2399\n",
            "Epoch 20/20\n",
            "157/157 [==============================] - 5s 30ms/step - loss: 2.4037 - accuracy: 0.2529 - val_loss: 2.4121 - val_accuracy: 0.2554\n"
          ]
        }
      ]
    },
    {
      "cell_type": "markdown",
      "source": [
        "Graphs of the Model's performance during training:"
      ],
      "metadata": {
        "id": "FJXiqsEAXMvI"
      }
    },
    {
      "cell_type": "code",
      "source": [
        "plt.figure()\n",
        "plt.plot(history.history['accuracy'], label='accuracy')\n",
        "plt.plot(history.history['val_accuracy'], label = 'val_accuracy')\n",
        "plt.title(\"Accuracy Curves\")\n",
        "plt.xlabel('Epochs')\n",
        "plt.ylabel('Accuracy')\n",
        "plt.legend()\n",
        "plt.show()\n",
        "\n",
        "plt.figure()\n",
        "plt.plot(history.history['loss'], label='loss')\n",
        "plt.plot(history.history['val_loss'], label='Validation loss')\n",
        "plt.title(\"Loss Curves\")\n",
        "plt.xlabel('Epochs')\n",
        "plt.ylabel('Loss')\n",
        "plt.legend()\n",
        "plt.show()"
      ],
      "metadata": {
        "id": "3YoLj5YYWUiw",
        "colab": {
          "base_uri": "https://localhost:8080/",
          "height": 573
        },
        "outputId": "7e07e244-fe0b-48b5-ffe4-333181c9680b"
      },
      "execution_count": 22,
      "outputs": [
        {
          "output_type": "display_data",
          "data": {
            "text/plain": [
              "<Figure size 432x288 with 1 Axes>"
            ],
            "image/png": "[encoded data removed]"
          },
          "metadata": {
            "needs_background": "light"
          }
        },
        {
          "output_type": "display_data",
          "data": {
            "text/plain": [
              "<Figure size 432x288 with 1 Axes>"
            ],
            "image/png": "[encoded data removed]"
          },
          "metadata": {
            "needs_background": "light"
          }
        }
      ]
    },
    {
      "cell_type": "code",
      "source": [
        "tst_images = np.load(BASE_PATH+'/tstImage.npy')\n",
        "tst_label_fine = np.load(BASE_PATH+'/tstLabel_fine.npy')\n",
        "tst_label_coarse = np.load(BASE_PATH+'/tstLabel_coarse.npy')\n",
        "\n",
        "tst_images = np.transpose(tst_images, (3,0,1,2))\n",
        "print(tst_images.shape)\n",
        "print(tst_label_coarse.shape)\n",
        "\n",
        "model.evaluate(tst_images, tst_label_coarse, verbose=1)"
      ],
      "metadata": {
        "id": "bl4S-RR7n0Mn",
        "colab": {
          "base_uri": "https://localhost:8080/"
        },
        "outputId": "ecbbdcf6-ca59-447b-c6fe-14dd05ff06e7"
      },
      "execution_count": 23,
      "outputs": [
        {
          "output_type": "stream",
          "name": "stdout",
          "text": [
            "(10000, 32, 32, 3)\n",
            "(10000,)\n",
            "313/313 [==============================] - 2s 6ms/step - loss: 473.8932 - accuracy: 0.0769\n"
          ]
        },
        {
          "output_type": "execute_result",
          "data": {
            "text/plain": [
              "[473.8931884765625, 0.07689999788999557]"
            ]
          },
          "metadata": {},
          "execution_count": 23
        }
      ]
    }
  ]
}