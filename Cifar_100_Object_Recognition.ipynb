{
  "nbformat": 4,
  "nbformat_minor": 0,
  "metadata": {
    "colab": {
      "name": "Cifar-100 Object Recognition.ipynb",
      "provenance": [],
      "collapsed_sections": [],
      "mount_file_id": "1978h6YcasifMl7mW_0EuZKYsCxfG9y29",
      "authorship_tag": "ABX9TyN2+g7ENIoKLQDIHx+lOWRg"
    },
    "kernelspec": {
      "name": "python3",
      "display_name": "Python 3"
    },
    "language_info": {
      "name": "python"
    },
    "accelerator": "GPU"
  },
  "cells": [
    {
      "cell_type": "markdown",
      "source": [
        "# CSC345: Object Recognition Coursework\n",
        "This notebook details two methods for performing object recognition on the provided subset of the Cifar-100 image dataset.\n",
        "\n",
        "The first method uses an SVM trained on HOGs generated from the image dataset.<br>\n",
        "The second method uses a CNN trained on a scaled version of the dataset. "
      ],
      "metadata": {
        "id": "XGWzYNDMXIFX"
      }
    },
    {
      "cell_type": "markdown",
      "source": [
        "# SVM Implementation of Object Recognition on a Subset of the CIFAR-100 Dataset\n",
        "\n",
        "For this implementation, we are using a Support Vector Machine to classify the images in the dataset. \n",
        "\n",
        "This model is trained using Histograms of Oriented Gradients that are generated from the given data files. \n",
        "\n",
        "This section contains two runs, the first using the coarse labels for the data, and the second using the fine labels."
      ],
      "metadata": {
        "id": "3u7hA8qkhYYM"
      }
    },
    {
      "cell_type": "code",
      "source": [
        "import numpy as np\n",
        "import skimage.feature"
      ],
      "metadata": {
        "id": "9KWrjEVqt777"
      },
      "execution_count": 31,
      "outputs": []
    },
    {
      "cell_type": "markdown",
      "source": [
        "First, we need to load the training data files. \n",
        "Here, BASE_PATH points to the folder containing the data files. "
      ],
      "metadata": {
        "id": "8URfx4cBe7Tm"
      }
    },
    {
      "cell_type": "code",
      "execution_count": 32,
      "metadata": {
        "id": "iDa0iTbHt0lj"
      },
      "outputs": [],
      "source": [
        "BASE_PATH = '/content/drive/MyDrive/Colab Notebooks/cw_data/'\n",
        "\n",
        "images = np.load(BASE_PATH + '/trnImage.npy')\n",
        "label_fine = np.load(BASE_PATH + '/trnLabel_fine.npy')\n",
        "label_coarse = np.load(BASE_PATH + '/trnLabel_coarse.npy')"
      ]
    },
    {
      "cell_type": "markdown",
      "source": [
        "This cell contains a configurable limiter (currently disabled), for training the SVM using less than the entire dataset, to speed up incremental testing."
      ],
      "metadata": {
        "id": "cT3VydPheioz"
      }
    },
    {
      "cell_type": "code",
      "source": [
        "LIMITER = 10000\n",
        "\n",
        "# images = images[:,:,:,:LIMITER]\n",
        "# label_coarse = label_coarse[:LIMITER]\n",
        "# label_fine = label_fine[:LIMITER]"
      ],
      "metadata": {
        "id": "HNq3YaBIuY7U"
      },
      "execution_count": 33,
      "outputs": []
    },
    {
      "cell_type": "markdown",
      "source": [
        "To use the provided data with an SVM, it needs some initial processing to generate a Histogram of Oriented Gradients for each image in the data set.\n",
        "\n",
        "This function takes a dataset, in the format provided for the coursework, and returns an array of Histograms, one for each image provided."
      ],
      "metadata": {
        "id": "ErKeFUP-fTtC"
      }
    },
    {
      "cell_type": "code",
      "source": [
        "def gen_hogs(dataset):\n",
        "  ppc = 4\n",
        "  hog_features = []\n",
        "  for image_num in range(dataset.shape[3]):\n",
        "    image = dataset[:, :, :, image_num]\n",
        "    hog_features.append(skimage.feature.hog(image, pixels_per_cell=(6,6), cells_per_block=(2,2), visualize=False))\n",
        "    if image_num % 1000 == 0:\n",
        "      # Prints the current image number every 1000 images to monitor progress\n",
        "      print(image_num)\n",
        "  return hog_features"
      ],
      "metadata": {
        "id": "TCSQruHQwzhx"
      },
      "execution_count": 34,
      "outputs": []
    },
    {
      "cell_type": "markdown",
      "source": [
        "Now that our helper function is defined, we can pass the training data into it to generate histograms for modeling. "
      ],
      "metadata": {
        "id": "_WbthdR1f53C"
      }
    },
    {
      "cell_type": "code",
      "source": [
        "features = gen_hogs(images)"
      ],
      "metadata": {
        "colab": {
          "base_uri": "https://localhost:8080/"
        },
        "id": "R2rD65ny0GRV",
        "outputId": "4b3eb4e7-6c1e-4c13-b506-bbf2ff79dadf"
      },
      "execution_count": 35,
      "outputs": [
        {
          "output_type": "stream",
          "name": "stdout",
          "text": [
            "0\n",
            "1000\n",
            "2000\n",
            "3000\n",
            "4000\n",
            "5000\n",
            "6000\n",
            "7000\n",
            "8000\n",
            "9000\n",
            "10000\n",
            "11000\n",
            "12000\n",
            "13000\n",
            "14000\n",
            "15000\n",
            "16000\n",
            "17000\n",
            "18000\n",
            "19000\n",
            "20000\n",
            "21000\n",
            "22000\n",
            "23000\n",
            "24000\n",
            "25000\n",
            "26000\n",
            "27000\n",
            "28000\n",
            "29000\n",
            "30000\n",
            "31000\n",
            "32000\n",
            "33000\n",
            "34000\n",
            "35000\n",
            "36000\n",
            "37000\n",
            "38000\n",
            "39000\n",
            "40000\n",
            "41000\n",
            "42000\n",
            "43000\n",
            "44000\n",
            "45000\n",
            "46000\n",
            "47000\n",
            "48000\n",
            "49000\n"
          ]
        }
      ]
    },
    {
      "cell_type": "markdown",
      "source": [
        "We take the histogram array generated, and convert it to an numpy array for easier processing. "
      ],
      "metadata": {
        "id": "CQxxUN6QgRmr"
      }
    },
    {
      "cell_type": "code",
      "source": [
        "features_array = np.array(features)\n",
        "print(features_array.shape)"
      ],
      "metadata": {
        "colab": {
          "base_uri": "https://localhost:8080/"
        },
        "id": "EGas4_ki1paE",
        "outputId": "922155b7-366a-4d26-982e-056311049235"
      },
      "execution_count": 36,
      "outputs": [
        {
          "output_type": "stream",
          "name": "stdout",
          "text": [
            "(50000, 576)\n"
          ]
        }
      ]
    },
    {
      "cell_type": "markdown",
      "source": [
        "## Coarse Labels Run"
      ],
      "metadata": {
        "id": "MUZloB6l2SAB"
      }
    },
    {
      "cell_type": "markdown",
      "source": [
        "Now we can train an SVM on the HOGs from the training data, first using the coarse label set. "
      ],
      "metadata": {
        "id": "O3wIazpAgcWS"
      }
    },
    {
      "cell_type": "code",
      "source": [
        "from sklearn import svm\n",
        "\n",
        "svm_coarse = svm.SVC()\n",
        "\n",
        "x_train = features_array\n",
        "\n",
        "svm_coarse.fit(x_train, label_coarse)"
      ],
      "metadata": {
        "id": "y1fckI1m3Yka",
        "colab": {
          "base_uri": "https://localhost:8080/"
        },
        "outputId": "3004a226-d008-4e51-a495-ca1865c476a1"
      },
      "execution_count": 37,
      "outputs": [
        {
          "output_type": "execute_result",
          "data": {
            "text/plain": [
              "SVC()"
            ]
          },
          "metadata": {},
          "execution_count": 37
        }
      ]
    },
    {
      "cell_type": "markdown",
      "source": [
        "For evaluating the model, we first need to load the test data and generate HOGs for it using the same helper function defined earlier. "
      ],
      "metadata": {
        "id": "57xg_PlXgtu_"
      }
    },
    {
      "cell_type": "code",
      "source": [
        "test_images = np.load(BASE_PATH + '/tstImage.npy')\n",
        "test_label_fine = np.load(BASE_PATH + '/tstLabel_fine.npy')\n",
        "test_label_coarse = np.load(BASE_PATH + '/tstLabel_coarse.npy')"
      ],
      "metadata": {
        "id": "LOYgop3jJhYp"
      },
      "execution_count": 38,
      "outputs": []
    },
    {
      "cell_type": "code",
      "source": [
        "x_test = np.array(gen_hogs(test_images))"
      ],
      "metadata": {
        "id": "N_rIQQQ3JvCX",
        "colab": {
          "base_uri": "https://localhost:8080/"
        },
        "outputId": "fbac0669-67a8-4f3e-a64e-c8cd1da57d49"
      },
      "execution_count": 39,
      "outputs": [
        {
          "output_type": "stream",
          "name": "stdout",
          "text": [
            "0\n",
            "1000\n",
            "2000\n",
            "3000\n",
            "4000\n",
            "5000\n",
            "6000\n",
            "7000\n",
            "8000\n",
            "9000\n"
          ]
        }
      ]
    },
    {
      "cell_type": "markdown",
      "source": [
        "Then, we can run predictions on the model using the prepared test data, and evaluate the accuracy of the classification. "
      ],
      "metadata": {
        "id": "K-n3BaPehExF"
      }
    },
    {
      "cell_type": "code",
      "source": [
        "y_predict_coarse = svm_coarse.predict(x_test)"
      ],
      "metadata": {
        "id": "urwAOgGd5qRr"
      },
      "execution_count": 40,
      "outputs": []
    },
    {
      "cell_type": "code",
      "source": [
        "from sklearn.metrics import accuracy_score, classification_report, confusion_matrix\n",
        "\n",
        "print(\"Accuracy: \"+str(accuracy_score(test_label_coarse, y_predict_coarse)))\n",
        "print(\"Classification Report: \\n\" + classification_report(test_label_coarse, y_predict_coarse))\n",
        "print(\"Confusion Matrix: \\n\" + str(confusion_matrix(test_label_coarse, y_predict_coarse)))"
      ],
      "metadata": {
        "id": "OB1rwq6ncHLo",
        "colab": {
          "base_uri": "https://localhost:8080/"
        },
        "outputId": "fe909fad-90a1-47e8-ae1b-bd5e6248318a"
      },
      "execution_count": 41,
      "outputs": [
        {
          "output_type": "stream",
          "name": "stdout",
          "text": [
            "Accuracy: 0.3939\n",
            "Classification Report: \n",
            "              precision    recall  f1-score   support\n",
            "\n",
            "           0       0.28      0.30      0.29       500\n",
            "           1       0.36      0.38      0.37       500\n",
            "           2       0.31      0.35      0.33       500\n",
            "           3       0.57      0.59      0.58       500\n",
            "           4       0.47      0.39      0.43       500\n",
            "           5       0.56      0.43      0.49       500\n",
            "           6       0.57      0.64      0.60       500\n",
            "           7       0.33      0.37      0.35       500\n",
            "           8       0.26      0.35      0.30       500\n",
            "           9       0.45      0.53      0.48       500\n",
            "          10       0.59      0.50      0.54       500\n",
            "          11       0.28      0.29      0.28       500\n",
            "          12       0.22      0.20      0.21       500\n",
            "          13       0.30      0.22      0.25       500\n",
            "          14       0.41      0.38      0.40       500\n",
            "          15       0.25      0.24      0.24       500\n",
            "          16       0.26      0.22      0.24       500\n",
            "          17       0.53      0.63      0.57       500\n",
            "          18       0.50      0.44      0.47       500\n",
            "          19       0.42      0.43      0.42       500\n",
            "\n",
            "    accuracy                           0.39     10000\n",
            "   macro avg       0.40      0.39      0.39     10000\n",
            "weighted avg       0.40      0.39      0.39     10000\n",
            "\n",
            "Confusion Matrix: \n",
            "[[148  43  12   7   8   5   6  23  24  21  11  27  29   8  20  39  27  14\n",
            "   11  17]\n",
            " [ 44 188  22   4  19   9   9  32   6  13   8  14  21  17  11  29  23  12\n",
            "    9  10]\n",
            " [  9  13 173  20  27  11   5  33  39   4   9  15  25  19  29  16  23  15\n",
            "    9   6]\n",
            " [  1   7  14 295  28  24  17  11   6  14   4   9   1   8  22   6   6   5\n",
            "    7  15]\n",
            " [ 16  22  38  30 197   9   2  17  30  10   6  25   7  19  14  18  18  14\n",
            "    4   4]\n",
            " [  6  10  10  41  11 216  54  10  12  23   4  13   8  16  18  10  10   7\n",
            "   10  11]\n",
            " [  4  16   6  27   4  22 322   8   6  18   5   6   3   3   6   7   1   1\n",
            "   11  24]\n",
            " [ 21  24  43  12  15   3   6 187  21  11   9  14  27  28  12  36  12   5\n",
            "    4  10]\n",
            " [ 18   8  38   7   4   5  11  13 173   5   2  50  51   8  18  16  34  22\n",
            "    5  12]\n",
            " [ 17   2   1   5   7   7  21   6   7 263  30  19   5  11   9   4  10  20\n",
            "   26  30]\n",
            " [ 27  21   7   7   5   3   6  12  21  29 249  16   9  10   1  30   3  23\n",
            "   10  11]\n",
            " [ 29  12  17   6  13   7  12  14  57  33   7 144  26   9  25  14  27  22\n",
            "    8  18]\n",
            " [ 30  22  30   1   9   3   6  23  74  13   4  31 102  23  19  29  38  24\n",
            "    3  16]\n",
            " [ 28  28  30  21  27  17   6  55  28   9  13  13  15 109  11  31  22  17\n",
            "    8  12]\n",
            " [ 18  19  34  11  14  16  14  17  26  11   4  26  14  13 192  15  20  20\n",
            "    5  11]\n",
            " [ 40  37  17   5   7   6   7  44  23   9  14  20  36  26  18 118  22  20\n",
            "   15  16]\n",
            " [ 32  26  32  10  12   5   6  28  61  10   3  19  52  19  19  22 110  12\n",
            "    9  13]\n",
            " [ 10   6  10   5   2   3   5   7  30  13  17  18   8   1   8  11  10 315\n",
            "    5  16]\n",
            " [ 13  10  11   0   4   8  24  11  12  43  11  21   9   8   8  13   4  18\n",
            "  222  50]\n",
            " [ 16  10  10   7   4   7  27  11  14  35   9  19  10  10   3  12   4  11\n",
            "   65 216]]\n"
          ]
        }
      ]
    },
    {
      "cell_type": "markdown",
      "source": [
        "## Fine Labels Run"
      ],
      "metadata": {
        "id": "NzfhGWMt2W2-"
      }
    },
    {
      "cell_type": "markdown",
      "source": [
        "Now we can train a new SVM using the training data and the fine labels. "
      ],
      "metadata": {
        "id": "DK9XOPYQ37A2"
      }
    },
    {
      "cell_type": "code",
      "source": [
        "svm_fine = svm.SVC()\n",
        "svm_fine.fit(x_train, label_fine)"
      ],
      "metadata": {
        "colab": {
          "base_uri": "https://localhost:8080/"
        },
        "id": "vgsKfRZG2Ytd",
        "outputId": "ec54eab6-ee2e-4d7d-dec1-71d2d0b9c164"
      },
      "execution_count": 42,
      "outputs": [
        {
          "output_type": "execute_result",
          "data": {
            "text/plain": [
              "SVC()"
            ]
          },
          "metadata": {},
          "execution_count": 42
        }
      ]
    },
    {
      "cell_type": "markdown",
      "source": [
        "Then we evaluate the model performace using the fine testing labels."
      ],
      "metadata": {
        "id": "LBbN-o3V4CXg"
      }
    },
    {
      "cell_type": "code",
      "source": [
        "y_predict_fine = svm_fine.predict(x_test)"
      ],
      "metadata": {
        "id": "TvlCwBd_3Oo-"
      },
      "execution_count": 43,
      "outputs": []
    },
    {
      "cell_type": "code",
      "source": [
        "print(\"Accuracy: \"+str(accuracy_score(test_label_fine, y_predict_fine)))\n",
        "print(\"Classification Report: \\n\" + classification_report(test_label_fine, y_predict_fine))\n",
        "print(\"Confusion Matrix: \\n\" + str(confusion_matrix(test_label_coarse, y_predict_coarse)))"
      ],
      "metadata": {
        "colab": {
          "base_uri": "https://localhost:8080/"
        },
        "outputId": "296b067d-7d6d-4181-a1a4-0cfdcb3f2f4b",
        "id": "hSf9FYnb3Tmv"
      },
      "execution_count": 44,
      "outputs": [
        {
          "output_type": "stream",
          "name": "stdout",
          "text": [
            "Accuracy: 0.282\n",
            "Classification Report: \n",
            "              precision    recall  f1-score   support\n",
            "\n",
            "           0       0.64      0.54      0.58       100\n",
            "           1       0.29      0.31      0.30       100\n",
            "           2       0.10      0.04      0.06       100\n",
            "           3       0.13      0.10      0.11       100\n",
            "           4       0.14      0.10      0.11       100\n",
            "           5       0.40      0.41      0.41       100\n",
            "           6       0.10      0.18      0.13       100\n",
            "           7       0.16      0.16      0.16       100\n",
            "           8       0.50      0.47      0.48       100\n",
            "           9       0.53      0.57      0.55       100\n",
            "          10       0.35      0.38      0.37       100\n",
            "          11       0.24      0.14      0.18       100\n",
            "          12       0.28      0.31      0.29       100\n",
            "          13       0.25      0.26      0.25       100\n",
            "          14       0.19      0.30      0.23       100\n",
            "          15       0.28      0.22      0.25       100\n",
            "          16       0.45      0.41      0.43       100\n",
            "          17       0.30      0.33      0.31       100\n",
            "          18       0.18      0.14      0.16       100\n",
            "          19       0.14      0.17      0.16       100\n",
            "          20       0.68      0.72      0.70       100\n",
            "          21       0.24      0.19      0.21       100\n",
            "          22       0.41      0.39      0.40       100\n",
            "          23       0.16      0.09      0.12       100\n",
            "          24       0.45      0.55      0.49       100\n",
            "          25       0.39      0.36      0.37       100\n",
            "          26       0.20      0.23      0.21       100\n",
            "          27       0.15      0.31      0.20       100\n",
            "          28       0.60      0.66      0.63       100\n",
            "          29       0.43      0.35      0.39       100\n",
            "          30       0.14      0.16      0.15       100\n",
            "          31       0.16      0.24      0.20       100\n",
            "          32       0.25      0.30      0.27       100\n",
            "          33       0.17      0.33      0.22       100\n",
            "          34       0.14      0.10      0.12       100\n",
            "          35       0.20      0.13      0.16       100\n",
            "          36       0.20      0.21      0.20       100\n",
            "          37       0.22      0.21      0.21       100\n",
            "          38       0.11      0.15      0.13       100\n",
            "          39       0.62      0.30      0.41       100\n",
            "          40       0.43      0.40      0.41       100\n",
            "          41       0.73      0.53      0.61       100\n",
            "          42       0.14      0.24      0.17       100\n",
            "          43       0.13      0.14      0.13       100\n",
            "          44       0.09      0.11      0.10       100\n",
            "          45       0.10      0.07      0.08       100\n",
            "          46       0.25      0.16      0.20       100\n",
            "          47       0.20      0.24      0.22       100\n",
            "          48       0.56      0.58      0.57       100\n",
            "          49       0.24      0.33      0.28       100\n",
            "          50       0.13      0.08      0.10       100\n",
            "          51       0.15      0.16      0.16       100\n",
            "          52       0.38      0.50      0.43       100\n",
            "          53       0.42      0.32      0.36       100\n",
            "          54       0.13      0.14      0.14       100\n",
            "          55       0.12      0.04      0.06       100\n",
            "          56       0.29      0.37      0.32       100\n",
            "          57       0.39      0.35      0.37       100\n",
            "          58       0.43      0.44      0.44       100\n",
            "          59       0.18      0.17      0.17       100\n",
            "          60       0.44      0.60      0.51       100\n",
            "          61       0.46      0.63      0.53       100\n",
            "          62       0.17      0.13      0.15       100\n",
            "          63       0.18      0.33      0.23       100\n",
            "          64       0.08      0.06      0.07       100\n",
            "          65       0.13      0.07      0.09       100\n",
            "          66       0.17      0.09      0.12       100\n",
            "          67       0.12      0.09      0.10       100\n",
            "          68       0.58      0.65      0.61       100\n",
            "          69       0.40      0.64      0.49       100\n",
            "          70       0.15      0.11      0.13       100\n",
            "          71       0.42      0.52      0.46       100\n",
            "          72       0.11      0.04      0.06       100\n",
            "          73       0.29      0.23      0.26       100\n",
            "          74       0.12      0.11      0.11       100\n",
            "          75       0.34      0.26      0.30       100\n",
            "          76       0.47      0.59      0.52       100\n",
            "          77       0.12      0.08      0.10       100\n",
            "          78       0.15      0.12      0.13       100\n",
            "          79       0.28      0.40      0.33       100\n",
            "          80       0.17      0.10      0.13       100\n",
            "          81       0.23      0.29      0.26       100\n",
            "          82       0.49      0.24      0.32       100\n",
            "          83       0.29      0.15      0.20       100\n",
            "          84       0.40      0.31      0.35       100\n",
            "          85       0.31      0.37      0.34       100\n",
            "          86       0.63      0.42      0.50       100\n",
            "          87       0.39      0.47      0.43       100\n",
            "          88       0.14      0.16      0.15       100\n",
            "          89       0.18      0.24      0.21       100\n",
            "          90       0.40      0.30      0.34       100\n",
            "          91       0.45      0.49      0.47       100\n",
            "          92       0.09      0.10      0.10       100\n",
            "          93       0.16      0.11      0.13       100\n",
            "          94       0.56      0.75      0.64       100\n",
            "          95       0.27      0.30      0.29       100\n",
            "          96       0.11      0.10      0.10       100\n",
            "          97       0.21      0.18      0.19       100\n",
            "          98       0.12      0.12      0.12       100\n",
            "          99       0.36      0.36      0.36       100\n",
            "\n",
            "    accuracy                           0.28     10000\n",
            "   macro avg       0.28      0.28      0.28     10000\n",
            "weighted avg       0.28      0.28      0.28     10000\n",
            "\n",
            "Confusion Matrix: \n",
            "[[148  43  12   7   8   5   6  23  24  21  11  27  29   8  20  39  27  14\n",
            "   11  17]\n",
            " [ 44 188  22   4  19   9   9  32   6  13   8  14  21  17  11  29  23  12\n",
            "    9  10]\n",
            " [  9  13 173  20  27  11   5  33  39   4   9  15  25  19  29  16  23  15\n",
            "    9   6]\n",
            " [  1   7  14 295  28  24  17  11   6  14   4   9   1   8  22   6   6   5\n",
            "    7  15]\n",
            " [ 16  22  38  30 197   9   2  17  30  10   6  25   7  19  14  18  18  14\n",
            "    4   4]\n",
            " [  6  10  10  41  11 216  54  10  12  23   4  13   8  16  18  10  10   7\n",
            "   10  11]\n",
            " [  4  16   6  27   4  22 322   8   6  18   5   6   3   3   6   7   1   1\n",
            "   11  24]\n",
            " [ 21  24  43  12  15   3   6 187  21  11   9  14  27  28  12  36  12   5\n",
            "    4  10]\n",
            " [ 18   8  38   7   4   5  11  13 173   5   2  50  51   8  18  16  34  22\n",
            "    5  12]\n",
            " [ 17   2   1   5   7   7  21   6   7 263  30  19   5  11   9   4  10  20\n",
            "   26  30]\n",
            " [ 27  21   7   7   5   3   6  12  21  29 249  16   9  10   1  30   3  23\n",
            "   10  11]\n",
            " [ 29  12  17   6  13   7  12  14  57  33   7 144  26   9  25  14  27  22\n",
            "    8  18]\n",
            " [ 30  22  30   1   9   3   6  23  74  13   4  31 102  23  19  29  38  24\n",
            "    3  16]\n",
            " [ 28  28  30  21  27  17   6  55  28   9  13  13  15 109  11  31  22  17\n",
            "    8  12]\n",
            " [ 18  19  34  11  14  16  14  17  26  11   4  26  14  13 192  15  20  20\n",
            "    5  11]\n",
            " [ 40  37  17   5   7   6   7  44  23   9  14  20  36  26  18 118  22  20\n",
            "   15  16]\n",
            " [ 32  26  32  10  12   5   6  28  61  10   3  19  52  19  19  22 110  12\n",
            "    9  13]\n",
            " [ 10   6  10   5   2   3   5   7  30  13  17  18   8   1   8  11  10 315\n",
            "    5  16]\n",
            " [ 13  10  11   0   4   8  24  11  12  43  11  21   9   8   8  13   4  18\n",
            "  222  50]\n",
            " [ 16  10  10   7   4   7  27  11  14  35   9  19  10  10   3  12   4  11\n",
            "   65 216]]\n"
          ]
        }
      ]
    },
    {
      "cell_type": "markdown",
      "source": [
        "# CNN Implementation of Object Recognition on a Subset of the CIFAR-100 Dataset\n",
        "\n",
        "For this implementation, we are using a Convolutional Neural Network to classify images from the dataset.\n",
        "\n",
        "This section contains a single CNN network structure, which is trained and tested, first on the coarse labels, then on the fine labels."
      ],
      "metadata": {
        "id": "jBWU4nEyiSzS"
      }
    },
    {
      "cell_type": "code",
      "execution_count": 45,
      "metadata": {
        "id": "2JkCBzJYUsQ1"
      },
      "outputs": [],
      "source": [
        "import numpy as np\n",
        "import matplotlib.pyplot as plt\n",
        "import skimage.feature"
      ]
    },
    {
      "cell_type": "markdown",
      "source": [
        "First, we need to load the training data files. Here, BASE_PATH points to the folder containing the data files."
      ],
      "metadata": {
        "id": "paJo85UdWuKo"
      }
    },
    {
      "cell_type": "code",
      "source": [
        "BASE_PATH = '/content/drive/MyDrive/Colab Notebooks/cw_data/'\n",
        "\n",
        "trn_images = np.load(BASE_PATH+'/trnImage.npy')\n",
        "trn_label_fine = np.load(BASE_PATH+'/trnLabel_fine.npy')\n",
        "trn_label_coarse = np.load(BASE_PATH+'/trnLabel_coarse.npy')\n",
        "\n",
        "print(f'Images Shape: {trn_images.shape}')\n",
        "print(f'Images Fine Labels Shape: {trn_label_fine.shape}')\n",
        "print(f'Images Coarse Labels Shape: {trn_label_coarse.shape}')"
      ],
      "metadata": {
        "colab": {
          "base_uri": "https://localhost:8080/"
        },
        "id": "JipYl4AMWpR6",
        "outputId": "d44eef82-1f15-4c4f-8f15-a6d71af6380d"
      },
      "execution_count": 46,
      "outputs": [
        {
          "output_type": "stream",
          "name": "stdout",
          "text": [
            "Images Shape: (32, 32, 3, 50000)\n",
            "Images Fine Labels Shape: (50000,)\n",
            "Images Coarse Labels Shape: (50000,)\n"
          ]
        }
      ]
    },
    {
      "cell_type": "markdown",
      "source": [
        "The data format provided is not the standard expected for Tensorflow Keras models, so we need to transpose so that the sample number is the first dimension."
      ],
      "metadata": {
        "id": "0EnzrKmpkvJq"
      }
    },
    {
      "cell_type": "code",
      "source": [
        "print(trn_images.shape)\n",
        "trn_images = np.transpose(trn_images, (3,0,1,2))\n",
        "print(trn_images.shape)"
      ],
      "metadata": {
        "colab": {
          "base_uri": "https://localhost:8080/"
        },
        "id": "SspcgenEUbI1",
        "outputId": "433da4e7-cc1c-4b53-ba9f-4bde397fc498"
      },
      "execution_count": 47,
      "outputs": [
        {
          "output_type": "stream",
          "name": "stdout",
          "text": [
            "(32, 32, 3, 50000)\n",
            "(50000, 32, 32, 3)\n"
          ]
        }
      ]
    },
    {
      "cell_type": "markdown",
      "source": [
        "Now that the data is loaded and processed, we define the properties for our CNN and compile it. "
      ],
      "metadata": {
        "id": "AY8q18AelHUm"
      }
    },
    {
      "cell_type": "code",
      "source": [
        "import tensorflow as tf\n",
        "\n",
        "model = tf.keras.Sequential()\n",
        "model.add(tf.keras.layers.Conv2D(64, kernel_size=(3,3), activation='relu', input_shape=(32,32,3), padding=\"same\"))\n",
        "model.add(tf.keras.layers.MaxPooling2D(pool_size=(2,2)))\n",
        "model.add(tf.keras.layers.Conv2D(128, kernel_size=(3,3), activation='relu',padding=\"same\"))\n",
        "model.add(tf.keras.layers.MaxPooling2D(pool_size=(2, 2)))\n",
        "model.add(tf.keras.layers.Conv2D(256, kernel_size=(3,3), activation='relu',padding=\"same\"))\n",
        "model.add(tf.keras.layers.SpatialDropout2D(0.2))\n",
        "model.add(tf.keras.layers.AveragePooling2D(pool_size=(2, 2)))\n",
        "model.add(tf.keras.layers.Conv2D(256, kernel_size=(3, 3), activation='relu',padding=\"same\"))\n",
        "model.add(tf.keras.layers.Flatten())\n",
        "model.add(tf.keras.layers.Dense(128, activation='relu'))\n",
        "model.add(tf.keras.layers.Dropout(0.5))\n",
        "model.add(tf.keras.layers.Dense(100))\n",
        "\n",
        "model.compile(\n",
        "    optimizer='adam',\n",
        "    loss=tf.keras.losses.SparseCategoricalCrossentropy(from_logits=True),\n",
        "    metrics=['accuracy']\n",
        ")"
      ],
      "metadata": {
        "id": "tn46d63uK3Hg"
      },
      "execution_count": 48,
      "outputs": []
    },
    {
      "cell_type": "markdown",
      "source": [
        "## Coarse Labels Run"
      ],
      "metadata": {
        "id": "r2e13QTh1m8_"
      }
    },
    {
      "cell_type": "markdown",
      "source": [
        "Then we can fit our prepared training data to the compiled model, using an 80:20 training:validation split. "
      ],
      "metadata": {
        "id": "upE2bxV3lkrY"
      }
    },
    {
      "cell_type": "code",
      "source": [
        "x_train = trn_images.astype(\"float32\")\n",
        "\n",
        "history = model.fit(x_train, trn_label_coarse, batch_size=128, epochs=10, validation_split=0.2, verbose=1)"
      ],
      "metadata": {
        "colab": {
          "base_uri": "https://localhost:8080/"
        },
        "id": "w8OcvM1VMFni",
        "outputId": "e7458a60-42fe-496c-e62d-923cc4f9f99f"
      },
      "execution_count": 49,
      "outputs": [
        {
          "output_type": "stream",
          "name": "stdout",
          "text": [
            "Epoch 1/10\n",
            "313/313 [==============================] - 5s 15ms/step - loss: 2.9648 - accuracy: 0.1330 - val_loss: 2.4313 - val_accuracy: 0.2464\n",
            "Epoch 2/10\n",
            "313/313 [==============================] - 4s 13ms/step - loss: 2.4810 - accuracy: 0.2383 - val_loss: 2.2552 - val_accuracy: 0.3175\n",
            "Epoch 3/10\n",
            "313/313 [==============================] - 4s 14ms/step - loss: 2.3065 - accuracy: 0.2882 - val_loss: 2.1072 - val_accuracy: 0.3502\n",
            "Epoch 4/10\n",
            "313/313 [==============================] - 4s 13ms/step - loss: 2.1784 - accuracy: 0.3298 - val_loss: 1.9658 - val_accuracy: 0.3918\n",
            "Epoch 5/10\n",
            "313/313 [==============================] - 4s 13ms/step - loss: 2.0487 - accuracy: 0.3679 - val_loss: 1.8540 - val_accuracy: 0.4295\n",
            "Epoch 6/10\n",
            "313/313 [==============================] - 4s 14ms/step - loss: 1.9505 - accuracy: 0.3971 - val_loss: 1.7646 - val_accuracy: 0.4502\n",
            "Epoch 7/10\n",
            "313/313 [==============================] - 4s 14ms/step - loss: 1.8532 - accuracy: 0.4252 - val_loss: 1.6898 - val_accuracy: 0.4733\n",
            "Epoch 8/10\n",
            "313/313 [==============================] - 4s 14ms/step - loss: 1.7595 - accuracy: 0.4516 - val_loss: 1.6637 - val_accuracy: 0.4740\n",
            "Epoch 9/10\n",
            "313/313 [==============================] - 4s 14ms/step - loss: 1.6662 - accuracy: 0.4798 - val_loss: 1.5882 - val_accuracy: 0.5044\n",
            "Epoch 10/10\n",
            "313/313 [==============================] - 4s 14ms/step - loss: 1.5925 - accuracy: 0.5017 - val_loss: 1.5707 - val_accuracy: 0.5124\n"
          ]
        }
      ]
    },
    {
      "cell_type": "markdown",
      "source": [
        "Graphs of the Model's performance during training:"
      ],
      "metadata": {
        "id": "FJXiqsEAXMvI"
      }
    },
    {
      "cell_type": "code",
      "source": [
        "plt.figure()\n",
        "plt.plot(history.history['accuracy'], label='accuracy')\n",
        "plt.plot(history.history['val_accuracy'], label = 'val_accuracy')\n",
        "plt.title(\"Accuracy Curves\")\n",
        "plt.xlabel('Epochs')\n",
        "plt.ylabel('Accuracy')\n",
        "plt.legend()\n",
        "plt.show()\n",
        "\n",
        "plt.figure()\n",
        "plt.plot(history.history['loss'], label='loss')\n",
        "plt.plot(history.history['val_loss'], label='Validation loss')\n",
        "plt.title(\"Loss Curves\")\n",
        "plt.xlabel('Epochs')\n",
        "plt.ylabel('Loss')\n",
        "plt.legend()\n",
        "plt.show()"
      ],
      "metadata": {
        "id": "3YoLj5YYWUiw",
        "colab": {
          "base_uri": "https://localhost:8080/",
          "height": 573
        },
        "outputId": "657ffcc3-6722-4116-ddd0-85fc85903ca0"
      },
      "execution_count": 50,
      "outputs": [
        {
          "output_type": "display_data",
          "data": {
            "text/plain": [
              "<Figure size 432x288 with 1 Axes>"
            ],
            "image/png": "[encoded data removed]"
          },
          "metadata": {
            "needs_background": "light"
          }
        },
        {
          "output_type": "display_data",
          "data": {
            "text/plain": [
              "<Figure size 432x288 with 1 Axes>"
            ],
            "image/png": "[encoded data removed]"
          },
          "metadata": {
            "needs_background": "light"
          }
        }
      ]
    },
    {
      "cell_type": "markdown",
      "source": [
        "To test our model, we can now load and prepare the test data, and run an evaluation function. "
      ],
      "metadata": {
        "id": "5QXMr_L_l40Z"
      }
    },
    {
      "cell_type": "code",
      "source": [
        "from sklearn.metrics import confusion_matrix\n",
        "\n",
        "tst_images = np.load(BASE_PATH+'/tstImage.npy')\n",
        "tst_label_fine = np.load(BASE_PATH+'/tstLabel_fine.npy')\n",
        "tst_label_coarse = np.load(BASE_PATH+'/tstLabel_coarse.npy')\n",
        "\n",
        "tst_images = np.transpose(tst_images, (3,0,1,2))\n",
        "tst_images = tst_images.astype(\"float32\")\n",
        "\n",
        "model.evaluate(tst_images, tst_label_coarse, verbose=1)\n",
        "predict_coarse = np.argmax(model.predict(tst_images), axis=1)\n",
        "print(\"Confusion Matrix: \\n\" + str(confusion_matrix(tst_label_coarse, predict_coarse)))"
      ],
      "metadata": {
        "id": "bl4S-RR7n0Mn",
        "colab": {
          "base_uri": "https://localhost:8080/"
        },
        "outputId": "ce39178f-6878-4fcb-93a1-fb7817f1e45b"
      },
      "execution_count": 51,
      "outputs": [
        {
          "output_type": "stream",
          "name": "stdout",
          "text": [
            "313/313 [==============================] - 1s 4ms/step - loss: 1.5680 - accuracy: 0.5131\n",
            "Confusion Matrix: \n",
            "[[234  30   3   4   3   2   2  18  30   3  15  61  31   5   7  13  28   2\n",
            "    3   6]\n",
            " [ 68 199  25   5  22   2   1  23   7   5  17  15  12  13  13  21  25   6\n",
            "    9  12]\n",
            " [  2   6 387   9  47   0   3  24   1   1   3   2   1   2   3   1   0   3\n",
            "    2   3]\n",
            " [  8  12  11 252  33  28  10  16  14   7   3   7   6  14  28   1  14   5\n",
            "   12  19]\n",
            " [  1   7  76   9 303   1   7  33  13   3   1  11   2   5   6   2  11   4\n",
            "    3   2]\n",
            " [ 13  16  15  92  19 148  21  12  20   6  16  11   8   8  28  11   6   5\n",
            "   22  23]\n",
            " [  4  14   9  25  10  24 244   8   6  10  11  15   7  12  28   9  11   1\n",
            "   26  26]\n",
            " [ 11   8  24   4  27   0   0 316   9   2   1  18  10  15   9  14   7  11\n",
            "    5   9]\n",
            " [ 21   1   2   1  13   5   0  20 200   5   3  96  37   7   9  16  38  11\n",
            "    7   8]\n",
            " [  8   0   4   1   4   5  11   0   5 288  49  32   1   1   6   6   5  22\n",
            "   23  29]\n",
            " [ 14   5   2   2   7   2   3   0   5  22 377   6   1   0   2   2   8  34\n",
            "    1   7]\n",
            " [ 12   1   2   5   5   2   0  14  35  13   3 307  16   2  13  11  26   9\n",
            "   12  12]\n",
            " [ 20   7   3   3   8   1   1  19  70   2   1  81 188   9  11  13  40   0\n",
            "    8  15]\n",
            " [ 23  26   8  22  49   7   6 100  22   3  11  22  17  63  16  36  29   9\n",
            "   16  15]\n",
            " [  4   4  13  10  18   4   4  17  15   2   2  22   2  10 334   1  22   2\n",
            "    8   6]\n",
            " [ 44  23   3  10  10   5   4  80  25   3   6  47  44  14   7  93  22  20\n",
            "   14  26]\n",
            " [ 30   6   3   8  15   3   3  40  50   4   3  57  61  11  31  14 148   9\n",
            "    1   3]\n",
            " [  0   0   1   0   8   1   2   5   0   8  18   5   0   1   1   3   3 440\n",
            "    0   4]\n",
            " [  7   1   4   2   0   3   1  10   2  16   5  15   9   5   6   5   0  11\n",
            "  298 100]\n",
            " [ 14   6   2   5   5   4   3  14   2  17   4  16   3   6   2   6   1  10\n",
            "   68 312]]\n"
          ]
        }
      ]
    },
    {
      "cell_type": "markdown",
      "source": [
        "## Fine Labels Run"
      ],
      "metadata": {
        "id": "EBvkYQCo1f7i"
      }
    },
    {
      "cell_type": "code",
      "source": [
        "model.compile(\n",
        "    optimizer='adam',\n",
        "    loss=tf.keras.losses.SparseCategoricalCrossentropy(from_logits=True),\n",
        "    metrics=['accuracy']\n",
        ")"
      ],
      "metadata": {
        "id": "RaA34eB-zjYU"
      },
      "execution_count": 52,
      "outputs": []
    },
    {
      "cell_type": "code",
      "source": [
        "history_fine = model.fit(x_train, trn_label_fine, batch_size=128, epochs=10, validation_split=0.2, verbose=1)"
      ],
      "metadata": {
        "colab": {
          "base_uri": "https://localhost:8080/"
        },
        "id": "Qd6lO86VztzP",
        "outputId": "8c0740f5-7c9a-4ed2-99e0-7576df261a47"
      },
      "execution_count": 53,
      "outputs": [
        {
          "output_type": "stream",
          "name": "stdout",
          "text": [
            "Epoch 1/10\n",
            "313/313 [==============================] - 5s 14ms/step - loss: 4.7471 - accuracy: 0.0123 - val_loss: 4.5252 - val_accuracy: 0.0205\n",
            "Epoch 2/10\n",
            "313/313 [==============================] - 4s 14ms/step - loss: 4.4841 - accuracy: 0.0205 - val_loss: 4.3614 - val_accuracy: 0.0342\n",
            "Epoch 3/10\n",
            "313/313 [==============================] - 4s 13ms/step - loss: 4.3421 - accuracy: 0.0310 - val_loss: 4.0768 - val_accuracy: 0.0692\n",
            "Epoch 4/10\n",
            "313/313 [==============================] - 4s 13ms/step - loss: 4.0008 - accuracy: 0.0666 - val_loss: 3.4357 - val_accuracy: 0.1743\n",
            "Epoch 5/10\n",
            "313/313 [==============================] - 4s 14ms/step - loss: 3.5158 - accuracy: 0.1407 - val_loss: 3.0026 - val_accuracy: 0.2503\n",
            "Epoch 6/10\n",
            "313/313 [==============================] - 4s 14ms/step - loss: 3.1604 - accuracy: 0.2038 - val_loss: 2.7902 - val_accuracy: 0.2966\n",
            "Epoch 7/10\n",
            "313/313 [==============================] - 4s 14ms/step - loss: 2.9112 - accuracy: 0.2560 - val_loss: 2.6370 - val_accuracy: 0.3309\n",
            "Epoch 8/10\n",
            "313/313 [==============================] - 4s 14ms/step - loss: 2.7293 - accuracy: 0.2906 - val_loss: 2.5318 - val_accuracy: 0.3489\n",
            "Epoch 9/10\n",
            "313/313 [==============================] - 4s 14ms/step - loss: 2.5595 - accuracy: 0.3244 - val_loss: 2.4680 - val_accuracy: 0.3729\n",
            "Epoch 10/10\n",
            "313/313 [==============================] - 4s 14ms/step - loss: 2.4409 - accuracy: 0.3483 - val_loss: 2.3956 - val_accuracy: 0.3861\n"
          ]
        }
      ]
    },
    {
      "cell_type": "markdown",
      "source": [
        "Graphs of the Model's performance during training:"
      ],
      "metadata": {
        "id": "P1abahRd0S1I"
      }
    },
    {
      "cell_type": "code",
      "source": [
        "plt.figure()\n",
        "plt.plot(history_fine.history['accuracy'], label='accuracy')\n",
        "plt.plot(history_fine.history['val_accuracy'], label = 'val_accuracy')\n",
        "plt.title(\"Accuracy Curves\")\n",
        "plt.xlabel('Epochs')\n",
        "plt.ylabel('Accuracy')\n",
        "plt.legend()\n",
        "plt.show()\n",
        "\n",
        "plt.figure()\n",
        "plt.plot(history_fine.history['loss'], label='loss')\n",
        "plt.plot(history_fine.history['val_loss'], label='Validation loss')\n",
        "plt.title(\"Loss Curves\")\n",
        "plt.xlabel('Epochs')\n",
        "plt.ylabel('Loss')\n",
        "plt.legend()\n",
        "plt.show()"
      ],
      "metadata": {
        "colab": {
          "base_uri": "https://localhost:8080/",
          "height": 573
        },
        "outputId": "4bcbba1d-9ef3-48ff-8970-0e85554383c6",
        "id": "dk4QbQe30Utw"
      },
      "execution_count": 54,
      "outputs": [
        {
          "output_type": "display_data",
          "data": {
            "text/plain": [
              "<Figure size 432x288 with 1 Axes>"
            ],
            "image/png": "[encoded data removed]"
          },
          "metadata": {
            "needs_background": "light"
          }
        },
        {
          "output_type": "display_data",
          "data": {
            "text/plain": [
              "<Figure size 432x288 with 1 Axes>"
            ],
            "image/png": "[encoded data removed]"
          },
          "metadata": {
            "needs_background": "light"
          }
        }
      ]
    },
    {
      "cell_type": "markdown",
      "source": [
        "Now time to evaluate the performance of the model on the fine labels."
      ],
      "metadata": {
        "id": "iQaaHHqH0g4O"
      }
    },
    {
      "cell_type": "code",
      "source": [
        "model.evaluate(tst_images, tst_label_fine, verbose=1)\n",
        "\n",
        "predict_fine = np.argmax(model.predict(tst_images), axis=1)\n",
        "print(\"Confusion Matrix: \\n\" + str(confusion_matrix(tst_label_fine, predict_fine)))"
      ],
      "metadata": {
        "colab": {
          "base_uri": "https://localhost:8080/"
        },
        "outputId": "3242faf7-5c9d-4112-ac53-433a2c27aa32",
        "id": "kG46EWY40o-s"
      },
      "execution_count": 55,
      "outputs": [
        {
          "output_type": "stream",
          "name": "stdout",
          "text": [
            "313/313 [==============================] - 1s 3ms/step - loss: 2.3724 - accuracy: 0.3867\n",
            "Confusion Matrix: \n",
            "[[77  3  1 ...  0  0  0]\n",
            " [ 1 43  2 ...  0  0  0]\n",
            " [ 2  0 40 ...  0  3  0]\n",
            " ...\n",
            " [ 0  0  1 ... 36  0  0]\n",
            " [ 0  0 15 ...  0 20  0]\n",
            " [ 1  0  1 ...  0  1 29]]\n"
          ]
        }
      ]
    }
  ]
}