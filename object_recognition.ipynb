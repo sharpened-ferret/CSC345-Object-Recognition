{
  "nbformat": 4,
  "nbformat_minor": 0,
  "metadata": {
    "colab": {
      "name": "object_recognition.ipynb",
      "provenance": [],
      "collapsed_sections": [],
      "mount_file_id": "1jilcSF-uqRnzhOyHWtxW7DPPs353DNrH",
      "authorship_tag": "ABX9TyOUnNQDxjflsiwJBwoh+CjC",
      "include_colab_link": true
    },
    "kernelspec": {
      "name": "python3",
      "display_name": "Python 3"
    },
    "language_info": {
      "name": "python"
    },
    "accelerator": "GPU"
  },
  "cells": [
    {
      "cell_type": "markdown",
      "metadata": {
        "id": "view-in-github",
        "colab_type": "text"
      },
      "source": [
        "<a href=\"https://colab.research.google.com/github/sharpened-ferret/CSC345-Object-Recognition/blob/main/object_recognition.ipynb\" target=\"_parent\"><img src=\"https://colab.research.google.com/assets/colab-badge.svg\" alt=\"Open In Colab\"/></a>"
      ]
    },
    {
      "cell_type": "markdown",
      "source": [
        "# CSC345: Object Recognition Coursework\n",
        "This notebook details an object recognition method for a subset of the CIFAR-100 dataset"
      ],
      "metadata": {
        "id": "XGWzYNDMXIFX"
      }
    },
    {
      "cell_type": "code",
      "execution_count": 7,
      "metadata": {
        "id": "2JkCBzJYUsQ1"
      },
      "outputs": [],
      "source": [
        "import numpy as np\n",
        "import matplotlib.pyplot as plt\n",
        "import skimage.feature\n",
        "\n",
        "BASE_PATH = '/content/drive/MyDrive/Colab Notebooks/cw_data/'"
      ]
    },
    {
      "cell_type": "markdown",
      "source": [
        "Loads the training data"
      ],
      "metadata": {
        "id": "paJo85UdWuKo"
      }
    },
    {
      "cell_type": "code",
      "source": [
        "trn_images = np.load(BASE_PATH+'/trnImage.npy')\n",
        "trn_label_fine = np.load(BASE_PATH+'/trnLabel_fine.npy')\n",
        "trn_label_coarse = np.load(BASE_PATH+'/trnLabel_coarse.npy')\n",
        "\n",
        "# trn_label_coarse = tf.keras.utils.to_categorical(trn_label_coarse, 20)\n",
        "\n",
        "print(f'Images Shape: {trn_images.shape}')\n",
        "print(f'Images Fine Labels Shape: {trn_label_fine.shape}')\n",
        "print(f'Images Coarse Labels Shape: {trn_label_coarse.shape}')\n",
        "image_index = 2 # pick a specific image\n",
        "image = trn_images[:, :, :, image_index]"
      ],
      "metadata": {
        "colab": {
          "base_uri": "https://localhost:8080/"
        },
        "id": "JipYl4AMWpR6",
        "outputId": "46d16307-9df6-415d-b9a4-609d1b60b6c8"
      },
      "execution_count": 17,
      "outputs": [
        {
          "output_type": "stream",
          "name": "stdout",
          "text": [
            "Images Shape: (32, 32, 3, 50000)\n",
            "Images Fine Labels Shape: (50000,)\n",
            "Images Coarse Labels Shape: (50000,)\n"
          ]
        }
      ]
    },
    {
      "cell_type": "code",
      "source": [
        "print(trn_images.shape)\n",
        "trn_images = np.transpose(trn_images, (3,0,1,2))\n",
        "print(trn_images.shape)"
      ],
      "metadata": {
        "colab": {
          "base_uri": "https://localhost:8080/"
        },
        "id": "SspcgenEUbI1",
        "outputId": "b3b4892e-b49d-4dab-a025-f7be8b3db0aa"
      },
      "execution_count": 18,
      "outputs": [
        {
          "output_type": "stream",
          "name": "stdout",
          "text": [
            "(32, 32, 3, 50000)\n",
            "(50000, 32, 32, 3)\n"
          ]
        }
      ]
    },
    {
      "cell_type": "code",
      "source": [
        "import tensorflow as tf\n",
        "\n",
        "x_train = trn_images.astype(\"float32\") / 255\n",
        "print(x_train.shape)\n",
        "\n",
        "model = tf.keras.Sequential()\n",
        "model.add(tf.keras.layers.Conv2D(64, kernel_size=(3,3), activation='relu', input_shape=(32,32,3)))\n",
        "model.add(tf.keras.layers.MaxPooling2D(pool_size=(2,2)))\n",
        "model.add(tf.keras.layers.Conv2D(128, 3, activation='relu'))\n",
        "model.add(tf.keras.layers.MaxPooling2D(pool_size=(2, 2)))\n",
        "model.add(tf.keras.layers.Conv2D(128, kernel_size=(3, 3), activation='relu'))\n",
        "model.add(tf.keras.layers.Flatten())\n",
        "model.add(tf.keras.layers.Dense(128, activation='relu'))\n",
        "model.add(tf.keras.layers.Dense(20))\n",
        "\n",
        "model.compile(\n",
        "    optimizer='adam',\n",
        "    loss=tf.keras.losses.SparseCategoricalCrossentropy(from_logits=True),\n",
        "    metrics=['accuracy']\n",
        ")"
      ],
      "metadata": {
        "colab": {
          "base_uri": "https://localhost:8080/"
        },
        "id": "tn46d63uK3Hg",
        "outputId": "69429970-8f02-4b30-81e9-48628986020d"
      },
      "execution_count": 20,
      "outputs": [
        {
          "output_type": "stream",
          "name": "stdout",
          "text": [
            "(50000, 32, 32, 3)\n"
          ]
        }
      ]
    },
    {
      "cell_type": "code",
      "source": [
        "history = model.fit(x_train, trn_label_coarse, batch_size=128, epochs=50, validation_split=0.2, verbose=1)"
      ],
      "metadata": {
        "colab": {
          "base_uri": "https://localhost:8080/"
        },
        "id": "w8OcvM1VMFni",
        "outputId": "fbfdcd2d-7a48-427a-dfa9-6eefb02a4ddf"
      },
      "execution_count": 27,
      "outputs": [
        {
          "output_type": "stream",
          "name": "stdout",
          "text": [
            "Epoch 1/50\n",
            "313/313 [==============================] - 6s 20ms/step - loss: 2.1418 - accuracy: 0.3399 - val_loss: 2.1852 - val_accuracy: 0.3286\n",
            "Epoch 2/50\n",
            "313/313 [==============================] - 6s 18ms/step - loss: 2.1366 - accuracy: 0.3398 - val_loss: 2.1734 - val_accuracy: 0.3254\n",
            "Epoch 3/50\n",
            "313/313 [==============================] - 6s 19ms/step - loss: 2.1282 - accuracy: 0.3421 - val_loss: 2.1933 - val_accuracy: 0.3263\n",
            "Epoch 4/50\n",
            "313/313 [==============================] - 6s 18ms/step - loss: 2.1108 - accuracy: 0.3461 - val_loss: 2.1899 - val_accuracy: 0.3270\n",
            "Epoch 5/50\n",
            "313/313 [==============================] - 6s 19ms/step - loss: 2.1021 - accuracy: 0.3510 - val_loss: 2.1599 - val_accuracy: 0.3366\n",
            "Epoch 6/50\n",
            "313/313 [==============================] - 6s 19ms/step - loss: 2.0958 - accuracy: 0.3545 - val_loss: 2.1580 - val_accuracy: 0.3260\n",
            "Epoch 7/50\n",
            "313/313 [==============================] - 6s 19ms/step - loss: 2.0883 - accuracy: 0.3541 - val_loss: 2.1369 - val_accuracy: 0.3390\n",
            "Epoch 8/50\n",
            "313/313 [==============================] - 6s 19ms/step - loss: 2.0751 - accuracy: 0.3578 - val_loss: 2.1630 - val_accuracy: 0.3350\n",
            "Epoch 9/50\n",
            "313/313 [==============================] - 6s 19ms/step - loss: 2.0690 - accuracy: 0.3609 - val_loss: 2.1192 - val_accuracy: 0.3459\n",
            "Epoch 10/50\n",
            "313/313 [==============================] - 6s 18ms/step - loss: 2.0541 - accuracy: 0.3649 - val_loss: 2.1176 - val_accuracy: 0.3467\n",
            "Epoch 11/50\n",
            "313/313 [==============================] - 6s 19ms/step - loss: 2.0495 - accuracy: 0.3651 - val_loss: 2.1200 - val_accuracy: 0.3432\n",
            "Epoch 12/50\n",
            "313/313 [==============================] - 6s 19ms/step - loss: 2.0359 - accuracy: 0.3668 - val_loss: 2.1064 - val_accuracy: 0.3470\n",
            "Epoch 13/50\n",
            "313/313 [==============================] - 6s 19ms/step - loss: 2.0277 - accuracy: 0.3732 - val_loss: 2.0914 - val_accuracy: 0.3512\n",
            "Epoch 14/50\n",
            "313/313 [==============================] - 6s 19ms/step - loss: 2.0217 - accuracy: 0.3738 - val_loss: 2.1141 - val_accuracy: 0.3459\n",
            "Epoch 15/50\n",
            "313/313 [==============================] - 6s 20ms/step - loss: 2.0039 - accuracy: 0.3780 - val_loss: 2.0848 - val_accuracy: 0.3622\n",
            "Epoch 16/50\n",
            "313/313 [==============================] - 6s 19ms/step - loss: 1.9991 - accuracy: 0.3836 - val_loss: 2.1165 - val_accuracy: 0.3482\n",
            "Epoch 17/50\n",
            "313/313 [==============================] - 6s 20ms/step - loss: 1.9923 - accuracy: 0.3829 - val_loss: 2.0852 - val_accuracy: 0.3598\n",
            "Epoch 18/50\n",
            "313/313 [==============================] - 6s 19ms/step - loss: 1.9963 - accuracy: 0.3812 - val_loss: 2.0918 - val_accuracy: 0.3567\n",
            "Epoch 19/50\n",
            "313/313 [==============================] - 6s 19ms/step - loss: 1.9776 - accuracy: 0.3893 - val_loss: 2.0934 - val_accuracy: 0.3565\n",
            "Epoch 20/50\n",
            "313/313 [==============================] - 6s 20ms/step - loss: 1.9709 - accuracy: 0.3883 - val_loss: 2.0553 - val_accuracy: 0.3663\n",
            "Epoch 21/50\n",
            "313/313 [==============================] - 6s 19ms/step - loss: 1.9648 - accuracy: 0.3938 - val_loss: 2.0734 - val_accuracy: 0.3602\n",
            "Epoch 22/50\n",
            "313/313 [==============================] - 6s 20ms/step - loss: 1.9524 - accuracy: 0.3957 - val_loss: 2.0486 - val_accuracy: 0.3741\n",
            "Epoch 23/50\n",
            "313/313 [==============================] - 6s 19ms/step - loss: 1.9443 - accuracy: 0.3987 - val_loss: 2.0618 - val_accuracy: 0.3662\n",
            "Epoch 24/50\n",
            "313/313 [==============================] - 6s 19ms/step - loss: 1.9452 - accuracy: 0.3973 - val_loss: 2.0442 - val_accuracy: 0.3674\n",
            "Epoch 25/50\n",
            "313/313 [==============================] - 6s 19ms/step - loss: 1.9378 - accuracy: 0.3989 - val_loss: 2.0504 - val_accuracy: 0.3689\n",
            "Epoch 26/50\n",
            "313/313 [==============================] - 6s 19ms/step - loss: 1.9261 - accuracy: 0.4030 - val_loss: 2.0488 - val_accuracy: 0.3741\n",
            "Epoch 27/50\n",
            "313/313 [==============================] - 6s 19ms/step - loss: 1.9229 - accuracy: 0.4049 - val_loss: 2.0474 - val_accuracy: 0.3688\n",
            "Epoch 28/50\n",
            "313/313 [==============================] - 6s 19ms/step - loss: 1.9164 - accuracy: 0.4042 - val_loss: 2.0275 - val_accuracy: 0.3757\n",
            "Epoch 29/50\n",
            "313/313 [==============================] - 6s 19ms/step - loss: 1.9071 - accuracy: 0.4101 - val_loss: 2.0669 - val_accuracy: 0.3675\n",
            "Epoch 30/50\n",
            "313/313 [==============================] - 6s 19ms/step - loss: 1.9048 - accuracy: 0.4110 - val_loss: 2.0399 - val_accuracy: 0.3742\n",
            "Epoch 31/50\n",
            "313/313 [==============================] - 6s 19ms/step - loss: 1.8968 - accuracy: 0.4129 - val_loss: 2.0426 - val_accuracy: 0.3735\n",
            "Epoch 32/50\n",
            "313/313 [==============================] - 6s 19ms/step - loss: 1.8891 - accuracy: 0.4161 - val_loss: 2.0150 - val_accuracy: 0.3817\n",
            "Epoch 33/50\n",
            "313/313 [==============================] - 6s 19ms/step - loss: 1.8864 - accuracy: 0.4152 - val_loss: 2.0347 - val_accuracy: 0.3737\n",
            "Epoch 34/50\n",
            "313/313 [==============================] - 6s 19ms/step - loss: 1.8785 - accuracy: 0.4169 - val_loss: 2.0155 - val_accuracy: 0.3809\n",
            "Epoch 35/50\n",
            "313/313 [==============================] - 6s 19ms/step - loss: 1.8720 - accuracy: 0.4198 - val_loss: 2.0342 - val_accuracy: 0.3755\n",
            "Epoch 36/50\n",
            "313/313 [==============================] - 6s 19ms/step - loss: 1.8698 - accuracy: 0.4183 - val_loss: 2.0515 - val_accuracy: 0.3730\n",
            "Epoch 37/50\n",
            "313/313 [==============================] - 6s 19ms/step - loss: 1.8600 - accuracy: 0.4226 - val_loss: 2.0116 - val_accuracy: 0.3804\n",
            "Epoch 38/50\n",
            "313/313 [==============================] - 6s 19ms/step - loss: 1.8560 - accuracy: 0.4234 - val_loss: 2.0318 - val_accuracy: 0.3808\n",
            "Epoch 39/50\n",
            "313/313 [==============================] - 6s 19ms/step - loss: 1.8489 - accuracy: 0.4266 - val_loss: 1.9981 - val_accuracy: 0.3897\n",
            "Epoch 40/50\n",
            "313/313 [==============================] - 6s 19ms/step - loss: 1.8470 - accuracy: 0.4241 - val_loss: 1.9939 - val_accuracy: 0.3884\n",
            "Epoch 41/50\n",
            "313/313 [==============================] - 6s 19ms/step - loss: 1.8356 - accuracy: 0.4304 - val_loss: 2.0249 - val_accuracy: 0.3827\n",
            "Epoch 42/50\n",
            "313/313 [==============================] - 6s 18ms/step - loss: 1.8348 - accuracy: 0.4295 - val_loss: 2.0028 - val_accuracy: 0.3890\n",
            "Epoch 43/50\n",
            "313/313 [==============================] - 6s 18ms/step - loss: 1.8297 - accuracy: 0.4318 - val_loss: 2.0029 - val_accuracy: 0.3814\n",
            "Epoch 44/50\n",
            "313/313 [==============================] - 6s 19ms/step - loss: 1.8225 - accuracy: 0.4320 - val_loss: 2.0114 - val_accuracy: 0.3779\n",
            "Epoch 45/50\n",
            "313/313 [==============================] - 6s 19ms/step - loss: 1.8206 - accuracy: 0.4336 - val_loss: 2.0183 - val_accuracy: 0.3830\n",
            "Epoch 46/50\n",
            "313/313 [==============================] - 6s 18ms/step - loss: 1.8108 - accuracy: 0.4379 - val_loss: 1.9951 - val_accuracy: 0.3887\n",
            "Epoch 47/50\n",
            "313/313 [==============================] - 6s 19ms/step - loss: 1.8079 - accuracy: 0.4369 - val_loss: 1.9906 - val_accuracy: 0.3916\n",
            "Epoch 48/50\n",
            "313/313 [==============================] - 6s 19ms/step - loss: 1.8010 - accuracy: 0.4396 - val_loss: 2.0244 - val_accuracy: 0.3825\n",
            "Epoch 49/50\n",
            "313/313 [==============================] - 6s 19ms/step - loss: 1.7978 - accuracy: 0.4408 - val_loss: 2.0168 - val_accuracy: 0.3819\n",
            "Epoch 50/50\n",
            "313/313 [==============================] - 6s 19ms/step - loss: 1.7935 - accuracy: 0.4423 - val_loss: 2.0158 - val_accuracy: 0.3854\n"
          ]
        }
      ]
    },
    {
      "cell_type": "markdown",
      "source": [
        "Graphs of the Model's performance during training:"
      ],
      "metadata": {
        "id": "FJXiqsEAXMvI"
      }
    },
    {
      "cell_type": "code",
      "source": [
        "plt.figure()\n",
        "plt.plot(history.history['accuracy'], label='accuracy')\n",
        "plt.plot(history.history['val_accuracy'], label = 'val_accuracy')\n",
        "plt.title(\"Accuracy Curves\")\n",
        "plt.xlabel('Epochs')\n",
        "plt.ylabel('Accuracy')\n",
        "plt.legend()\n",
        "plt.show()\n",
        "\n",
        "plt.figure()\n",
        "plt.plot(history.history['loss'], label='loss')\n",
        "plt.plot(history.history['val_loss'], label='Validation loss')\n",
        "plt.title(\"Loss Curves\")\n",
        "plt.xlabel('Epochs')\n",
        "plt.ylabel('Loss')\n",
        "plt.legend()\n",
        "plt.show()"
      ],
      "metadata": {
        "id": "3YoLj5YYWUiw",
        "colab": {
          "base_uri": "https://localhost:8080/",
          "height": 573
        },
        "outputId": "f31100e2-e199-4d56-b2d7-9fa51f137a80"
      },
      "execution_count": 28,
      "outputs": [
        {
          "output_type": "display_data",
          "data": {
            "text/plain": [
              "<Figure size 432x288 with 1 Axes>"
            ],
            "image/png": "[encoded data removed]"
          },
          "metadata": {
            "needs_background": "light"
          }
        },
        {
          "output_type": "display_data",
          "data": {
            "text/plain": [
              "<Figure size 432x288 with 1 Axes>"
            ],
            "image/png": "[encoded data removed]"
          },
          "metadata": {
            "needs_background": "light"
          }
        }
      ]
    },
    {
      "cell_type": "code",
      "source": [
        "tst_images = np.load(BASE_PATH+'/tstImage.npy')\n",
        "tst_label_fine = np.load(BASE_PATH+'/tstLabel_fine.npy')\n",
        "tst_label_coarse = np.load(BASE_PATH+'/tstLabel_coarse.npy')\n",
        "\n",
        "tst_images = np.transpose(tst_images, (3,0,1,2))\n",
        "print(tst_images.shape)\n",
        "print(tst_label_coarse.shape)\n",
        "\n",
        "model.evaluate(tst_images, tst_label_coarse, verbose=1)"
      ],
      "metadata": {
        "id": "bl4S-RR7n0Mn",
        "colab": {
          "base_uri": "https://localhost:8080/"
        },
        "outputId": "31e41086-e45a-41e5-90ba-ea1ac7cc2ad5"
      },
      "execution_count": 29,
      "outputs": [
        {
          "output_type": "stream",
          "name": "stdout",
          "text": [
            "(10000, 32, 32, 3)\n",
            "(10000,)\n",
            "313/313 [==============================] - 2s 6ms/step - loss: 1111.6882 - accuracy: 0.0885\n"
          ]
        },
        {
          "output_type": "execute_result",
          "data": {
            "text/plain": [
              "[1111.688232421875, 0.0885000005364418]"
            ]
          },
          "metadata": {},
          "execution_count": 29
        }
      ]
    }
  ]
}