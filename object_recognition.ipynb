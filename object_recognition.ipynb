{
  "nbformat": 4,
  "nbformat_minor": 0,
  "metadata": {
    "colab": {
      "name": "object_recognition.ipynb",
      "provenance": [],
      "collapsed_sections": [],
      "mount_file_id": "1jilcSF-uqRnzhOyHWtxW7DPPs353DNrH",
      "authorship_tag": "ABX9TyMZUANwEEeLsnJmYmTtOsT7",
      "include_colab_link": true
    },
    "kernelspec": {
      "name": "python3",
      "display_name": "Python 3"
    },
    "language_info": {
      "name": "python"
    },
    "accelerator": "GPU"
  },
  "cells": [
    {
      "cell_type": "markdown",
      "metadata": {
        "id": "view-in-github",
        "colab_type": "text"
      },
      "source": [
        "<a href=\"https://colab.research.google.com/github/sharpened-ferret/CSC345-Object-Recognition/blob/main/object_recognition.ipynb\" target=\"_parent\"><img src=\"https://colab.research.google.com/assets/colab-badge.svg\" alt=\"Open In Colab\"/></a>"
      ]
    },
    {
      "cell_type": "markdown",
      "source": [
        "# CSC345: Object Recognition Coursework\n",
        "This notebook details an object recognition method for a subset of the CIFAR-100 dataset"
      ],
      "metadata": {
        "id": "XGWzYNDMXIFX"
      }
    },
    {
      "cell_type": "code",
      "execution_count": 1,
      "metadata": {
        "id": "2JkCBzJYUsQ1"
      },
      "outputs": [],
      "source": [
        "import numpy as np\n",
        "import matplotlib.pyplot as plt\n",
        "import skimage.feature\n",
        "\n",
        "BASE_PATH = '/content/drive/MyDrive/Colab Notebooks/cw_data/'"
      ]
    },
    {
      "cell_type": "markdown",
      "source": [
        "Loads the training data"
      ],
      "metadata": {
        "id": "paJo85UdWuKo"
      }
    },
    {
      "cell_type": "code",
      "source": [
        "trn_images = np.load(BASE_PATH+'/trnImage.npy')\n",
        "trn_label_fine = np.load(BASE_PATH+'/trnLabel_fine.npy')\n",
        "trn_label_coarse = np.load(BASE_PATH+'/trnLabel_coarse.npy')\n",
        "\n",
        "# trn_label_coarse = tf.keras.utils.to_categorical(trn_label_coarse, 20)\n",
        "\n",
        "print(f'Images Shape: {trn_images.shape}')\n",
        "print(f'Images Fine Labels Shape: {trn_label_fine.shape}')\n",
        "print(f'Images Coarse Labels Shape: {trn_label_coarse.shape}')\n",
        "image_index = 2 # pick a specific image\n",
        "image = trn_images[:, :, :, image_index]"
      ],
      "metadata": {
        "colab": {
          "base_uri": "https://localhost:8080/"
        },
        "id": "JipYl4AMWpR6",
        "outputId": "897cfee0-88e1-4858-84f4-bdd11a5c2daa"
      },
      "execution_count": 2,
      "outputs": [
        {
          "output_type": "stream",
          "name": "stdout",
          "text": [
            "Images Shape: (32, 32, 3, 50000)\n",
            "Images Fine Labels Shape: (50000,)\n",
            "Images Coarse Labels Shape: (50000,)\n"
          ]
        }
      ]
    },
    {
      "cell_type": "code",
      "source": [
        "print(trn_images.shape)\n",
        "trn_images = np.transpose(trn_images, (3,0,1,2))\n",
        "print(trn_images.shape)"
      ],
      "metadata": {
        "colab": {
          "base_uri": "https://localhost:8080/"
        },
        "id": "SspcgenEUbI1",
        "outputId": "3d7132ba-5052-492a-f265-68f9f3359c05"
      },
      "execution_count": 3,
      "outputs": [
        {
          "output_type": "stream",
          "name": "stdout",
          "text": [
            "(32, 32, 3, 50000)\n",
            "(50000, 32, 32, 3)\n"
          ]
        }
      ]
    },
    {
      "cell_type": "code",
      "source": [
        "import tensorflow as tf\n",
        "\n",
        "x_train = trn_images.astype(\"float32\")\n",
        "print(x_train.shape)\n",
        "\n",
        "model = tf.keras.Sequential()\n",
        "model.add(tf.keras.layers.Conv2D(64, kernel_size=(3,3), activation='relu', input_shape=(32,32,3), padding=\"same\"))\n",
        "model.add(tf.keras.layers.MaxPooling2D(pool_size=(2,2)))\n",
        "model.add(tf.keras.layers.Conv2D(128, kernel_size=(3,3), activation='relu',padding=\"same\"))\n",
        "model.add(tf.keras.layers.MaxPooling2D(pool_size=(2, 2)))\n",
        "model.add(tf.keras.layers.Conv2D(256, kernel_size=(3,3), activation='relu',padding=\"same\"))\n",
        "model.add(tf.keras.layers.SpatialDropout2D(0.2))\n",
        "model.add(tf.keras.layers.AveragePooling2D(pool_size=(2, 2)))\n",
        "model.add(tf.keras.layers.Conv2D(256, kernel_size=(3, 3), activation='relu',padding=\"same\"))\n",
        "model.add(tf.keras.layers.Flatten())\n",
        "model.add(tf.keras.layers.Dense(128, activation='relu'))\n",
        "model.add(tf.keras.layers.Dropout(0.5))\n",
        "model.add(tf.keras.layers.Dense(100))\n",
        "\n",
        "model.compile(\n",
        "    optimizer='adam',\n",
        "    loss=tf.keras.losses.SparseCategoricalCrossentropy(from_logits=True),\n",
        "    metrics=['accuracy']\n",
        ")"
      ],
      "metadata": {
        "colab": {
          "base_uri": "https://localhost:8080/"
        },
        "id": "tn46d63uK3Hg",
        "outputId": "0604ee2b-1428-4a3d-c80b-e93322b336a1"
      },
      "execution_count": 15,
      "outputs": [
        {
          "output_type": "stream",
          "name": "stdout",
          "text": [
            "(50000, 32, 32, 3)\n"
          ]
        }
      ]
    },
    {
      "cell_type": "code",
      "source": [
        "history = model.fit(x_train, trn_label_fine, batch_size=128, epochs=20, validation_split=0.2, verbose=1)"
      ],
      "metadata": {
        "colab": {
          "base_uri": "https://localhost:8080/"
        },
        "id": "w8OcvM1VMFni",
        "outputId": "4bb7f307-a087-46be-97e4-53e5579704b0"
      },
      "execution_count": 16,
      "outputs": [
        {
          "output_type": "stream",
          "name": "stdout",
          "text": [
            "Epoch 1/20\n",
            "313/313 [==============================] - 10s 31ms/step - loss: 4.3734 - accuracy: 0.0316 - val_loss: 4.0786 - val_accuracy: 0.0712\n",
            "Epoch 2/20\n",
            "313/313 [==============================] - 9s 29ms/step - loss: 3.9964 - accuracy: 0.0777 - val_loss: 3.6958 - val_accuracy: 0.1335\n",
            "Epoch 3/20\n",
            "313/313 [==============================] - 9s 29ms/step - loss: 3.7386 - accuracy: 0.1163 - val_loss: 3.4396 - val_accuracy: 0.1861\n",
            "Epoch 4/20\n",
            "313/313 [==============================] - 9s 29ms/step - loss: 3.5265 - accuracy: 0.1554 - val_loss: 3.2633 - val_accuracy: 0.2041\n",
            "Epoch 5/20\n",
            "313/313 [==============================] - 9s 29ms/step - loss: 3.3552 - accuracy: 0.1856 - val_loss: 3.0499 - val_accuracy: 0.2509\n",
            "Epoch 6/20\n",
            "313/313 [==============================] - 9s 29ms/step - loss: 3.2148 - accuracy: 0.2127 - val_loss: 2.9685 - val_accuracy: 0.2720\n",
            "Epoch 7/20\n",
            "313/313 [==============================] - 9s 29ms/step - loss: 3.0754 - accuracy: 0.2359 - val_loss: 2.8037 - val_accuracy: 0.2943\n",
            "Epoch 8/20\n",
            "313/313 [==============================] - 10s 31ms/step - loss: 2.9378 - accuracy: 0.2634 - val_loss: 2.7595 - val_accuracy: 0.3113\n",
            "Epoch 9/20\n",
            "313/313 [==============================] - 9s 29ms/step - loss: 2.8283 - accuracy: 0.2835 - val_loss: 2.6883 - val_accuracy: 0.3251\n",
            "Epoch 10/20\n",
            "313/313 [==============================] - 9s 29ms/step - loss: 2.7005 - accuracy: 0.3089 - val_loss: 2.5851 - val_accuracy: 0.3453\n",
            "Epoch 11/20\n",
            "313/313 [==============================] - 9s 29ms/step - loss: 2.5940 - accuracy: 0.3289 - val_loss: 2.5202 - val_accuracy: 0.3564\n",
            "Epoch 12/20\n",
            "313/313 [==============================] - 9s 29ms/step - loss: 2.5127 - accuracy: 0.3455 - val_loss: 2.4991 - val_accuracy: 0.3694\n",
            "Epoch 13/20\n",
            "313/313 [==============================] - 9s 29ms/step - loss: 2.4140 - accuracy: 0.3636 - val_loss: 2.4353 - val_accuracy: 0.3815\n",
            "Epoch 14/20\n",
            "313/313 [==============================] - 9s 30ms/step - loss: 2.3275 - accuracy: 0.3792 - val_loss: 2.3950 - val_accuracy: 0.3883\n",
            "Epoch 15/20\n",
            "313/313 [==============================] - 9s 29ms/step - loss: 2.2538 - accuracy: 0.3967 - val_loss: 2.3808 - val_accuracy: 0.3931\n",
            "Epoch 16/20\n",
            "313/313 [==============================] - 10s 31ms/step - loss: 2.1695 - accuracy: 0.4119 - val_loss: 2.3783 - val_accuracy: 0.3976\n",
            "Epoch 17/20\n",
            "313/313 [==============================] - 9s 29ms/step - loss: 2.0924 - accuracy: 0.4284 - val_loss: 2.3825 - val_accuracy: 0.3996\n",
            "Epoch 18/20\n",
            "313/313 [==============================] - 9s 29ms/step - loss: 2.0215 - accuracy: 0.4441 - val_loss: 2.3488 - val_accuracy: 0.4116\n",
            "Epoch 19/20\n",
            "313/313 [==============================] - 9s 29ms/step - loss: 1.9459 - accuracy: 0.4592 - val_loss: 2.3475 - val_accuracy: 0.4108\n",
            "Epoch 20/20\n",
            "313/313 [==============================] - 9s 29ms/step - loss: 1.8775 - accuracy: 0.4749 - val_loss: 2.3563 - val_accuracy: 0.4121\n"
          ]
        }
      ]
    },
    {
      "cell_type": "markdown",
      "source": [
        "Graphs of the Model's performance during training:"
      ],
      "metadata": {
        "id": "FJXiqsEAXMvI"
      }
    },
    {
      "cell_type": "code",
      "source": [
        "plt.figure()\n",
        "plt.plot(history.history['accuracy'], label='accuracy')\n",
        "plt.plot(history.history['val_accuracy'], label = 'val_accuracy')\n",
        "plt.title(\"Accuracy Curves\")\n",
        "plt.xlabel('Epochs')\n",
        "plt.ylabel('Accuracy')\n",
        "plt.legend()\n",
        "plt.show()\n",
        "\n",
        "plt.figure()\n",
        "plt.plot(history.history['loss'], label='loss')\n",
        "plt.plot(history.history['val_loss'], label='Validation loss')\n",
        "plt.title(\"Loss Curves\")\n",
        "plt.xlabel('Epochs')\n",
        "plt.ylabel('Loss')\n",
        "plt.legend()\n",
        "plt.show()"
      ],
      "metadata": {
        "id": "3YoLj5YYWUiw",
        "colab": {
          "base_uri": "https://localhost:8080/",
          "height": 573
        },
        "outputId": "ed73d7f1-dd31-4ed6-e838-3aba544a7690"
      },
      "execution_count": 17,
      "outputs": [
        {
          "output_type": "display_data",
          "data": {
            "text/plain": [
              "<Figure size 432x288 with 1 Axes>"
            ],
            "image/png": "[encoded data removed]"
          },
          "metadata": {
            "needs_background": "light"
          }
        },
        {
          "output_type": "display_data",
          "data": {
            "text/plain": [
              "<Figure size 432x288 with 1 Axes>"
            ],
            "image/png": "[encoded data removed]"
          },
          "metadata": {
            "needs_background": "light"
          }
        }
      ]
    },
    {
      "cell_type": "code",
      "source": [
        "tst_images = np.load(BASE_PATH+'/tstImage.npy')\n",
        "tst_label_fine = np.load(BASE_PATH+'/tstLabel_fine.npy')\n",
        "tst_label_coarse = np.load(BASE_PATH+'/tstLabel_coarse.npy')\n",
        "\n",
        "tst_images = np.transpose(tst_images, (3,0,1,2))\n",
        "tst_images = tst_images.astype(\"float32\")\n",
        "print(tst_images.shape)\n",
        "print(tst_label_coarse.shape)\n",
        "\n",
        "model.evaluate(tst_images, tst_label_fine, verbose=1)"
      ],
      "metadata": {
        "id": "bl4S-RR7n0Mn",
        "colab": {
          "base_uri": "https://localhost:8080/"
        },
        "outputId": "dfcb31cc-4587-483d-f8a4-12e8c96e0c11"
      },
      "execution_count": 18,
      "outputs": [
        {
          "output_type": "stream",
          "name": "stdout",
          "text": [
            "(10000, 32, 32, 3)\n",
            "(10000,)\n",
            "313/313 [==============================] - 2s 7ms/step - loss: 2.3064 - accuracy: 0.4234\n"
          ]
        },
        {
          "output_type": "execute_result",
          "data": {
            "text/plain": [
              "[2.306391716003418, 0.42340001463890076]"
            ]
          },
          "metadata": {},
          "execution_count": 18
        }
      ]
    }
  ]
}