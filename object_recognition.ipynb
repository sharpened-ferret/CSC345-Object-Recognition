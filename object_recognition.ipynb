{
  "nbformat": 4,
  "nbformat_minor": 0,
  "metadata": {
    "colab": {
      "name": "object_recognition.ipynb",
      "provenance": [],
      "collapsed_sections": [],
      "mount_file_id": "1jilcSF-uqRnzhOyHWtxW7DPPs353DNrH",
      "authorship_tag": "ABX9TyMXcQ5aWFGfddspxBYnzwVW",
      "include_colab_link": true
    },
    "kernelspec": {
      "name": "python3",
      "display_name": "Python 3"
    },
    "language_info": {
      "name": "python"
    },
    "accelerator": "GPU"
  },
  "cells": [
    {
      "cell_type": "markdown",
      "metadata": {
        "id": "view-in-github",
        "colab_type": "text"
      },
      "source": [
        "<a href=\"https://colab.research.google.com/github/sharpened-ferret/CSC345-Object-Recognition/blob/main/object_recognition.ipynb\" target=\"_parent\"><img src=\"https://colab.research.google.com/assets/colab-badge.svg\" alt=\"Open In Colab\"/></a>"
      ]
    },
    {
      "cell_type": "markdown",
      "source": [
        "# CSC345: Object Recognition Coursework\n",
        "This notebook details an object recognition method for a subset of the CIFAR-100 dataset"
      ],
      "metadata": {
        "id": "XGWzYNDMXIFX"
      }
    },
    {
      "cell_type": "code",
      "execution_count": 7,
      "metadata": {
        "id": "2JkCBzJYUsQ1"
      },
      "outputs": [],
      "source": [
        "import numpy as np\n",
        "import matplotlib.pyplot as plt\n",
        "import skimage.feature\n",
        "\n",
        "BASE_PATH = '/content/drive/MyDrive/Colab Notebooks/cw_data/'"
      ]
    },
    {
      "cell_type": "markdown",
      "source": [
        "Loads the training data"
      ],
      "metadata": {
        "id": "paJo85UdWuKo"
      }
    },
    {
      "cell_type": "code",
      "source": [
        "trn_images = np.load(BASE_PATH+'/trnImage.npy')\n",
        "trn_label_fine = np.load(BASE_PATH+'/trnLabel_fine.npy')\n",
        "trn_label_coarse = np.load(BASE_PATH+'/trnLabel_coarse.npy')\n",
        "\n",
        "# trn_label_coarse = tf.keras.utils.to_categorical(trn_label_coarse, 20)\n",
        "\n",
        "print(f'Images Shape: {trn_images.shape}')\n",
        "print(f'Images Fine Labels Shape: {trn_label_fine.shape}')\n",
        "print(f'Images Coarse Labels Shape: {trn_label_coarse.shape}')\n",
        "image_index = 2 # pick a specific image\n",
        "image = trn_images[:, :, :, image_index]"
      ],
      "metadata": {
        "colab": {
          "base_uri": "https://localhost:8080/"
        },
        "id": "JipYl4AMWpR6",
        "outputId": "46d16307-9df6-415d-b9a4-609d1b60b6c8"
      },
      "execution_count": 17,
      "outputs": [
        {
          "output_type": "stream",
          "name": "stdout",
          "text": [
            "Images Shape: (32, 32, 3, 50000)\n",
            "Images Fine Labels Shape: (50000,)\n",
            "Images Coarse Labels Shape: (50000,)\n"
          ]
        }
      ]
    },
    {
      "cell_type": "code",
      "source": [
        "print(trn_images.shape)\n",
        "trn_images = np.transpose(trn_images, (3,0,1,2))\n",
        "print(trn_images.shape)"
      ],
      "metadata": {
        "colab": {
          "base_uri": "https://localhost:8080/"
        },
        "id": "SspcgenEUbI1",
        "outputId": "b3b4892e-b49d-4dab-a025-f7be8b3db0aa"
      },
      "execution_count": 18,
      "outputs": [
        {
          "output_type": "stream",
          "name": "stdout",
          "text": [
            "(32, 32, 3, 50000)\n",
            "(50000, 32, 32, 3)\n"
          ]
        }
      ]
    },
    {
      "cell_type": "code",
      "source": [
        "import tensorflow as tf\n",
        "\n",
        "x_train = trn_images.astype(\"float32\") / 255\n",
        "print(x_train.shape)\n",
        "\n",
        "model = tf.keras.Sequential()\n",
        "model.add(tf.keras.layers.Conv2D(64, kernel_size=(3,3), activation='relu', input_shape=(32,32,3)))\n",
        "model.add(tf.keras.layers.MaxPooling2D(pool_size=(2,2)))\n",
        "model.add(tf.keras.layers.Conv2D(128, 3, activation='relu'))\n",
        "model.add(tf.keras.layers.MaxPooling2D(pool_size=(2, 2)))\n",
        "model.add(tf.keras.layers.Conv2D(128, kernel_size=(3, 3), activation='relu'))\n",
        "model.add(tf.keras.layers.Flatten())\n",
        "model.add(tf.keras.layers.Dense(128, activation='relu'))\n",
        "model.add(tf.keras.layers.Dense(20))\n",
        "\n",
        "model.compile(\n",
        "    optimizer='adam',\n",
        "    loss=tf.keras.losses.SparseCategoricalCrossentropy(from_logits=True),\n",
        "    metrics=['accuracy']\n",
        ")"
      ],
      "metadata": {
        "colab": {
          "base_uri": "https://localhost:8080/"
        },
        "id": "tn46d63uK3Hg",
        "outputId": "69429970-8f02-4b30-81e9-48628986020d"
      },
      "execution_count": 20,
      "outputs": [
        {
          "output_type": "stream",
          "name": "stdout",
          "text": [
            "(50000, 32, 32, 3)\n"
          ]
        }
      ]
    },
    {
      "cell_type": "code",
      "source": [
        "history = model.fit(x_train, trn_label_coarse, batch_size=128, epochs=20, validation_split=0.2, verbose=1)"
      ],
      "metadata": {
        "colab": {
          "base_uri": "https://localhost:8080/"
        },
        "id": "w8OcvM1VMFni",
        "outputId": "f26a9b5c-474a-4a01-8c19-d53bccf5fa09"
      },
      "execution_count": 24,
      "outputs": [
        {
          "output_type": "stream",
          "name": "stdout",
          "text": [
            "Epoch 1/20\n",
            "313/313 [==============================] - 7s 20ms/step - loss: 2.4077 - accuracy: 0.2514 - val_loss: 2.4362 - val_accuracy: 0.2456\n",
            "Epoch 2/20\n",
            "313/313 [==============================] - 6s 19ms/step - loss: 2.3825 - accuracy: 0.2599 - val_loss: 2.4895 - val_accuracy: 0.2305\n",
            "Epoch 3/20\n",
            "313/313 [==============================] - 6s 19ms/step - loss: 2.3706 - accuracy: 0.2638 - val_loss: 2.4048 - val_accuracy: 0.2580\n",
            "Epoch 4/20\n",
            "313/313 [==============================] - 6s 19ms/step - loss: 2.3510 - accuracy: 0.2706 - val_loss: 2.4375 - val_accuracy: 0.2479\n",
            "Epoch 5/20\n",
            "313/313 [==============================] - 6s 19ms/step - loss: 2.3391 - accuracy: 0.2754 - val_loss: 2.3550 - val_accuracy: 0.2755\n",
            "Epoch 6/20\n",
            "313/313 [==============================] - 6s 19ms/step - loss: 2.3238 - accuracy: 0.2823 - val_loss: 2.3442 - val_accuracy: 0.2785\n",
            "Epoch 7/20\n",
            "313/313 [==============================] - 6s 19ms/step - loss: 2.3133 - accuracy: 0.2845 - val_loss: 2.3359 - val_accuracy: 0.2826\n",
            "Epoch 8/20\n",
            "313/313 [==============================] - 6s 19ms/step - loss: 2.2975 - accuracy: 0.2874 - val_loss: 2.3502 - val_accuracy: 0.2773\n",
            "Epoch 9/20\n",
            "313/313 [==============================] - 6s 19ms/step - loss: 2.2946 - accuracy: 0.2912 - val_loss: 2.3142 - val_accuracy: 0.2861\n",
            "Epoch 10/20\n",
            "313/313 [==============================] - 6s 19ms/step - loss: 2.2733 - accuracy: 0.2978 - val_loss: 2.3134 - val_accuracy: 0.2900\n",
            "Epoch 11/20\n",
            "313/313 [==============================] - 6s 19ms/step - loss: 2.2598 - accuracy: 0.3008 - val_loss: 2.2907 - val_accuracy: 0.2949\n",
            "Epoch 12/20\n",
            "313/313 [==============================] - 6s 18ms/step - loss: 2.2502 - accuracy: 0.3038 - val_loss: 2.2752 - val_accuracy: 0.2964\n",
            "Epoch 13/20\n",
            "313/313 [==============================] - 6s 19ms/step - loss: 2.2353 - accuracy: 0.3100 - val_loss: 2.2576 - val_accuracy: 0.3019\n",
            "Epoch 14/20\n",
            "313/313 [==============================] - 6s 18ms/step - loss: 2.2316 - accuracy: 0.3097 - val_loss: 2.2798 - val_accuracy: 0.2951\n",
            "Epoch 15/20\n",
            "313/313 [==============================] - 6s 18ms/step - loss: 2.2197 - accuracy: 0.3138 - val_loss: 2.2480 - val_accuracy: 0.3037\n",
            "Epoch 16/20\n",
            "313/313 [==============================] - 6s 18ms/step - loss: 2.2071 - accuracy: 0.3177 - val_loss: 2.2826 - val_accuracy: 0.3016\n",
            "Epoch 17/20\n",
            "313/313 [==============================] - 6s 19ms/step - loss: 2.1891 - accuracy: 0.3228 - val_loss: 2.2165 - val_accuracy: 0.3148\n",
            "Epoch 18/20\n",
            "313/313 [==============================] - 6s 19ms/step - loss: 2.1797 - accuracy: 0.3269 - val_loss: 2.2370 - val_accuracy: 0.3098\n",
            "Epoch 19/20\n",
            "313/313 [==============================] - 6s 19ms/step - loss: 2.1676 - accuracy: 0.3303 - val_loss: 2.2193 - val_accuracy: 0.3138\n",
            "Epoch 20/20\n",
            "313/313 [==============================] - 6s 19ms/step - loss: 2.1567 - accuracy: 0.3329 - val_loss: 2.1980 - val_accuracy: 0.3184\n"
          ]
        }
      ]
    },
    {
      "cell_type": "markdown",
      "source": [
        "Graphs of the Model's performance during training:"
      ],
      "metadata": {
        "id": "FJXiqsEAXMvI"
      }
    },
    {
      "cell_type": "code",
      "source": [
        "plt.figure()\n",
        "plt.plot(history.history['accuracy'], label='accuracy')\n",
        "plt.plot(history.history['val_accuracy'], label = 'val_accuracy')\n",
        "plt.title(\"Accuracy Curves\")\n",
        "plt.xlabel('Epochs')\n",
        "plt.ylabel('Accuracy')\n",
        "plt.legend()\n",
        "plt.show()\n",
        "\n",
        "plt.figure()\n",
        "plt.plot(history.history['loss'], label='loss')\n",
        "plt.plot(history.history['val_loss'], label='Validation loss')\n",
        "plt.title(\"Loss Curves\")\n",
        "plt.xlabel('Epochs')\n",
        "plt.ylabel('Loss')\n",
        "plt.legend()\n",
        "plt.show()"
      ],
      "metadata": {
        "id": "3YoLj5YYWUiw",
        "colab": {
          "base_uri": "https://localhost:8080/",
          "height": 573
        },
        "outputId": "bb97615a-9df6-41a1-8d66-38317514a247"
      },
      "execution_count": 25,
      "outputs": [
        {
          "output_type": "display_data",
          "data": {
            "text/plain": [
              "<Figure size 432x288 with 1 Axes>"
            ],
            "image/png": "[encoded data removed]"
          },
          "metadata": {
            "needs_background": "light"
          }
        },
        {
          "output_type": "display_data",
          "data": {
            "text/plain": [
              "<Figure size 432x288 with 1 Axes>"
            ],
            "image/png": "[encoded data removed]"
          },
          "metadata": {
            "needs_background": "light"
          }
        }
      ]
    },
    {
      "cell_type": "code",
      "source": [
        "tst_images = np.load(BASE_PATH+'/tstImage.npy')\n",
        "tst_label_fine = np.load(BASE_PATH+'/tstLabel_fine.npy')\n",
        "tst_label_coarse = np.load(BASE_PATH+'/tstLabel_coarse.npy')\n",
        "\n",
        "tst_images = np.transpose(tst_images, (3,0,1,2))\n",
        "print(tst_images.shape)\n",
        "print(tst_label_coarse.shape)\n",
        "\n",
        "model.evaluate(tst_images, tst_label_coarse, verbose=1)"
      ],
      "metadata": {
        "id": "bl4S-RR7n0Mn",
        "colab": {
          "base_uri": "https://localhost:8080/"
        },
        "outputId": "6f24d03d-90e1-417e-9480-4512496c5bb2"
      },
      "execution_count": 26,
      "outputs": [
        {
          "output_type": "stream",
          "name": "stdout",
          "text": [
            "(10000, 32, 32, 3)\n",
            "(10000,)\n",
            "313/313 [==============================] - 2s 6ms/step - loss: 800.6030 - accuracy: 0.0644\n"
          ]
        },
        {
          "output_type": "execute_result",
          "data": {
            "text/plain": [
              "[800.6029663085938, 0.06440000236034393]"
            ]
          },
          "metadata": {},
          "execution_count": 26
        }
      ]
    }
  ]
}