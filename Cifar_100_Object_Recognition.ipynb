{
  "nbformat": 4,
  "nbformat_minor": 0,
  "metadata": {
    "colab": {
      "name": "Cifar-100 Object Recognition.ipynb",
      "provenance": [],
      "collapsed_sections": [],
      "mount_file_id": "1978h6YcasifMl7mW_0EuZKYsCxfG9y29",
      "authorship_tag": "ABX9TyNaYQyP6/dMtcqwLBG4/G9W"
    },
    "kernelspec": {
      "name": "python3",
      "display_name": "Python 3"
    },
    "language_info": {
      "name": "python"
    },
    "accelerator": "GPU"
  },
  "cells": [
    {
      "cell_type": "markdown",
      "source": [
        "# CSC345: Object Recognition Coursework\n",
        "This notebook details two methods for performing object recognition on the provided subset of the Cifar-100 image dataset.\n",
        "\n",
        "The first method uses an SVM trained on HOGs generated from the image dataset.<br>\n",
        "The second method uses a CNN trained on a scaled version of the dataset. "
      ],
      "metadata": {
        "id": "XGWzYNDMXIFX"
      }
    },
    {
      "cell_type": "markdown",
      "source": [
        "# SVM Implementation of Object Recognition on a Subset of the CIFAR-100 Dataset\n",
        "\n",
        "For this implementation, we are using a Support Vector Machine to classify the images in the dataset. \n",
        "\n",
        "This model is trained using Histograms of Oriented Gradients that are generated from the given data files. \n",
        "\n",
        "This section contains two runs, the first using the coarse labels for the data, and the second using the fine labels."
      ],
      "metadata": {
        "id": "3u7hA8qkhYYM"
      }
    },
    {
      "cell_type": "code",
      "source": [
        "import numpy as np\n",
        "import skimage.feature"
      ],
      "metadata": {
        "id": "9KWrjEVqt777"
      },
      "execution_count": 40,
      "outputs": []
    },
    {
      "cell_type": "markdown",
      "source": [
        "First, we need to load the training data files. \n",
        "Here, BASE_PATH points to the folder containing the data files. "
      ],
      "metadata": {
        "id": "8URfx4cBe7Tm"
      }
    },
    {
      "cell_type": "code",
      "execution_count": 41,
      "metadata": {
        "id": "iDa0iTbHt0lj"
      },
      "outputs": [],
      "source": [
        "BASE_PATH = '/content/drive/MyDrive/Colab Notebooks/cw_data/'\n",
        "\n",
        "images = np.load(BASE_PATH + '/trnImage.npy')\n",
        "label_fine = np.load(BASE_PATH + '/trnLabel_fine.npy')\n",
        "label_coarse = np.load(BASE_PATH + '/trnLabel_coarse.npy')"
      ]
    },
    {
      "cell_type": "markdown",
      "source": [
        "This cell contains a configurable limiter (currently disabled), for training the SVM using less than the entire dataset, to speed up incremental testing."
      ],
      "metadata": {
        "id": "cT3VydPheioz"
      }
    },
    {
      "cell_type": "code",
      "source": [
        "LIMITER = 10000\n",
        "\n",
        "# images = images[:,:,:,:LIMITER]\n",
        "# label_coarse = label_coarse[:LIMITER]\n",
        "# label_fine = label_fine[:LIMITER]"
      ],
      "metadata": {
        "id": "HNq3YaBIuY7U"
      },
      "execution_count": 42,
      "outputs": []
    },
    {
      "cell_type": "markdown",
      "source": [
        "To use the provided data with an SVM, it needs some initial processing to generate a Histogram of Oriented Gradients for each image in the data set.\n",
        "\n",
        "This function takes a dataset, in the format provided for the coursework, and returns an array of Histograms, one for each image provided."
      ],
      "metadata": {
        "id": "ErKeFUP-fTtC"
      }
    },
    {
      "cell_type": "code",
      "source": [
        "def gen_hogs(dataset):\n",
        "  ppc = 4\n",
        "  hog_features = []\n",
        "  for image_num in range(dataset.shape[3]):\n",
        "    image = dataset[:, :, :, image_num]\n",
        "    hog_features.append(skimage.feature.hog(image, pixels_per_cell=(6,6), cells_per_block=(2,2), visualize=False))\n",
        "    if image_num % 1000 == 0:\n",
        "      # Prints the current image number every 1000 images to monitor progress\n",
        "      print(image_num)\n",
        "  return hog_features"
      ],
      "metadata": {
        "id": "TCSQruHQwzhx"
      },
      "execution_count": 43,
      "outputs": []
    },
    {
      "cell_type": "markdown",
      "source": [
        "Now that our helper function is defined, we can pass the training data into it to generate histograms for modeling. "
      ],
      "metadata": {
        "id": "_WbthdR1f53C"
      }
    },
    {
      "cell_type": "code",
      "source": [
        "features = gen_hogs(images)"
      ],
      "metadata": {
        "colab": {
          "base_uri": "https://localhost:8080/"
        },
        "id": "R2rD65ny0GRV",
        "outputId": "079afad5-6ccf-4505-c540-aee98767083e"
      },
      "execution_count": 44,
      "outputs": [
        {
          "output_type": "stream",
          "name": "stdout",
          "text": [
            "0\n",
            "1000\n",
            "2000\n",
            "3000\n",
            "4000\n",
            "5000\n",
            "6000\n",
            "7000\n",
            "8000\n",
            "9000\n",
            "10000\n",
            "11000\n",
            "12000\n",
            "13000\n",
            "14000\n",
            "15000\n",
            "16000\n",
            "17000\n",
            "18000\n",
            "19000\n",
            "20000\n",
            "21000\n",
            "22000\n",
            "23000\n",
            "24000\n",
            "25000\n",
            "26000\n",
            "27000\n",
            "28000\n",
            "29000\n",
            "30000\n",
            "31000\n",
            "32000\n",
            "33000\n",
            "34000\n",
            "35000\n",
            "36000\n",
            "37000\n",
            "38000\n",
            "39000\n",
            "40000\n",
            "41000\n",
            "42000\n",
            "43000\n",
            "44000\n",
            "45000\n",
            "46000\n",
            "47000\n",
            "48000\n",
            "49000\n"
          ]
        }
      ]
    },
    {
      "cell_type": "markdown",
      "source": [
        "We take the histogram array generated, and convert it to an numpy array for easier processing. "
      ],
      "metadata": {
        "id": "CQxxUN6QgRmr"
      }
    },
    {
      "cell_type": "code",
      "source": [
        "features_array = np.array(features)\n",
        "print(features_array.shape)"
      ],
      "metadata": {
        "colab": {
          "base_uri": "https://localhost:8080/"
        },
        "id": "EGas4_ki1paE",
        "outputId": "62a68f24-cbde-48ac-da99-6d514b2b0096"
      },
      "execution_count": 45,
      "outputs": [
        {
          "output_type": "stream",
          "name": "stdout",
          "text": [
            "(50000, 576)\n"
          ]
        }
      ]
    },
    {
      "cell_type": "markdown",
      "source": [
        "## Coarse Labels Run"
      ],
      "metadata": {
        "id": "MUZloB6l2SAB"
      }
    },
    {
      "cell_type": "markdown",
      "source": [
        "Now we can train an SVM on the HOGs from the training data, first using the coarse label set. "
      ],
      "metadata": {
        "id": "O3wIazpAgcWS"
      }
    },
    {
      "cell_type": "code",
      "source": [
        "from sklearn import svm\n",
        "\n",
        "svm_coarse = svm.SVC()\n",
        "\n",
        "x_train = features_array\n",
        "\n",
        "svm_coarse.fit(x_train, label_coarse)"
      ],
      "metadata": {
        "id": "y1fckI1m3Yka",
        "colab": {
          "base_uri": "https://localhost:8080/"
        },
        "outputId": "28c5d1c5-6a41-4a4d-ad0e-b9f41a8ebd3d"
      },
      "execution_count": 46,
      "outputs": [
        {
          "output_type": "execute_result",
          "data": {
            "text/plain": [
              "SVC()"
            ]
          },
          "metadata": {},
          "execution_count": 46
        }
      ]
    },
    {
      "cell_type": "markdown",
      "source": [
        "For evaluating the model, we first need to load the test data and generate HOGs for it using the same helper function defined earlier. "
      ],
      "metadata": {
        "id": "57xg_PlXgtu_"
      }
    },
    {
      "cell_type": "code",
      "source": [
        "test_images = np.load(BASE_PATH + '/tstImage.npy')\n",
        "test_label_fine = np.load(BASE_PATH + '/tstLabel_fine.npy')\n",
        "test_label_coarse = np.load(BASE_PATH + '/tstLabel_coarse.npy')"
      ],
      "metadata": {
        "id": "LOYgop3jJhYp"
      },
      "execution_count": 47,
      "outputs": []
    },
    {
      "cell_type": "code",
      "source": [
        "x_test = np.array(gen_hogs(test_images))"
      ],
      "metadata": {
        "id": "N_rIQQQ3JvCX",
        "colab": {
          "base_uri": "https://localhost:8080/"
        },
        "outputId": "bfba6321-f862-42ef-de13-28cf40e2261a"
      },
      "execution_count": 48,
      "outputs": [
        {
          "output_type": "stream",
          "name": "stdout",
          "text": [
            "0\n",
            "1000\n",
            "2000\n",
            "3000\n",
            "4000\n",
            "5000\n",
            "6000\n",
            "7000\n",
            "8000\n",
            "9000\n"
          ]
        }
      ]
    },
    {
      "cell_type": "markdown",
      "source": [
        "Then, we can run predictions on the model using the prepared test data, and evaluate the accuracy of the classification. "
      ],
      "metadata": {
        "id": "K-n3BaPehExF"
      }
    },
    {
      "cell_type": "code",
      "source": [
        "y_predict_coarse = svm_coarse.predict(x_test)"
      ],
      "metadata": {
        "id": "urwAOgGd5qRr"
      },
      "execution_count": 49,
      "outputs": []
    },
    {
      "cell_type": "code",
      "source": [
        "from sklearn.metrics import accuracy_score, classification_report\n",
        "\n",
        "print(\"Accuracy: \"+str(accuracy_score(test_label_coarse, y_predict_coarse)))\n",
        "print(classification_report(test_label_coarse, y_predict_coarse))"
      ],
      "metadata": {
        "id": "OB1rwq6ncHLo",
        "colab": {
          "base_uri": "https://localhost:8080/"
        },
        "outputId": "a4c4fb22-b953-4462-9ae8-7f902bbae795"
      },
      "execution_count": 50,
      "outputs": [
        {
          "output_type": "stream",
          "name": "stdout",
          "text": [
            "Accuracy: 0.3939\n",
            "              precision    recall  f1-score   support\n",
            "\n",
            "           0       0.28      0.30      0.29       500\n",
            "           1       0.36      0.38      0.37       500\n",
            "           2       0.31      0.35      0.33       500\n",
            "           3       0.57      0.59      0.58       500\n",
            "           4       0.47      0.39      0.43       500\n",
            "           5       0.56      0.43      0.49       500\n",
            "           6       0.57      0.64      0.60       500\n",
            "           7       0.33      0.37      0.35       500\n",
            "           8       0.26      0.35      0.30       500\n",
            "           9       0.45      0.53      0.48       500\n",
            "          10       0.59      0.50      0.54       500\n",
            "          11       0.28      0.29      0.28       500\n",
            "          12       0.22      0.20      0.21       500\n",
            "          13       0.30      0.22      0.25       500\n",
            "          14       0.41      0.38      0.40       500\n",
            "          15       0.25      0.24      0.24       500\n",
            "          16       0.26      0.22      0.24       500\n",
            "          17       0.53      0.63      0.57       500\n",
            "          18       0.50      0.44      0.47       500\n",
            "          19       0.42      0.43      0.42       500\n",
            "\n",
            "    accuracy                           0.39     10000\n",
            "   macro avg       0.40      0.39      0.39     10000\n",
            "weighted avg       0.40      0.39      0.39     10000\n",
            "\n"
          ]
        }
      ]
    },
    {
      "cell_type": "markdown",
      "source": [
        "## Fine Labels Run"
      ],
      "metadata": {
        "id": "NzfhGWMt2W2-"
      }
    },
    {
      "cell_type": "markdown",
      "source": [
        "Now we can train a new SVM using the training data and the fine labels. "
      ],
      "metadata": {
        "id": "DK9XOPYQ37A2"
      }
    },
    {
      "cell_type": "code",
      "source": [
        "svm_fine = svm.SVC()\n",
        "svm_fine.fit(x_train, label_fine)"
      ],
      "metadata": {
        "colab": {
          "base_uri": "https://localhost:8080/"
        },
        "id": "vgsKfRZG2Ytd",
        "outputId": "43b61a3b-44fb-41c6-b8d4-d4d81b7df5c3"
      },
      "execution_count": 51,
      "outputs": [
        {
          "output_type": "execute_result",
          "data": {
            "text/plain": [
              "SVC()"
            ]
          },
          "metadata": {},
          "execution_count": 51
        }
      ]
    },
    {
      "cell_type": "markdown",
      "source": [
        "Then we evaluate the model performace using the fine testing labels."
      ],
      "metadata": {
        "id": "LBbN-o3V4CXg"
      }
    },
    {
      "cell_type": "code",
      "source": [
        "y_predict_fine = svm_fine.predict(x_test)"
      ],
      "metadata": {
        "id": "TvlCwBd_3Oo-"
      },
      "execution_count": 52,
      "outputs": []
    },
    {
      "cell_type": "code",
      "source": [
        "print(\"Accuracy: \"+str(accuracy_score(test_label_fine, y_predict_fine)))\n",
        "print(classification_report(test_label_fine, y_predict_fine))"
      ],
      "metadata": {
        "colab": {
          "base_uri": "https://localhost:8080/"
        },
        "outputId": "bbcbf40d-7b11-4bb8-afca-e64456da7684",
        "id": "hSf9FYnb3Tmv"
      },
      "execution_count": 53,
      "outputs": [
        {
          "output_type": "stream",
          "name": "stdout",
          "text": [
            "Accuracy: 0.282\n",
            "              precision    recall  f1-score   support\n",
            "\n",
            "           0       0.64      0.54      0.58       100\n",
            "           1       0.29      0.31      0.30       100\n",
            "           2       0.10      0.04      0.06       100\n",
            "           3       0.13      0.10      0.11       100\n",
            "           4       0.14      0.10      0.11       100\n",
            "           5       0.40      0.41      0.41       100\n",
            "           6       0.10      0.18      0.13       100\n",
            "           7       0.16      0.16      0.16       100\n",
            "           8       0.50      0.47      0.48       100\n",
            "           9       0.53      0.57      0.55       100\n",
            "          10       0.35      0.38      0.37       100\n",
            "          11       0.24      0.14      0.18       100\n",
            "          12       0.28      0.31      0.29       100\n",
            "          13       0.25      0.26      0.25       100\n",
            "          14       0.19      0.30      0.23       100\n",
            "          15       0.28      0.22      0.25       100\n",
            "          16       0.45      0.41      0.43       100\n",
            "          17       0.30      0.33      0.31       100\n",
            "          18       0.18      0.14      0.16       100\n",
            "          19       0.14      0.17      0.16       100\n",
            "          20       0.68      0.72      0.70       100\n",
            "          21       0.24      0.19      0.21       100\n",
            "          22       0.41      0.39      0.40       100\n",
            "          23       0.16      0.09      0.12       100\n",
            "          24       0.45      0.55      0.49       100\n",
            "          25       0.39      0.36      0.37       100\n",
            "          26       0.20      0.23      0.21       100\n",
            "          27       0.15      0.31      0.20       100\n",
            "          28       0.60      0.66      0.63       100\n",
            "          29       0.43      0.35      0.39       100\n",
            "          30       0.14      0.16      0.15       100\n",
            "          31       0.16      0.24      0.20       100\n",
            "          32       0.25      0.30      0.27       100\n",
            "          33       0.17      0.33      0.22       100\n",
            "          34       0.14      0.10      0.12       100\n",
            "          35       0.20      0.13      0.16       100\n",
            "          36       0.20      0.21      0.20       100\n",
            "          37       0.22      0.21      0.21       100\n",
            "          38       0.11      0.15      0.13       100\n",
            "          39       0.62      0.30      0.41       100\n",
            "          40       0.43      0.40      0.41       100\n",
            "          41       0.73      0.53      0.61       100\n",
            "          42       0.14      0.24      0.17       100\n",
            "          43       0.13      0.14      0.13       100\n",
            "          44       0.09      0.11      0.10       100\n",
            "          45       0.10      0.07      0.08       100\n",
            "          46       0.25      0.16      0.20       100\n",
            "          47       0.20      0.24      0.22       100\n",
            "          48       0.56      0.58      0.57       100\n",
            "          49       0.24      0.33      0.28       100\n",
            "          50       0.13      0.08      0.10       100\n",
            "          51       0.15      0.16      0.16       100\n",
            "          52       0.38      0.50      0.43       100\n",
            "          53       0.42      0.32      0.36       100\n",
            "          54       0.13      0.14      0.14       100\n",
            "          55       0.12      0.04      0.06       100\n",
            "          56       0.29      0.37      0.32       100\n",
            "          57       0.39      0.35      0.37       100\n",
            "          58       0.43      0.44      0.44       100\n",
            "          59       0.18      0.17      0.17       100\n",
            "          60       0.44      0.60      0.51       100\n",
            "          61       0.46      0.63      0.53       100\n",
            "          62       0.17      0.13      0.15       100\n",
            "          63       0.18      0.33      0.23       100\n",
            "          64       0.08      0.06      0.07       100\n",
            "          65       0.13      0.07      0.09       100\n",
            "          66       0.17      0.09      0.12       100\n",
            "          67       0.12      0.09      0.10       100\n",
            "          68       0.58      0.65      0.61       100\n",
            "          69       0.40      0.64      0.49       100\n",
            "          70       0.15      0.11      0.13       100\n",
            "          71       0.42      0.52      0.46       100\n",
            "          72       0.11      0.04      0.06       100\n",
            "          73       0.29      0.23      0.26       100\n",
            "          74       0.12      0.11      0.11       100\n",
            "          75       0.34      0.26      0.30       100\n",
            "          76       0.47      0.59      0.52       100\n",
            "          77       0.12      0.08      0.10       100\n",
            "          78       0.15      0.12      0.13       100\n",
            "          79       0.28      0.40      0.33       100\n",
            "          80       0.17      0.10      0.13       100\n",
            "          81       0.23      0.29      0.26       100\n",
            "          82       0.49      0.24      0.32       100\n",
            "          83       0.29      0.15      0.20       100\n",
            "          84       0.40      0.31      0.35       100\n",
            "          85       0.31      0.37      0.34       100\n",
            "          86       0.63      0.42      0.50       100\n",
            "          87       0.39      0.47      0.43       100\n",
            "          88       0.14      0.16      0.15       100\n",
            "          89       0.18      0.24      0.21       100\n",
            "          90       0.40      0.30      0.34       100\n",
            "          91       0.45      0.49      0.47       100\n",
            "          92       0.09      0.10      0.10       100\n",
            "          93       0.16      0.11      0.13       100\n",
            "          94       0.56      0.75      0.64       100\n",
            "          95       0.27      0.30      0.29       100\n",
            "          96       0.11      0.10      0.10       100\n",
            "          97       0.21      0.18      0.19       100\n",
            "          98       0.12      0.12      0.12       100\n",
            "          99       0.36      0.36      0.36       100\n",
            "\n",
            "    accuracy                           0.28     10000\n",
            "   macro avg       0.28      0.28      0.28     10000\n",
            "weighted avg       0.28      0.28      0.28     10000\n",
            "\n"
          ]
        }
      ]
    },
    {
      "cell_type": "markdown",
      "source": [
        "# CNN Implementation of Object Recognition on a Subset of the CIFAR-100 Dataset\n",
        "\n",
        "For this implementation, we are using a Convolutional Neural Network to classify images from the dataset.\n",
        "\n",
        "This section contains a single CNN network structure, which is trained and tested, first on the coarse labels, then on the fine labels."
      ],
      "metadata": {
        "id": "jBWU4nEyiSzS"
      }
    },
    {
      "cell_type": "code",
      "execution_count": 13,
      "metadata": {
        "id": "2JkCBzJYUsQ1"
      },
      "outputs": [],
      "source": [
        "import numpy as np\n",
        "import matplotlib.pyplot as plt\n",
        "import skimage.feature"
      ]
    },
    {
      "cell_type": "markdown",
      "source": [
        "First, we need to load the training data files. Here, BASE_PATH points to the folder containing the data files."
      ],
      "metadata": {
        "id": "paJo85UdWuKo"
      }
    },
    {
      "cell_type": "code",
      "source": [
        "BASE_PATH = '/content/drive/MyDrive/Colab Notebooks/cw_data/'\n",
        "\n",
        "trn_images = np.load(BASE_PATH+'/trnImage.npy')\n",
        "trn_label_fine = np.load(BASE_PATH+'/trnLabel_fine.npy')\n",
        "trn_label_coarse = np.load(BASE_PATH+'/trnLabel_coarse.npy')\n",
        "\n",
        "print(f'Images Shape: {trn_images.shape}')\n",
        "print(f'Images Fine Labels Shape: {trn_label_fine.shape}')\n",
        "print(f'Images Coarse Labels Shape: {trn_label_coarse.shape}')"
      ],
      "metadata": {
        "colab": {
          "base_uri": "https://localhost:8080/"
        },
        "id": "JipYl4AMWpR6",
        "outputId": "51b7c754-ee1e-46ec-d50f-b9db90aa6369"
      },
      "execution_count": 14,
      "outputs": [
        {
          "output_type": "stream",
          "name": "stdout",
          "text": [
            "Images Shape: (32, 32, 3, 50000)\n",
            "Images Fine Labels Shape: (50000,)\n",
            "Images Coarse Labels Shape: (50000,)\n"
          ]
        }
      ]
    },
    {
      "cell_type": "markdown",
      "source": [
        "The data format provided is not the standard expected for Tensorflow Keras models, so we need to transpose so that the sample number is the first dimension."
      ],
      "metadata": {
        "id": "0EnzrKmpkvJq"
      }
    },
    {
      "cell_type": "code",
      "source": [
        "print(trn_images.shape)\n",
        "trn_images = np.transpose(trn_images, (3,0,1,2))\n",
        "print(trn_images.shape)"
      ],
      "metadata": {
        "colab": {
          "base_uri": "https://localhost:8080/"
        },
        "id": "SspcgenEUbI1",
        "outputId": "a0a82a1a-7f18-4693-ef8b-7a208fcaced2"
      },
      "execution_count": 15,
      "outputs": [
        {
          "output_type": "stream",
          "name": "stdout",
          "text": [
            "(32, 32, 3, 50000)\n",
            "(50000, 32, 32, 3)\n"
          ]
        }
      ]
    },
    {
      "cell_type": "markdown",
      "source": [
        "Now that the data is loaded and processed, we define the properties for our CNN and compile it. "
      ],
      "metadata": {
        "id": "AY8q18AelHUm"
      }
    },
    {
      "cell_type": "code",
      "source": [
        "import tensorflow as tf\n",
        "\n",
        "model = tf.keras.Sequential()\n",
        "model.add(tf.keras.layers.Conv2D(64, kernel_size=(3,3), activation='relu', input_shape=(32,32,3), padding=\"same\"))\n",
        "model.add(tf.keras.layers.MaxPooling2D(pool_size=(2,2)))\n",
        "model.add(tf.keras.layers.Conv2D(128, kernel_size=(3,3), activation='relu',padding=\"same\"))\n",
        "model.add(tf.keras.layers.MaxPooling2D(pool_size=(2, 2)))\n",
        "model.add(tf.keras.layers.Conv2D(256, kernel_size=(3,3), activation='relu',padding=\"same\"))\n",
        "model.add(tf.keras.layers.SpatialDropout2D(0.2))\n",
        "model.add(tf.keras.layers.AveragePooling2D(pool_size=(2, 2)))\n",
        "model.add(tf.keras.layers.Conv2D(256, kernel_size=(3, 3), activation='relu',padding=\"same\"))\n",
        "model.add(tf.keras.layers.Flatten())\n",
        "model.add(tf.keras.layers.Dense(128, activation='relu'))\n",
        "model.add(tf.keras.layers.Dropout(0.5))\n",
        "model.add(tf.keras.layers.Dense(100))\n",
        "\n",
        "model.compile(\n",
        "    optimizer='adam',\n",
        "    loss=tf.keras.losses.SparseCategoricalCrossentropy(from_logits=True),\n",
        "    metrics=['accuracy']\n",
        ")"
      ],
      "metadata": {
        "id": "tn46d63uK3Hg"
      },
      "execution_count": 16,
      "outputs": []
    },
    {
      "cell_type": "markdown",
      "source": [
        "## Coarse Labels Run"
      ],
      "metadata": {
        "id": "r2e13QTh1m8_"
      }
    },
    {
      "cell_type": "markdown",
      "source": [
        "Then we can fit our prepared training data to the compiled model, using an 80:20 training:validation split. "
      ],
      "metadata": {
        "id": "upE2bxV3lkrY"
      }
    },
    {
      "cell_type": "code",
      "source": [
        "x_train = trn_images.astype(\"float32\")\n",
        "\n",
        "history = model.fit(x_train, trn_label_coarse, batch_size=128, epochs=10, validation_split=0.2, verbose=1)"
      ],
      "metadata": {
        "colab": {
          "base_uri": "https://localhost:8080/"
        },
        "id": "w8OcvM1VMFni",
        "outputId": "156c64a5-5c49-43c2-de6b-e54763bee7fd"
      },
      "execution_count": 17,
      "outputs": [
        {
          "output_type": "stream",
          "name": "stdout",
          "text": [
            "Epoch 1/10\n",
            "313/313 [==============================] - 10s 31ms/step - loss: 2.9717 - accuracy: 0.1282 - val_loss: 2.4768 - val_accuracy: 0.2367\n",
            "Epoch 2/10\n",
            "313/313 [==============================] - 10s 30ms/step - loss: 2.4594 - accuracy: 0.2410 - val_loss: 2.2629 - val_accuracy: 0.3031\n",
            "Epoch 3/10\n",
            "313/313 [==============================] - 10s 31ms/step - loss: 2.2732 - accuracy: 0.2952 - val_loss: 2.0313 - val_accuracy: 0.3683\n",
            "Epoch 4/10\n",
            "313/313 [==============================] - 9s 30ms/step - loss: 2.1396 - accuracy: 0.3393 - val_loss: 1.9423 - val_accuracy: 0.3996\n",
            "Epoch 5/10\n",
            "313/313 [==============================] - 9s 30ms/step - loss: 2.0257 - accuracy: 0.3751 - val_loss: 1.8487 - val_accuracy: 0.4186\n",
            "Epoch 6/10\n",
            "313/313 [==============================] - 9s 30ms/step - loss: 1.9197 - accuracy: 0.4048 - val_loss: 1.7469 - val_accuracy: 0.4536\n",
            "Epoch 7/10\n",
            "313/313 [==============================] - 9s 30ms/step - loss: 1.8070 - accuracy: 0.4382 - val_loss: 1.6711 - val_accuracy: 0.4713\n",
            "Epoch 8/10\n",
            "313/313 [==============================] - 9s 30ms/step - loss: 1.7325 - accuracy: 0.4623 - val_loss: 1.6298 - val_accuracy: 0.4953\n",
            "Epoch 9/10\n",
            "313/313 [==============================] - 10s 32ms/step - loss: 1.6447 - accuracy: 0.4869 - val_loss: 1.5740 - val_accuracy: 0.5022\n",
            "Epoch 10/10\n",
            "313/313 [==============================] - 11s 35ms/step - loss: 1.5507 - accuracy: 0.5125 - val_loss: 1.5072 - val_accuracy: 0.5231\n"
          ]
        }
      ]
    },
    {
      "cell_type": "markdown",
      "source": [
        "Graphs of the Model's performance during training:"
      ],
      "metadata": {
        "id": "FJXiqsEAXMvI"
      }
    },
    {
      "cell_type": "code",
      "source": [
        "plt.figure()\n",
        "plt.plot(history.history['accuracy'], label='accuracy')\n",
        "plt.plot(history.history['val_accuracy'], label = 'val_accuracy')\n",
        "plt.title(\"Accuracy Curves\")\n",
        "plt.xlabel('Epochs')\n",
        "plt.ylabel('Accuracy')\n",
        "plt.legend()\n",
        "plt.show()\n",
        "\n",
        "plt.figure()\n",
        "plt.plot(history.history['loss'], label='loss')\n",
        "plt.plot(history.history['val_loss'], label='Validation loss')\n",
        "plt.title(\"Loss Curves\")\n",
        "plt.xlabel('Epochs')\n",
        "plt.ylabel('Loss')\n",
        "plt.legend()\n",
        "plt.show()"
      ],
      "metadata": {
        "id": "3YoLj5YYWUiw",
        "colab": {
          "base_uri": "https://localhost:8080/",
          "height": 573
        },
        "outputId": "25ac4ea5-6187-4f33-e3e8-8f48e3ecf224"
      },
      "execution_count": 18,
      "outputs": [
        {
          "output_type": "display_data",
          "data": {
            "text/plain": [
              "<Figure size 432x288 with 1 Axes>"
            ],
            "image/png": "[encoded data removed]"
          },
          "metadata": {
            "needs_background": "light"
          }
        },
        {
          "output_type": "display_data",
          "data": {
            "text/plain": [
              "<Figure size 432x288 with 1 Axes>"
            ],
            "image/png": "[encoded data removed]"
          },
          "metadata": {
            "needs_background": "light"
          }
        }
      ]
    },
    {
      "cell_type": "markdown",
      "source": [
        "To test our model, we can now load and prepare the test data, and run an evaluation function. "
      ],
      "metadata": {
        "id": "5QXMr_L_l40Z"
      }
    },
    {
      "cell_type": "code",
      "source": [
        "tst_images = np.load(BASE_PATH+'/tstImage.npy')\n",
        "tst_label_fine = np.load(BASE_PATH+'/tstLabel_fine.npy')\n",
        "tst_label_coarse = np.load(BASE_PATH+'/tstLabel_coarse.npy')\n",
        "\n",
        "tst_images = np.transpose(tst_images, (3,0,1,2))\n",
        "tst_images = tst_images.astype(\"float32\")\n",
        "\n",
        "model.evaluate(tst_images, tst_label_coarse, verbose=1)"
      ],
      "metadata": {
        "id": "bl4S-RR7n0Mn",
        "colab": {
          "base_uri": "https://localhost:8080/"
        },
        "outputId": "6a9deeb1-6c41-4d40-84bf-4c439af6aa4b"
      },
      "execution_count": 19,
      "outputs": [
        {
          "output_type": "stream",
          "name": "stdout",
          "text": [
            "313/313 [==============================] - 3s 8ms/step - loss: 1.5082 - accuracy: 0.5274\n"
          ]
        },
        {
          "output_type": "execute_result",
          "data": {
            "text/plain": [
              "[1.5082396268844604, 0.527400016784668]"
            ]
          },
          "metadata": {},
          "execution_count": 19
        }
      ]
    },
    {
      "cell_type": "code",
      "source": [
        "model.compile(\n",
        "    optimizer='adam',\n",
        "    loss=tf.keras.losses.SparseCategoricalCrossentropy(from_logits=True),\n",
        "    metrics=['accuracy']\n",
        ")"
      ],
      "metadata": {
        "id": "RaA34eB-zjYU"
      },
      "execution_count": 20,
      "outputs": []
    },
    {
      "cell_type": "markdown",
      "source": [
        "## Fine Labels Run"
      ],
      "metadata": {
        "id": "EBvkYQCo1f7i"
      }
    },
    {
      "cell_type": "code",
      "source": [
        "history_fine = model.fit(x_train, trn_label_fine, batch_size=128, epochs=10, validation_split=0.2, verbose=1)"
      ],
      "metadata": {
        "colab": {
          "base_uri": "https://localhost:8080/"
        },
        "id": "Qd6lO86VztzP",
        "outputId": "0d4efb1c-44bf-4156-9cd6-de9ca6423b27"
      },
      "execution_count": 21,
      "outputs": [
        {
          "output_type": "stream",
          "name": "stdout",
          "text": [
            "Epoch 1/10\n",
            "313/313 [==============================] - 10s 31ms/step - loss: 4.7339 - accuracy: 0.0110 - val_loss: 4.5938 - val_accuracy: 0.0130\n",
            "Epoch 2/10\n",
            "313/313 [==============================] - 10s 32ms/step - loss: 4.5582 - accuracy: 0.0142 - val_loss: 4.3941 - val_accuracy: 0.0316\n",
            "Epoch 3/10\n",
            "313/313 [==============================] - 11s 35ms/step - loss: 4.4082 - accuracy: 0.0235 - val_loss: 4.2153 - val_accuracy: 0.0599\n",
            "Epoch 4/10\n",
            "313/313 [==============================] - 10s 32ms/step - loss: 4.2821 - accuracy: 0.0294 - val_loss: 4.0178 - val_accuracy: 0.0738\n",
            "Epoch 5/10\n",
            "313/313 [==============================] - 11s 35ms/step - loss: 4.0117 - accuracy: 0.0644 - val_loss: 3.4245 - val_accuracy: 0.1931\n",
            "Epoch 6/10\n",
            "313/313 [==============================] - 11s 34ms/step - loss: 3.4698 - accuracy: 0.1511 - val_loss: 2.9432 - val_accuracy: 0.2763\n",
            "Epoch 7/10\n",
            "313/313 [==============================] - 9s 29ms/step - loss: 3.0802 - accuracy: 0.2208 - val_loss: 2.7259 - val_accuracy: 0.3189\n",
            "Epoch 8/10\n",
            "313/313 [==============================] - 10s 31ms/step - loss: 2.8199 - accuracy: 0.2704 - val_loss: 2.5708 - val_accuracy: 0.3472\n",
            "Epoch 9/10\n",
            "313/313 [==============================] - 10s 33ms/step - loss: 2.6273 - accuracy: 0.3104 - val_loss: 2.4898 - val_accuracy: 0.3676\n",
            "Epoch 10/10\n",
            "313/313 [==============================] - 11s 35ms/step - loss: 2.4633 - accuracy: 0.3431 - val_loss: 2.3795 - val_accuracy: 0.3882\n"
          ]
        }
      ]
    },
    {
      "cell_type": "markdown",
      "source": [
        "Graphs of the Model's performance during training:"
      ],
      "metadata": {
        "id": "P1abahRd0S1I"
      }
    },
    {
      "cell_type": "code",
      "source": [
        "plt.figure()\n",
        "plt.plot(history_fine.history['accuracy'], label='accuracy')\n",
        "plt.plot(history_fine.history['val_accuracy'], label = 'val_accuracy')\n",
        "plt.title(\"Accuracy Curves\")\n",
        "plt.xlabel('Epochs')\n",
        "plt.ylabel('Accuracy')\n",
        "plt.legend()\n",
        "plt.show()\n",
        "\n",
        "plt.figure()\n",
        "plt.plot(history_fine.history['loss'], label='loss')\n",
        "plt.plot(history_fine.history['val_loss'], label='Validation loss')\n",
        "plt.title(\"Loss Curves\")\n",
        "plt.xlabel('Epochs')\n",
        "plt.ylabel('Loss')\n",
        "plt.legend()\n",
        "plt.show()"
      ],
      "metadata": {
        "colab": {
          "base_uri": "https://localhost:8080/",
          "height": 573
        },
        "outputId": "8ddc2068-969c-4869-bf98-ee41a828788b",
        "id": "dk4QbQe30Utw"
      },
      "execution_count": 22,
      "outputs": [
        {
          "output_type": "display_data",
          "data": {
            "text/plain": [
              "<Figure size 432x288 with 1 Axes>"
            ],
            "image/png": "[encoded data removed]"
          },
          "metadata": {
            "needs_background": "light"
          }
        },
        {
          "output_type": "display_data",
          "data": {
            "text/plain": [
              "<Figure size 432x288 with 1 Axes>"
            ],
            "image/png": "[encoded data removed]"
          },
          "metadata": {
            "needs_background": "light"
          }
        }
      ]
    },
    {
      "cell_type": "markdown",
      "source": [
        "Now time to evaluate the performance of the model on the fine labels."
      ],
      "metadata": {
        "id": "iQaaHHqH0g4O"
      }
    },
    {
      "cell_type": "code",
      "source": [
        "model.evaluate(tst_images, tst_label_fine, verbose=1)"
      ],
      "metadata": {
        "colab": {
          "base_uri": "https://localhost:8080/"
        },
        "outputId": "365dffc8-19c1-4d10-9b52-07bc4ee1841c",
        "id": "kG46EWY40o-s"
      },
      "execution_count": 23,
      "outputs": [
        {
          "output_type": "stream",
          "name": "stdout",
          "text": [
            "313/313 [==============================] - 3s 9ms/step - loss: 2.3531 - accuracy: 0.3938\n"
          ]
        },
        {
          "output_type": "execute_result",
          "data": {
            "text/plain": [
              "[2.3530750274658203, 0.3937999904155731]"
            ]
          },
          "metadata": {},
          "execution_count": 23
        }
      ]
    }
  ]
}