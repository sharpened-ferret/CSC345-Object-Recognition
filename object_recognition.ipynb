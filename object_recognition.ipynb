{
  "nbformat": 4,
  "nbformat_minor": 0,
  "metadata": {
    "colab": {
      "name": "object_recognition.ipynb",
      "provenance": [],
      "collapsed_sections": [],
      "mount_file_id": "1jilcSF-uqRnzhOyHWtxW7DPPs353DNrH",
      "authorship_tag": "ABX9TyOa3wpaHsJiYb17t6CezwMR",
      "include_colab_link": true
    },
    "kernelspec": {
      "name": "python3",
      "display_name": "Python 3"
    },
    "language_info": {
      "name": "python"
    },
    "accelerator": "GPU"
  },
  "cells": [
    {
      "cell_type": "markdown",
      "metadata": {
        "id": "view-in-github",
        "colab_type": "text"
      },
      "source": [
        "<a href=\"https://colab.research.google.com/github/sharpened-ferret/CSC345-Object-Recognition/blob/main/object_recognition.ipynb\" target=\"_parent\"><img src=\"https://colab.research.google.com/assets/colab-badge.svg\" alt=\"Open In Colab\"/></a>"
      ]
    },
    {
      "cell_type": "markdown",
      "source": [
        "# CSC345: Object Recognition Coursework\n",
        "This notebook details an object recognition method for a subset of the CIFAR-100 dataset"
      ],
      "metadata": {
        "id": "XGWzYNDMXIFX"
      }
    },
    {
      "cell_type": "code",
      "execution_count": 1,
      "metadata": {
        "id": "2JkCBzJYUsQ1"
      },
      "outputs": [],
      "source": [
        "import numpy as np\n",
        "import matplotlib.pyplot as plt\n",
        "import skimage.feature\n",
        "\n",
        "BASE_PATH = '/content/drive/MyDrive/Colab Notebooks/cw_data/'"
      ]
    },
    {
      "cell_type": "markdown",
      "source": [
        "Loads the training data"
      ],
      "metadata": {
        "id": "paJo85UdWuKo"
      }
    },
    {
      "cell_type": "code",
      "source": [
        "trn_images = np.load(BASE_PATH+'/trnImage.npy')\n",
        "trn_label_fine = np.load(BASE_PATH+'/trnLabel_fine.npy')\n",
        "trn_label_coarse = np.load(BASE_PATH+'/trnLabel_coarse.npy')\n",
        "\n",
        "# trn_label_coarse = tf.keras.utils.to_categorical(trn_label_coarse, 20)\n",
        "\n",
        "print(f'Images Shape: {trn_images.shape}')\n",
        "print(f'Images Fine Labels Shape: {trn_label_fine.shape}')\n",
        "print(f'Images Coarse Labels Shape: {trn_label_coarse.shape}')\n",
        "image_index = 2 # pick a specific image\n",
        "image = trn_images[:, :, :, image_index]"
      ],
      "metadata": {
        "colab": {
          "base_uri": "https://localhost:8080/"
        },
        "id": "JipYl4AMWpR6",
        "outputId": "a34bd490-ce70-4fe6-d6e1-fcd57c599208"
      },
      "execution_count": 19,
      "outputs": [
        {
          "output_type": "stream",
          "name": "stdout",
          "text": [
            "Images Shape: (32, 32, 3, 50000)\n",
            "Images Fine Labels Shape: (50000,)\n",
            "Images Coarse Labels Shape: (50000,)\n"
          ]
        }
      ]
    },
    {
      "cell_type": "code",
      "source": [
        "print(trn_images.shape)\n",
        "trn_images = np.transpose(trn_images, (3,0,1,2))\n",
        "print(trn_images.shape)"
      ],
      "metadata": {
        "colab": {
          "base_uri": "https://localhost:8080/"
        },
        "id": "SspcgenEUbI1",
        "outputId": "183b9d91-ef80-4f3b-80cb-4bbfcca245d1"
      },
      "execution_count": 20,
      "outputs": [
        {
          "output_type": "stream",
          "name": "stdout",
          "text": [
            "(32, 32, 3, 50000)\n",
            "(50000, 32, 32, 3)\n"
          ]
        }
      ]
    },
    {
      "cell_type": "code",
      "source": [
        "import tensorflow as tf\n",
        "\n",
        "x_train = trn_images.astype(\"float32\")\n",
        "print(x_train.shape)\n",
        "\n",
        "model = tf.keras.Sequential()\n",
        "model.add(tf.keras.layers.Conv2D(64, kernel_size=(3,3), activation='relu', input_shape=(32,32,3)))\n",
        "model.add(tf.keras.layers.MaxPooling2D(pool_size=(2,2)))\n",
        "model.add(tf.keras.layers.Conv2D(128, 3, activation='relu'))\n",
        "model.add(tf.keras.layers.MaxPooling2D(pool_size=(2, 2)))\n",
        "model.add(tf.keras.layers.Conv2D(128, kernel_size=(3, 3), activation='relu'))\n",
        "model.add(tf.keras.layers.Flatten())\n",
        "model.add(tf.keras.layers.Dense(128, activation='relu'))\n",
        "model.add(tf.keras.layers.Dense(100))\n",
        "\n",
        "model.compile(\n",
        "    optimizer='adam',\n",
        "    loss=tf.keras.losses.SparseCategoricalCrossentropy(from_logits=True),\n",
        "    metrics=['accuracy']\n",
        ")"
      ],
      "metadata": {
        "colab": {
          "base_uri": "https://localhost:8080/"
        },
        "id": "tn46d63uK3Hg",
        "outputId": "e7b57b15-e9a9-4432-dea6-f7dd29d6aecf"
      },
      "execution_count": 37,
      "outputs": [
        {
          "output_type": "stream",
          "name": "stdout",
          "text": [
            "(50000, 32, 32, 3)\n"
          ]
        }
      ]
    },
    {
      "cell_type": "code",
      "source": [
        "history = model.fit(x_train, trn_label_fine, batch_size=128, epochs=10, validation_split=0.2, verbose=1)"
      ],
      "metadata": {
        "colab": {
          "base_uri": "https://localhost:8080/"
        },
        "id": "w8OcvM1VMFni",
        "outputId": "0ff3fe47-ae2b-45ec-a009-7027fa664dbe"
      },
      "execution_count": 38,
      "outputs": [
        {
          "output_type": "stream",
          "name": "stdout",
          "text": [
            "Epoch 1/10\n",
            "313/313 [==============================] - 7s 22ms/step - loss: 4.1245 - accuracy: 0.0693 - val_loss: 3.6880 - val_accuracy: 0.1356\n",
            "Epoch 2/10\n",
            "313/313 [==============================] - 6s 18ms/step - loss: 3.5049 - accuracy: 0.1689 - val_loss: 3.4362 - val_accuracy: 0.1863\n",
            "Epoch 3/10\n",
            "313/313 [==============================] - 6s 18ms/step - loss: 3.1637 - accuracy: 0.2323 - val_loss: 3.0998 - val_accuracy: 0.2479\n",
            "Epoch 4/10\n",
            "313/313 [==============================] - 6s 18ms/step - loss: 2.9152 - accuracy: 0.2782 - val_loss: 2.9166 - val_accuracy: 0.2814\n",
            "Epoch 5/10\n",
            "313/313 [==============================] - 6s 18ms/step - loss: 2.7367 - accuracy: 0.3138 - val_loss: 2.7854 - val_accuracy: 0.3069\n",
            "Epoch 6/10\n",
            "313/313 [==============================] - 6s 18ms/step - loss: 2.5667 - accuracy: 0.3481 - val_loss: 2.7807 - val_accuracy: 0.3048\n",
            "Epoch 7/10\n",
            "313/313 [==============================] - 6s 18ms/step - loss: 2.4402 - accuracy: 0.3745 - val_loss: 2.6354 - val_accuracy: 0.3378\n",
            "Epoch 8/10\n",
            "313/313 [==============================] - 6s 18ms/step - loss: 2.3180 - accuracy: 0.3982 - val_loss: 2.6416 - val_accuracy: 0.3372\n",
            "Epoch 9/10\n",
            "313/313 [==============================] - 6s 18ms/step - loss: 2.2074 - accuracy: 0.4252 - val_loss: 2.6154 - val_accuracy: 0.3495\n",
            "Epoch 10/10\n",
            "313/313 [==============================] - 6s 18ms/step - loss: 2.1139 - accuracy: 0.4430 - val_loss: 2.5198 - val_accuracy: 0.3651\n"
          ]
        }
      ]
    },
    {
      "cell_type": "markdown",
      "source": [
        "Graphs of the Model's performance during training:"
      ],
      "metadata": {
        "id": "FJXiqsEAXMvI"
      }
    },
    {
      "cell_type": "code",
      "source": [
        "plt.figure()\n",
        "plt.plot(history.history['accuracy'], label='accuracy')\n",
        "plt.plot(history.history['val_accuracy'], label = 'val_accuracy')\n",
        "plt.title(\"Accuracy Curves\")\n",
        "plt.xlabel('Epochs')\n",
        "plt.ylabel('Accuracy')\n",
        "plt.legend()\n",
        "plt.show()\n",
        "\n",
        "plt.figure()\n",
        "plt.plot(history.history['loss'], label='loss')\n",
        "plt.plot(history.history['val_loss'], label='Validation loss')\n",
        "plt.title(\"Loss Curves\")\n",
        "plt.xlabel('Epochs')\n",
        "plt.ylabel('Loss')\n",
        "plt.legend()\n",
        "plt.show()"
      ],
      "metadata": {
        "id": "3YoLj5YYWUiw",
        "colab": {
          "base_uri": "https://localhost:8080/",
          "height": 573
        },
        "outputId": "abcc5774-d238-4bb7-b31a-f3ad2baa0b14"
      },
      "execution_count": 33,
      "outputs": [
        {
          "output_type": "display_data",
          "data": {
            "text/plain": [
              "<Figure size 432x288 with 1 Axes>"
            ],
            "image/png": "[encoded data removed]"
          },
          "metadata": {
            "needs_background": "light"
          }
        },
        {
          "output_type": "display_data",
          "data": {
            "text/plain": [
              "<Figure size 432x288 with 1 Axes>"
            ],
            "image/png": "[encoded data removed]"
          },
          "metadata": {
            "needs_background": "light"
          }
        }
      ]
    },
    {
      "cell_type": "code",
      "source": [
        "tst_images = np.load(BASE_PATH+'/tstImage.npy')\n",
        "tst_label_fine = np.load(BASE_PATH+'/tstLabel_fine.npy')\n",
        "tst_label_coarse = np.load(BASE_PATH+'/tstLabel_coarse.npy')\n",
        "\n",
        "tst_images = np.transpose(tst_images, (3,0,1,2))\n",
        "tst_images = tst_images.astype(\"float32\")\n",
        "print(tst_images.shape)\n",
        "print(tst_label_coarse.shape)\n",
        "\n",
        "model.evaluate(tst_images, tst_label_coarse, verbose=1)"
      ],
      "metadata": {
        "id": "bl4S-RR7n0Mn",
        "colab": {
          "base_uri": "https://localhost:8080/"
        },
        "outputId": "1946a201-a78f-4c2e-bc75-0d9b017c5468"
      },
      "execution_count": 30,
      "outputs": [
        {
          "output_type": "stream",
          "name": "stdout",
          "text": [
            "(10000, 32, 32, 3)\n",
            "(10000,)\n",
            "313/313 [==============================] - 2s 6ms/step - loss: 2.0648 - accuracy: 0.4927\n"
          ]
        },
        {
          "output_type": "execute_result",
          "data": {
            "text/plain": [
              "[2.064784049987793, 0.4927000105381012]"
            ]
          },
          "metadata": {},
          "execution_count": 30
        }
      ]
    }
  ]
}