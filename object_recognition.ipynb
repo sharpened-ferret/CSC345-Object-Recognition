{
  "nbformat": 4,
  "nbformat_minor": 0,
  "metadata": {
    "colab": {
      "name": "object_recognition.ipynb",
      "provenance": [],
      "collapsed_sections": [],
      "mount_file_id": "1jilcSF-uqRnzhOyHWtxW7DPPs353DNrH",
      "authorship_tag": "ABX9TyPjwjy/T3wr5gkHLCdA9Qv5",
      "include_colab_link": true
    },
    "kernelspec": {
      "name": "python3",
      "display_name": "Python 3"
    },
    "language_info": {
      "name": "python"
    },
    "accelerator": "GPU"
  },
  "cells": [
    {
      "cell_type": "markdown",
      "metadata": {
        "id": "view-in-github",
        "colab_type": "text"
      },
      "source": [
        "<a href=\"https://colab.research.google.com/github/sharpened-ferret/CSC345-Object-Recognition/blob/main/object_recognition.ipynb\" target=\"_parent\"><img src=\"https://colab.research.google.com/assets/colab-badge.svg\" alt=\"Open In Colab\"/></a>"
      ]
    },
    {
      "cell_type": "markdown",
      "source": [
        "# CSC345: Object Recognition Coursework\n",
        "This notebook details an object recognition method for a subset of the CIFAR-100 dataset"
      ],
      "metadata": {
        "id": "XGWzYNDMXIFX"
      }
    },
    {
      "cell_type": "code",
      "execution_count": 2,
      "metadata": {
        "id": "2JkCBzJYUsQ1"
      },
      "outputs": [],
      "source": [
        "import numpy as np\n",
        "import matplotlib.pyplot as plt\n",
        "import skimage.feature\n",
        "\n",
        "BASE_PATH = '/content/drive/MyDrive/Colab Notebooks/cw_data/'"
      ]
    },
    {
      "cell_type": "markdown",
      "source": [
        "Loads the training data"
      ],
      "metadata": {
        "id": "paJo85UdWuKo"
      }
    },
    {
      "cell_type": "code",
      "source": [
        "trn_images = np.load(BASE_PATH+'/trnImage.npy')\n",
        "trn_label_fine = np.load(BASE_PATH+'/trnLabel_fine.npy')\n",
        "trn_label_coarse = np.load(BASE_PATH+'/trnLabel_coarse.npy')\n",
        "\n",
        "# trn_label_coarse = tf.keras.utils.to_categorical(trn_label_coarse, 20)\n",
        "\n",
        "print(f'Images Shape: {trn_images.shape}')\n",
        "print(f'Images Fine Labels Shape: {trn_label_fine.shape}')\n",
        "print(f'Images Coarse Labels Shape: {trn_label_coarse.shape}')\n",
        "image_index = 2 # pick a specific image\n",
        "image = trn_images[:, :, :, image_index]"
      ],
      "metadata": {
        "colab": {
          "base_uri": "https://localhost:8080/"
        },
        "id": "JipYl4AMWpR6",
        "outputId": "96ad44ea-1118-4d42-88a4-0028edd6bb6d"
      },
      "execution_count": 3,
      "outputs": [
        {
          "output_type": "stream",
          "name": "stdout",
          "text": [
            "Images Shape: (32, 32, 3, 50000)\n",
            "Images Fine Labels Shape: (50000,)\n",
            "Images Coarse Labels Shape: (50000,)\n"
          ]
        }
      ]
    },
    {
      "cell_type": "code",
      "source": [
        "print(trn_images.shape)\n",
        "trn_images = np.transpose(trn_images, (3,0,1,2))\n",
        "print(trn_images.shape)"
      ],
      "metadata": {
        "colab": {
          "base_uri": "https://localhost:8080/"
        },
        "id": "SspcgenEUbI1",
        "outputId": "13672495-bef0-4415-f8ef-6c4e6dd8416a"
      },
      "execution_count": 4,
      "outputs": [
        {
          "output_type": "stream",
          "name": "stdout",
          "text": [
            "(32, 32, 3, 50000)\n",
            "(50000, 32, 32, 3)\n"
          ]
        }
      ]
    },
    {
      "cell_type": "code",
      "source": [
        "import tensorflow as tf\n",
        "\n",
        "x_train = trn_images.astype(\"float32\")\n",
        "print(x_train.shape)\n",
        "\n",
        "model = tf.keras.Sequential()\n",
        "model.add(tf.keras.layers.Conv2D(64, kernel_size=(3,3), activation='relu', input_shape=(32,32,3), padding=\"same\"))\n",
        "model.add(tf.keras.layers.MaxPooling2D(pool_size=(2,2)))\n",
        "model.add(tf.keras.layers.Conv2D(128, 3, activation='relu'))\n",
        "model.add(tf.keras.layers.AveragePooling2D(pool_size=(2, 2)))\n",
        "model.add(tf.keras.layers.Conv2D(256, kernel_size=(3, 3), activation='relu'))\n",
        "model.add(tf.keras.layers.Flatten())\n",
        "model.add(tf.keras.layers.Dense(128, activation='relu'))\n",
        "model.add(tf.keras.layers.Dropout(0.5))\n",
        "model.add(tf.keras.layers.Dense(100))\n",
        "\n",
        "model.compile(\n",
        "    optimizer='adam',\n",
        "    loss=tf.keras.losses.SparseCategoricalCrossentropy(from_logits=True),\n",
        "    metrics=['accuracy']\n",
        ")"
      ],
      "metadata": {
        "colab": {
          "base_uri": "https://localhost:8080/"
        },
        "id": "tn46d63uK3Hg",
        "outputId": "cfff7deb-629c-4c96-ae90-b46163702f0d"
      },
      "execution_count": 40,
      "outputs": [
        {
          "output_type": "stream",
          "name": "stdout",
          "text": [
            "(50000, 32, 32, 3)\n"
          ]
        }
      ]
    },
    {
      "cell_type": "code",
      "source": [
        "history = model.fit(x_train, trn_label_fine, batch_size=128, epochs=20, validation_split=0.2, verbose=1)"
      ],
      "metadata": {
        "colab": {
          "base_uri": "https://localhost:8080/"
        },
        "id": "w8OcvM1VMFni",
        "outputId": "6c650cc1-2545-4fe7-d068-53b9000d243e"
      },
      "execution_count": 41,
      "outputs": [
        {
          "output_type": "stream",
          "name": "stdout",
          "text": [
            "Epoch 1/20\n",
            "313/313 [==============================] - 9s 26ms/step - loss: 4.3424 - accuracy: 0.0407 - val_loss: 3.9392 - val_accuracy: 0.1059\n",
            "Epoch 2/20\n",
            "313/313 [==============================] - 7s 22ms/step - loss: 3.9001 - accuracy: 0.0951 - val_loss: 3.5591 - val_accuracy: 0.1633\n",
            "Epoch 3/20\n",
            "313/313 [==============================] - 7s 22ms/step - loss: 3.6091 - accuracy: 0.1438 - val_loss: 3.3151 - val_accuracy: 0.2131\n",
            "Epoch 4/20\n",
            "313/313 [==============================] - 7s 22ms/step - loss: 3.4002 - accuracy: 0.1796 - val_loss: 3.1307 - val_accuracy: 0.2409\n",
            "Epoch 5/20\n",
            "313/313 [==============================] - 7s 24ms/step - loss: 3.2498 - accuracy: 0.2053 - val_loss: 2.9278 - val_accuracy: 0.2826\n",
            "Epoch 6/20\n",
            "313/313 [==============================] - 7s 22ms/step - loss: 3.1049 - accuracy: 0.2334 - val_loss: 2.8259 - val_accuracy: 0.2987\n",
            "Epoch 7/20\n",
            "313/313 [==============================] - 7s 22ms/step - loss: 2.9886 - accuracy: 0.2539 - val_loss: 2.8055 - val_accuracy: 0.3094\n",
            "Epoch 8/20\n",
            "313/313 [==============================] - 7s 24ms/step - loss: 2.9012 - accuracy: 0.2702 - val_loss: 2.7337 - val_accuracy: 0.3159\n",
            "Epoch 9/20\n",
            "313/313 [==============================] - 7s 22ms/step - loss: 2.8068 - accuracy: 0.2921 - val_loss: 2.6671 - val_accuracy: 0.3333\n",
            "Epoch 10/20\n",
            "313/313 [==============================] - 7s 24ms/step - loss: 2.7130 - accuracy: 0.3053 - val_loss: 2.5966 - val_accuracy: 0.3438\n",
            "Epoch 11/20\n",
            "313/313 [==============================] - 7s 22ms/step - loss: 2.6431 - accuracy: 0.3219 - val_loss: 2.5757 - val_accuracy: 0.3462\n",
            "Epoch 12/20\n",
            "313/313 [==============================] - 7s 22ms/step - loss: 2.5521 - accuracy: 0.3388 - val_loss: 2.4933 - val_accuracy: 0.3642\n",
            "Epoch 13/20\n",
            "313/313 [==============================] - 7s 22ms/step - loss: 2.4825 - accuracy: 0.3492 - val_loss: 2.4911 - val_accuracy: 0.3682\n",
            "Epoch 14/20\n",
            "313/313 [==============================] - 7s 22ms/step - loss: 2.4182 - accuracy: 0.3641 - val_loss: 2.4510 - val_accuracy: 0.3792\n",
            "Epoch 15/20\n",
            "313/313 [==============================] - 7s 22ms/step - loss: 2.3567 - accuracy: 0.3726 - val_loss: 2.4693 - val_accuracy: 0.3768\n",
            "Epoch 16/20\n",
            "313/313 [==============================] - 7s 24ms/step - loss: 2.2766 - accuracy: 0.3898 - val_loss: 2.4205 - val_accuracy: 0.3858\n",
            "Epoch 17/20\n",
            "313/313 [==============================] - 7s 24ms/step - loss: 2.2158 - accuracy: 0.4024 - val_loss: 2.4490 - val_accuracy: 0.3819\n",
            "Epoch 18/20\n",
            "313/313 [==============================] - 7s 22ms/step - loss: 2.1608 - accuracy: 0.4125 - val_loss: 2.4422 - val_accuracy: 0.3839\n",
            "Epoch 19/20\n",
            "313/313 [==============================] - 7s 24ms/step - loss: 2.1009 - accuracy: 0.4238 - val_loss: 2.4415 - val_accuracy: 0.3798\n",
            "Epoch 20/20\n",
            "313/313 [==============================] - 7s 22ms/step - loss: 2.0374 - accuracy: 0.4357 - val_loss: 2.4113 - val_accuracy: 0.3955\n"
          ]
        }
      ]
    },
    {
      "cell_type": "markdown",
      "source": [
        "Graphs of the Model's performance during training:"
      ],
      "metadata": {
        "id": "FJXiqsEAXMvI"
      }
    },
    {
      "cell_type": "code",
      "source": [
        "plt.figure()\n",
        "plt.plot(history.history['accuracy'], label='accuracy')\n",
        "plt.plot(history.history['val_accuracy'], label = 'val_accuracy')\n",
        "plt.title(\"Accuracy Curves\")\n",
        "plt.xlabel('Epochs')\n",
        "plt.ylabel('Accuracy')\n",
        "plt.legend()\n",
        "plt.show()\n",
        "\n",
        "plt.figure()\n",
        "plt.plot(history.history['loss'], label='loss')\n",
        "plt.plot(history.history['val_loss'], label='Validation loss')\n",
        "plt.title(\"Loss Curves\")\n",
        "plt.xlabel('Epochs')\n",
        "plt.ylabel('Loss')\n",
        "plt.legend()\n",
        "plt.show()"
      ],
      "metadata": {
        "id": "3YoLj5YYWUiw",
        "colab": {
          "base_uri": "https://localhost:8080/",
          "height": 573
        },
        "outputId": "1e3aa029-df2c-489b-dab0-797077d97274"
      },
      "execution_count": 42,
      "outputs": [
        {
          "output_type": "display_data",
          "data": {
            "text/plain": [
              "<Figure size 432x288 with 1 Axes>"
            ],
            "image/png": "[encoded data removed]"
          },
          "metadata": {
            "needs_background": "light"
          }
        },
        {
          "output_type": "display_data",
          "data": {
            "text/plain": [
              "<Figure size 432x288 with 1 Axes>"
            ],
            "image/png": "[encoded data removed]"
          },
          "metadata": {
            "needs_background": "light"
          }
        }
      ]
    },
    {
      "cell_type": "code",
      "source": [
        "tst_images = np.load(BASE_PATH+'/tstImage.npy')\n",
        "tst_label_fine = np.load(BASE_PATH+'/tstLabel_fine.npy')\n",
        "tst_label_coarse = np.load(BASE_PATH+'/tstLabel_coarse.npy')\n",
        "\n",
        "tst_images = np.transpose(tst_images, (3,0,1,2))\n",
        "tst_images = tst_images.astype(\"float32\")\n",
        "print(tst_images.shape)\n",
        "print(tst_label_coarse.shape)\n",
        "\n",
        "model.evaluate(tst_images, tst_label_fine, verbose=1)"
      ],
      "metadata": {
        "id": "bl4S-RR7n0Mn",
        "colab": {
          "base_uri": "https://localhost:8080/"
        },
        "outputId": "74994604-a444-4e28-cf6a-946a3fd43d6b"
      },
      "execution_count": 43,
      "outputs": [
        {
          "output_type": "stream",
          "name": "stdout",
          "text": [
            "(10000, 32, 32, 3)\n",
            "(10000,)\n",
            "313/313 [==============================] - 2s 6ms/step - loss: 2.3723 - accuracy: 0.4029\n"
          ]
        },
        {
          "output_type": "execute_result",
          "data": {
            "text/plain": [
              "[2.3723132610321045, 0.40290001034736633]"
            ]
          },
          "metadata": {},
          "execution_count": 43
        }
      ]
    }
  ]
}